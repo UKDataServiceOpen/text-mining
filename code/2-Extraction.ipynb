{
 "cells": [
  {
   "cell_type": "markdown",
   "metadata": {},
   "source": [
    "![UKDS Logo](images/UKDS_Logos_Col_Grey_300dpi.png)"
   ]
  },
  {
   "cell_type": "markdown",
   "metadata": {
    "slideshow": {
     "slide_type": "-"
    }
   },
   "source": [
    "# Text-mining: Basics"
   ]
  },
  {
   "cell_type": "markdown",
   "metadata": {},
   "source": [
    "Welcome to this <a href=\"https://ukdataservice.ac.uk/\" target=_blank>UK Data Service</a> *Computational Social Science* training series! \n",
    "\n",
    "The various *Computational Social Science* training series, all of which guide you through some of the popular and useful computational techniques, tools, methods and concepts that social science research might want to use. For example, this series covers collecting data from websites and social media platorms, working with text data, conducting simulations (agent based modelling), and more. The series includes recorded video webinars, interactive notebooks containing live programming code, reading lists and more.\n",
    "\n",
    "* To access training materials on our GitHub site: <a href=\"https://github.com/UKDataServiceOpen/computational-social-science\" target=_blank>[Training Materials]</a>\n",
    "\n",
    "* To keep up to date with upcoming and past training events: <a href=\"https://ukdataservice.ac.uk/news-and-events/events\" target=_blank>[Events]</a>\n",
    "\n",
    "* To get in contact with feedback, ideas or to seek assistance: <a href=\"https://ukdataservice.ac.uk/help.aspx\" target=_blank>[Help]</a>\n",
    "\n",
    "<a href=\"https://www.research.manchester.ac.uk/portal/julia.kasmire.html\" target=_blank>Dr J. Kasmire</a>  <br />\n",
    "UK Data Service  <br />\n",
    "University of Manchester <br />"
   ]
  },
  {
   "cell_type": "markdown",
   "metadata": {
    "toc": true
   },
   "source": [
    "<h1>Table of Contents<span class=\"tocSkip\"></span></h1>\n",
    "<div class=\"toc\"><ul class=\"toc-item\"><li><span><a href=\"#Introduction\" data-toc-modified-id=\"Introduction-1\"><span class=\"toc-item-num\">1&nbsp;&nbsp;</span>Introduction</a></span><ul class=\"toc-item\"><li><span><a href=\"#Guide-to-using-this-resource\" data-toc-modified-id=\"Guide-to-using-this-resource-1.1\"><span class=\"toc-item-num\">1.1&nbsp;&nbsp;</span>Guide to using this resource</a></span></li><li><span><a href=\"#Interaction\" data-toc-modified-id=\"Interaction-1.2\"><span class=\"toc-item-num\">1.2&nbsp;&nbsp;</span>Interaction</a></span></li><li><span><a href=\"#Learn-more\" data-toc-modified-id=\"Learn-more-1.3\"><span class=\"toc-item-num\">1.3&nbsp;&nbsp;</span>Learn more</a></span></li></ul></li><li><span><a href=\"#Preliminary-NLP-(or-finishing-up-the-processing)\" data-toc-modified-id=\"Preliminary-NLP-(or-finishing-up-the-processing)-2\"><span class=\"toc-item-num\">2&nbsp;&nbsp;</span>Preliminary NLP (or finishing up the processing)</a></span><ul class=\"toc-item\"><li><span><a href=\"#POS---part-of-speech-tagging\" data-toc-modified-id=\"POS---part-of-speech-tagging-2.1\"><span class=\"toc-item-num\">2.1&nbsp;&nbsp;</span>POS - part of speech tagging</a></span></li><li><span><a href=\"#Named-Entity-Recogntion-and-chunking\" data-toc-modified-id=\"Named-Entity-Recogntion-and-chunking-2.2\"><span class=\"toc-item-num\">2.2&nbsp;&nbsp;</span>Named Entity Recogntion and chunking</a></span></li></ul></li><li><span><a href=\"#Counts-and-(relative)-frequency\" data-toc-modified-id=\"Counts-and-(relative)-frequency-3\"><span class=\"toc-item-num\">3&nbsp;&nbsp;</span>Counts and (relative) frequency</a></span></li><li><span><a href=\"#Similarity\" data-toc-modified-id=\"Similarity-4\"><span class=\"toc-item-num\">4&nbsp;&nbsp;</span>Similarity</a></span></li><li><span><a href=\"#Discovery\" data-toc-modified-id=\"Discovery-5\"><span class=\"toc-item-num\">5&nbsp;&nbsp;</span>Discovery</a></span></li><li><span><a href=\"#Conclusions\" data-toc-modified-id=\"Conclusions-6\"><span class=\"toc-item-num\">6&nbsp;&nbsp;</span>Conclusions</a></span></li><li><span><a href=\"#Further-reading-and-resources\" data-toc-modified-id=\"Further-reading-and-resources-7\"><span class=\"toc-item-num\">7&nbsp;&nbsp;</span>Further reading and resources</a></span></li></ul></div>"
   ]
  },
  {
   "cell_type": "markdown",
   "metadata": {},
   "source": [
    "\n",
    "There is a table of contents provided here at the top of the notebook, but you can also access this menu at any point by clicking the Table of Contents button on the top toolbar (an icon with four horizontal bars, if unsure hover your mouse over the buttons). "
   ]
  },
  {
   "cell_type": "markdown",
   "metadata": {},
   "source": [
    "-------------------------------------\n",
    "\n",
    "<div style=\"text-align: center\"><i><b>This is notebook 2 of 2 in this lesson</i></b></div>\n",
    "\n",
    "-------------------------------------"
   ]
  },
  {
   "cell_type": "markdown",
   "metadata": {},
   "source": [
    "## Introduction"
   ]
  },
  {
   "cell_type": "markdown",
   "metadata": {},
   "source": [
    "At the end of the last section, we got held up by the need to do part-of-speech (POS) tagging in order to get a really effective lemmatisation process. POS tagging is actually basic NLP, as opposed to the kind of cleaning and regularising that we were doing in the last section. So why should a NLP process be needed before the preparatory processing is done? \n",
    "\n",
    "Well, it comes done to choices. Not every analysis will need a sophisticated lemmatiser, so those projects may have a nice finish to the processing step and the start of the extraction or NLP step. Others willneed the lemmatiser or name entity recognisers or other advanced preparatory steps. Those projects will have a less clear distinction between preparation for NLP and NLP. \n",
    "\n",
    "But even if the project ends up having a clear distinction between the processes, researchers may find that after they start doing some NLP processes, they need to go back and run different preparatory processes instead of or in addition to the ones they chose earlier. \n",
    "\n",
    "The main takeaway point here is that researchers need to know that developing a text-mining project can be messy, iterative, and complicated. I recommend that you think about each step as elements in a pipeline (or in multiple pipelines). I recommend that you build your own code functions that concatenate the steps, running each one from the output of the previous one. \n",
    "\n",
    "In this way, you get a fresh clean output at the end of the pipeline each time whenever you need one. It also means that everything you apply the pipeline to gets treated in the same way, with each process done in the same order. This helps replicability!\n"
   ]
  },
  {
   "cell_type": "markdown",
   "metadata": {},
   "source": [
    "### Guide to using this resource\n",
    "\n",
    "This learning resource was built using <a href=\"https://jupyter.org/\" target=_blank>Jupyter Notebook</a>, an open-source software application that allows you to mix code, results and narrative in a single document. As <a href=\"https://jupyter4edu.github.io/jupyter-edu-book/\" target=_blank>Barba et al. (2019)</a> espouse:\n",
    "> In a world where every subject matter can have a data-supported treatment, where computational devices are omnipresent and pervasive, the union of natural language and computation creates compelling communication and learning opportunities.\n",
    "\n",
    "If you are familiar with Jupyter notebooks then skip ahead to the main content (*Preliminary NLP*). Otherwise, the following is a quick guide to navigating and interacting with the notebook."
   ]
  },
  {
   "cell_type": "markdown",
   "metadata": {},
   "source": [
    "### Interaction\n",
    "\n",
    "**You only need to execute the code that is contained in sections which are marked by `In []`.**\n",
    "\n",
    "To execute a cell, click or double-click the cell and press the `Run` button on the top toolbar (you can also use the keyboard shortcut Shift + Enter).\n",
    "\n",
    "Try it for yourself:"
   ]
  },
  {
   "cell_type": "code",
   "execution_count": null,
   "metadata": {},
   "outputs": [],
   "source": [
    "print(\"Enter your name and press enter:\")\n",
    "name = input()\n",
    "print(\"\\r\")\n",
    "print(\"Hello {}, enjoy learning more about Python and computational social science!\".format(name)) "
   ]
  },
  {
   "cell_type": "markdown",
   "metadata": {},
   "source": [
    "### Learn more\n",
    "\n",
    "Jupyter notebooks provide rich, flexible features for conducting and documenting your data analysis workflow. To learn more about additional notebook features, we recommend working through some of the <a href=\"https://github.com/darribas/gds19/blob/master/content/labs/lab_00.ipynb\" target=_blank>materials</a> provided by Dani Arribas-Bel at the University of Liverpool."
   ]
  },
  {
   "cell_type": "markdown",
   "metadata": {},
   "source": [
    "## Preliminary NLP (or finishing up the processing)"
   ]
  },
  {
   "cell_type": "markdown",
   "metadata": {},
   "source": [
    "Let's start off by importing and downloading all the things we will need. \n",
    "\n",
    "Run/Shift+Enter."
   ]
  },
  {
   "cell_type": "code",
   "execution_count": 1,
   "metadata": {},
   "outputs": [
    {
     "name": "stdout",
     "output_type": "stream",
     "text": [
      "Requirement already satisfied: autocorrect in c:\\python39\\lib\\site-packages (2.6.1)\n"
     ]
    },
    {
     "name": "stderr",
     "output_type": "stream",
     "text": [
      "WARNING: Ignoring invalid distribution -ip (c:\\python39\\lib\\site-packages)\n",
      "WARNING: Ignoring invalid distribution -ip (c:\\python39\\lib\\site-packages)\n",
      "WARNING: Ignoring invalid distribution -ip (c:\\python39\\lib\\site-packages)\n",
      "WARNING: Ignoring invalid distribution -ip (c:\\python39\\lib\\site-packages)\n",
      "WARNING: Ignoring invalid distribution -ip (c:\\python39\\lib\\site-packages)\n",
      "WARNING: Ignoring invalid distribution -ip (c:\\python39\\lib\\site-packages)\n",
      "[nltk_data] Downloading package stopwords to\n",
      "[nltk_data]     C:\\Users\\mzyssjkc\\AppData\\Roaming\\nltk_data...\n",
      "[nltk_data]   Package stopwords is already up-to-date!\n",
      "[nltk_data] Downloading package punkt to\n",
      "[nltk_data]     C:\\Users\\mzyssjkc\\AppData\\Roaming\\nltk_data...\n",
      "[nltk_data]   Package punkt is already up-to-date!\n",
      "[nltk_data] Downloading package wordnet to\n",
      "[nltk_data]     C:\\Users\\mzyssjkc\\AppData\\Roaming\\nltk_data...\n",
      "[nltk_data]   Package wordnet is already up-to-date!\n",
      "[nltk_data] Downloading package webtext to\n",
      "[nltk_data]     C:\\Users\\mzyssjkc\\AppData\\Roaming\\nltk_data...\n"
     ]
    },
    {
     "name": "stdout",
     "output_type": "stream",
     "text": [
      "Succesfully imported necessary modules\n"
     ]
    },
    {
     "name": "stderr",
     "output_type": "stream",
     "text": [
      "[nltk_data]   Package webtext is already up-to-date!\n",
      "[nltk_data] Downloading package averaged_perceptron_tagger to\n",
      "[nltk_data]     C:\\Users\\mzyssjkc\\AppData\\Roaming\\nltk_data...\n",
      "[nltk_data]   Package averaged_perceptron_tagger is already up-to-\n",
      "[nltk_data]       date!\n"
     ]
    }
   ],
   "source": [
    "import nltk                       # get nltk \n",
    "from nltk import word_tokenize    # and some of its key functions\n",
    "from nltk import sent_tokenize    \n",
    "\n",
    "!pip install autocorrect          \n",
    "from autocorrect import Speller   # things we need for spell checking\n",
    "check = Speller(lang='en')\n",
    "\n",
    "import re                         # things we need for RegEx corrections\n",
    "def multiple_replace(dict, text):\n",
    "  regex = re.compile(\"(%s)\" % \"|\".join(map(re.escape, dict.keys())))\n",
    "  return regex.sub(lambda mo: dict[mo.string[mo.start():mo.end()]], text) \n",
    "\n",
    "if __name__ == \"__main__\": \n",
    "  dict = {\n",
    "    \"CA\" : \"California\",\n",
    "    \"United Kingdom\" : \"U.K.\",\n",
    "    \"United Kingdom of Great Britain and Northern Ireland\" : \"U.K.\",\n",
    "    \"United Kingdom of Great Britain\" : \"U.K.\",\n",
    "    \"UK\" : \"U.K.\",\n",
    "    \"Privacy Policy\" : \"noodle soup\",}\n",
    "\n",
    "English_punctuation = \"-!\\\"#$%&()'*+,./:;<=>?@[\\]^_`{|}~''“”\"      # Things for removing punctuation, stopwords and empty strings\n",
    "table_punctuation = str.maketrans('','', English_punctuation)  \n",
    "\n",
    "nltk.download('stopwords')\n",
    "nltk.download('punkt')\n",
    "nltk.download('wordnet')\n",
    "nltk.download('webtext')\n",
    "\n",
    "from nltk.corpus import stopwords\n",
    "stop_words = set(stopwords.words('english'))\n",
    "\n",
    "from nltk.corpus import wordnet                    # Finally, things we need for lemmatising!\n",
    "from nltk.stem import WordNetLemmatizer\n",
    "lemmatizer = WordNetLemmatizer() \n",
    "nltk.download('averaged_perceptron_tagger')        # Like a POS-tagger...\n",
    "\n",
    "print(\"Succesfully imported necessary modules\")    # The print statement is just a bit of encouragement!"
   ]
  },
  {
   "cell_type": "markdown",
   "metadata": {},
   "source": [
    "### POS - part of speech tagging"
   ]
  },
  {
   "cell_type": "markdown",
   "metadata": {},
   "source": [
    "Now, let's get back to where we were when we left off last time - with a tokenised corpus on which we need to run a POS tagger. \n",
    "\n",
    "Run/Shift+Enter, as above!"
   ]
  },
  {
   "cell_type": "code",
   "execution_count": 2,
   "metadata": {},
   "outputs": [
    {
     "name": "stdout",
     "output_type": "stream",
     "text": [
      "['sample', 'corpus', 'haz', 'spelling', 'errors', 'numbers', 'written', 'two', 'ways', 'example', '1972', 'ninetysix', 'sample', 'corpus', 'also', 'uses', 'abbreviations', 'sometimes', 'always', 'california', 'spelled', 'also', 'written', 'ca', 'really', 'complicate', 'things', 'another', 'country', 'name', 'written', 'uk', 'uk', 'united', 'kingdom', 'united', 'kingdom', 'great', 'britain', 'united', 'kingdom', 'great', 'britain', 'northern', 'ireland', 'becuase', 'sometimes', 'full', 'names', 'important', 'bunch', 'unrelated', 'text', 'fill', 'space', 'privacy', 'policy', '\\x93privacy', 'policy\\x94', 'intended', 'inform', 'policies', 'practices', 'regarding', 'collection', 'use', 'disclosure', 'personal', 'information', 'site', 'sites', 'links', 'privacy', 'policy', '\\x93site\\x94', 'define', '\\x93personal', 'information\\x94', 'information', 'allows', 'someone', 'identify', 'personally', 'contact', 'including', 'example', 'name', 'address', 'telephone', 'number', 'email', 'address', 'registering', 'us', 'using', 'site', 'expressly', 'consent', 'collection', 'use']\n"
     ]
    }
   ],
   "source": [
    "with open(\"./data/sample_text.txt\", \"r\", encoding = \"ISO-8859-1\") as f:\n",
    "    corpus = f.read()\n",
    "    \n",
    "corpus_words = word_tokenize(corpus)\n",
    "\n",
    "corpus_lower = [word.lower() for word in corpus_words]\n",
    "\n",
    "corpus_correct_spell = []\n",
    "for word in corpus_lower:\n",
    "    corpus_correct_spell.append(check(word))    \n",
    "\n",
    "corpus_no_stopwords = []\n",
    "for word in corpus_correct_spell:\n",
    "    if word not in stop_words:\n",
    "        corpus_no_stopwords.append(word)\n",
    "        \n",
    "corpus_no_punct = [w.translate(table_punctuation) for w in corpus_no_stopwords]  \n",
    "corpus_no_space = list(filter(None, corpus_no_punct))      \n",
    "        \n",
    "print(corpus_no_space[:100])"
   ]
  },
  {
   "cell_type": "markdown",
   "metadata": {},
   "source": [
    "Excellent. Now it is time to tag that corpus with POS-tags. This is pretty easy, as nltk comes with a POS-tagger. \n",
    "\n",
    "Run/Shift+Enter, as you would expect. "
   ]
  },
  {
   "cell_type": "code",
   "execution_count": 3,
   "metadata": {},
   "outputs": [
    {
     "name": "stdout",
     "output_type": "stream",
     "text": [
      "[('sample', 'NN'), ('corpus', 'NN'), ('haz', 'NN'), ('spelling', 'VBG'), ('errors', 'NNS'), ('numbers', 'NNS'), ('written', 'VBN'), ('two', 'CD'), ('ways', 'NNS'), ('example', 'NN'), ('1972', 'CD'), ('ninetysix', 'JJ'), ('sample', 'NN'), ('corpus', 'NN'), ('also', 'RB'), ('uses', 'VBZ'), ('abbreviations', 'NNS'), ('sometimes', 'RB'), ('always', 'RB'), ('california', 'NN'), ('spelled', 'VBD'), ('also', 'RB'), ('written', 'VBN'), ('ca', 'MD'), ('really', 'RB'), ('complicate', 'VB'), ('things', 'NNS'), ('another', 'DT'), ('country', 'NN'), ('name', 'NN'), ('written', 'VBN'), ('uk', 'JJ'), ('uk', 'JJ'), ('united', 'JJ'), ('kingdom', 'NN'), ('united', 'JJ'), ('kingdom', 'NN'), ('great', 'JJ'), ('britain', 'NN'), ('united', 'JJ'), ('kingdom', 'NN'), ('great', 'JJ'), ('britain', 'NN'), ('northern', 'JJ'), ('ireland', 'NN'), ('becuase', 'NN'), ('sometimes', 'RB'), ('full', 'JJ'), ('names', 'NNS'), ('important', 'JJ'), ('bunch', 'NN'), ('unrelated', 'JJ'), ('text', 'NN'), ('fill', 'NN'), ('space', 'NN'), ('privacy', 'NN'), ('policy', 'NN'), ('\\x93privacy', 'NN'), ('policy\\x94', 'NN'), ('intended', 'VBN'), ('inform', 'NN'), ('policies', 'NNS'), ('practices', 'NNS'), ('regarding', 'VBG'), ('collection', 'NN'), ('use', 'NN'), ('disclosure', 'NN'), ('personal', 'JJ'), ('information', 'NN'), ('site', 'NN'), ('sites', 'VBZ'), ('links', 'NNS'), ('privacy', 'NN'), ('policy', 'NN'), ('\\x93site\\x94', 'NNP'), ('define', 'VBZ'), ('\\x93personal', 'JJ'), ('information\\x94', 'NN'), ('information', 'NN'), ('allows', 'VBZ'), ('someone', 'NN'), ('identify', 'VB'), ('personally', 'RB'), ('contact', 'JJ'), ('including', 'VBG'), ('example', 'NN'), ('name', 'NN'), ('address', 'RB'), ('telephone', 'NN'), ('number', 'NN'), ('email', 'NN'), ('address', 'NN'), ('registering', 'VBG'), ('us', 'PRP'), ('using', 'VBG'), ('site', 'NN'), ('expressly', 'RB'), ('consent', 'JJ'), ('collection', 'NN'), ('use', 'NN')]\n"
     ]
    }
   ],
   "source": [
    "corpus_pos_tagged = nltk.pos_tag(corpus_no_space)        \n",
    "print(corpus_pos_tagged[:100])"
   ]
  },
  {
   "cell_type": "markdown",
   "metadata": {},
   "source": [
    "Excellent. That has successfully added POS tags to all off the words in our corpus. Now, let's try lemmatising again with the POS tags. \n",
    "\n",
    "Despite what seems obvious, the nltk POS tagger does not use the same POS tags that the nltk lemmatize function needs. Why? I have no idea. \n",
    "\n",
    "But to move forward, I need a to define a quick little function called get_wordnet_pos to convert the tag format to the right one. I tell a lie. I did not write this function but copied it off of Stack Overflow. This is not cheating so much as being economical. A HUGE number of the things you want to do or the problems you want to solve will be discussed on Stack Overflow. Just use a popular search engine to find them, read through all the answers, try them out. \n",
    "\n",
    "Having defined the get_wordnet_pos function, the code belowe then creates a new, blank list called corpus_lemmed. \n",
    "After that, the code iterates over corpus_pos_tagged, looking at each word and POS-tag pair, uses the get_wordnet_pos function to convert the POS-tag to the right format, and using that to lemmatize correctly. \n",
    "\n",
    "At the end, the lemmatised word is appended to the new list we created. \n",
    "\n",
    "Go ahead. \n",
    "Run/Shift+Enter. \n",
    "You know you want to!"
   ]
  },
  {
   "cell_type": "code",
   "execution_count": 4,
   "metadata": {},
   "outputs": [
    {
     "name": "stdout",
     "output_type": "stream",
     "text": [
      "['sample', 'corpus', 'haz', 'spell', 'error', 'number', 'write', 'two', 'way', 'example', '1972', 'ninetysix', 'sample', 'corpus', 'also', 'us', 'abbreviation', 'sometimes', 'always', 'california', 'spell', 'also', 'write', 'ca', 'really', 'complicate', 'thing', 'another', 'country', 'name', 'write', 'uk', 'uk', 'united', 'kingdom', 'united', 'kingdom', 'great', 'britain', 'united', 'kingdom', 'great', 'britain', 'northern', 'ireland', 'becuase', 'sometimes', 'full', 'name', 'important', 'bunch', 'unrelated', 'text', 'fill', 'space', 'privacy', 'policy', '\\x93privacy', 'policy\\x94', 'intend', 'inform', 'policy', 'practice', 'regard', 'collection', 'use', 'disclosure', 'personal', 'information', 'site', 'site', 'link', 'privacy', 'policy', '\\x93site\\x94', 'define', '\\x93personal', 'information\\x94', 'information', 'allows', 'someone', 'identify', 'personally', 'contact', 'include', 'example', 'name', 'address', 'telephone', 'number', 'email', 'address', 'register', 'u', 'use', 'site', 'expressly', 'consent', 'collection', 'use']\n"
     ]
    }
   ],
   "source": [
    "def get_wordnet_pos(word):\n",
    "    \"\"\"Map POS tag to first character lemmatize() accepts\"\"\"\n",
    "    tag = nltk.pos_tag([word])[0][1][0].upper()\n",
    "    tag_dict = {\"J\": wordnet.ADJ,\n",
    "                \"N\": wordnet.NOUN,\n",
    "                \"V\": wordnet.VERB,\n",
    "                \"R\": wordnet.ADV}\n",
    "    return tag_dict.get(tag, wordnet.NOUN)\n",
    "\n",
    "corpus_lemmed = []\n",
    "for pair in corpus_pos_tagged:\n",
    "    corpus_lemmed.append(lemmatizer.lemmatize(pair[0], get_wordnet_pos(pair[0])))   \n",
    "print(corpus_lemmed[:100])\n",
    "\n",
    "#corpus_lemmed_tagged = []    \n",
    "#for pair in corpus_pos_tagged:\n",
    "#    corpus_lemmed_tagged.append([(lemmatizer.lemmatize(pair[0], get_wordnet_pos(pair[0])), pair[1])])   \n",
    "#print(corpus_lemmed_tagged[:100])"
   ]
  },
  {
   "cell_type": "markdown",
   "metadata": {},
   "source": [
    "The output of the above code returns a list with only words but without any POS-tags. \n",
    "\n",
    "If you want to keep the corpus in pairs of word and POS-tag, you will need to activate the second, commented out lines. This means you will need to  remove the '#' in front of each line of code starting with 'corpus_lemmed_tagged' and re-run the code.\n",
    "\n",
    "Give it a try!"
   ]
  },
  {
   "cell_type": "markdown",
   "metadata": {},
   "source": [
    "### Named Entity Recogntion and chunking"
   ]
  },
  {
   "cell_type": "markdown",
   "metadata": {},
   "source": [
    "We are really getting somewhere now! Let's try another basic NLP process - CHUNKING!\n",
    "\n",
    "Named Entity Recognition is a specific kind of 'chunk' operation. Chunking operations iterate over a corpus that has been word tokenised and POS-tagged and put it all back together into sentences. Named Entity Recognition does this too, with special attention to building up the noun phrases that capture well-known entities or onganisations. \n",
    "\n",
    "The chunks are returned within sets of nested brackets (both square and round to capture different levels of nesting. \n",
    "\n",
    "So, 'The Cat in the Hat' would come out as (S The/DT (ORGANIZATION Cat/NNP) in/IN the/DT Hat/NNP). \n",
    "The 'S' at the beginning stands for 'sentence' which is the highest level grouping that the chunker can find. \n",
    "the 'Cat' is recognised as the key entity, so is tagged with ORGANIZATION. \n",
    "The 'in the hat' part is captured as belonging to a noun phrase, same as the cat, but it recongsises that this a sentence about a cat, not a sentence about a hat. \n",
    "\n",
    "Clever, eh?\n",
    "Let's try it!"
   ]
  },
  {
   "cell_type": "code",
   "execution_count": 5,
   "metadata": {},
   "outputs": [
    {
     "name": "stderr",
     "output_type": "stream",
     "text": [
      "[nltk_data] Downloading package words to\n",
      "[nltk_data]     C:\\Users\\mzyssjkc\\AppData\\Roaming\\nltk_data...\n",
      "[nltk_data]   Package words is already up-to-date!\n",
      "[nltk_data] Downloading package maxent_ne_chunker to\n",
      "[nltk_data]     C:\\Users\\mzyssjkc\\AppData\\Roaming\\nltk_data...\n",
      "[nltk_data]   Package maxent_ne_chunker is already up-to-date!\n"
     ]
    },
    {
     "name": "stdout",
     "output_type": "stream",
     "text": [
      "[('name', 'NN'), ('is', 'VBZ'), ('written', 'VBN'), ('as', 'IN'), ('the', 'DT'), ('U.K.', 'NNP'), (',', ','), ('the', 'DT'), Tree('ORGANIZATION', [('UK', 'NNP')]), (',', ','), ('the', 'DT'), Tree('ORGANIZATION', [('United', 'NNP'), ('Kingdom', 'NNP')]), (',', ','), ('the', 'DT'), Tree('ORGANIZATION', [('United', 'NNP'), ('Kingdom', 'NNP')]), ('of', 'IN'), Tree('GPE', [('Great', 'NNP'), ('Britain', 'NNP')]), ('and', 'CC'), ('The', 'DT'), Tree('ORGANIZATION', [('United', 'NNP'), ('Kingdom', 'NNP')]), ('of', 'IN'), Tree('GPE', [('Great', 'NNP'), ('Britain', 'NNP')]), ('and', 'CC'), Tree('GPE', [('Northern', 'NNP'), ('Ireland', 'NNP')]), ('becuase', 'NN'), ('sometimes', 'RB'), ('full', 'JJ'), ('names', 'NNS'), ('are', 'VBP'), ('important', 'JJ'), ('.', '.')]\n"
     ]
    }
   ],
   "source": [
    "#importing chunk library from nltk\n",
    "nltk.download('words')\n",
    "nltk.download('maxent_ne_chunker')\n",
    "from nltk import ne_chunk                                    # ne_chunk is 'named entity chunk'. Other chunkers are available.\n",
    "\n",
    "# NER and other chunkers only work on word tokenised and POS tagged corpora... \n",
    "corpus_pos_tagged2 = nltk.pos_tag(corpus_words)\n",
    "corpus_chunked = ne_chunk(corpus_pos_tagged2)\n",
    "print(corpus_chunked[57:88])"
   ]
  },
  {
   "cell_type": "markdown",
   "metadata": {},
   "source": [
    "This time, I specifically only asked for a printout of a key range in the resulting corpus. I wanted to highlight here how the word \"Tree\" preceeds those ORGANIZATION entities that hang together as multi-word entities. See, for example, how 'United Kingdom', 'Great Britain' and 'Northern Ireland' are each within square brackets to identify them as the multi-word entity captured by the ORGANIZATION tag. \n",
    "\n",
    "You might also have noticed that this chunking function is run on corpus_pos_tagged2, which is simply the corpus_words that has been put through the nltk.pos_tag function. This means that corpus_pos_tagged2 still has its stopwords, punctuation, etc. \n",
    "\n",
    "Why do you think this is? What do you think would happen if you ran the chunking procedure on corpus_pos_tagged which DOES have all the stopwords and punctuation removed?\n",
    "\n",
    "Well, guess what? You can find out by doing that Run/Shift+Enter thing!"
   ]
  },
  {
   "cell_type": "code",
   "execution_count": 6,
   "metadata": {},
   "outputs": [
    {
     "name": "stdout",
     "output_type": "stream",
     "text": [
      "[('sample', 'NN'), ('corpus', 'NN'), ('haz', 'NN'), ('spelling', 'VBG'), ('errors', 'NNS'), ('numbers', 'NNS'), ('written', 'VBN'), ('two', 'CD'), ('ways', 'NNS'), ('example', 'NN'), ('1972', 'CD'), ('ninetysix', 'JJ'), ('sample', 'NN'), ('corpus', 'NN'), ('also', 'RB'), ('uses', 'VBZ'), ('abbreviations', 'NNS'), ('sometimes', 'RB'), ('always', 'RB'), ('california', 'NN'), ('spelled', 'VBD'), ('also', 'RB'), ('written', 'VBN'), ('ca', 'MD'), ('really', 'RB'), ('complicate', 'VB'), ('things', 'NNS'), ('another', 'DT'), ('country', 'NN'), ('name', 'NN'), ('written', 'VBN'), ('uk', 'JJ'), ('uk', 'JJ'), ('united', 'JJ'), ('kingdom', 'NN'), ('united', 'JJ'), ('kingdom', 'NN'), ('great', 'JJ'), ('britain', 'NN'), ('united', 'JJ'), ('kingdom', 'NN'), ('great', 'JJ'), ('britain', 'NN'), ('northern', 'JJ'), ('ireland', 'NN'), ('becuase', 'NN'), ('sometimes', 'RB'), ('full', 'JJ'), ('names', 'NNS'), ('important', 'JJ'), ('bunch', 'NN'), ('unrelated', 'JJ'), ('text', 'NN'), ('fill', 'NN'), ('space', 'NN'), ('privacy', 'NN'), ('policy', 'NN'), ('\\x93privacy', 'NN'), ('policy\\x94', 'NN'), ('intended', 'VBN'), ('inform', 'NN'), ('policies', 'NNS'), ('practices', 'NNS'), ('regarding', 'VBG'), ('collection', 'NN'), ('use', 'NN'), ('disclosure', 'NN'), ('personal', 'JJ'), ('information', 'NN'), ('site', 'NN'), ('sites', 'VBZ'), ('links', 'NNS'), ('privacy', 'NN'), ('policy', 'NN'), ('\\x93site\\x94', 'NNP'), ('define', 'VBZ'), ('\\x93personal', 'JJ'), ('information\\x94', 'NN'), ('information', 'NN'), ('allows', 'VBZ'), ('someone', 'NN'), ('identify', 'VB'), ('personally', 'RB'), ('contact', 'JJ'), ('including', 'VBG'), ('example', 'NN'), ('name', 'NN'), ('address', 'RB'), ('telephone', 'NN'), ('number', 'NN'), ('email', 'NN'), ('address', 'NN'), ('registering', 'VBG'), ('us', 'PRP'), ('using', 'VBG'), ('site', 'NN'), ('expressly', 'RB'), ('consent', 'JJ'), ('collection', 'NN'), ('use', 'NN')]\n"
     ]
    }
   ],
   "source": [
    "corpus_chunked_extra_processes = ne_chunk(corpus_pos_tagged)\n",
    "print(corpus_chunked_extra_processes[:100])"
   ]
  },
  {
   "cell_type": "markdown",
   "metadata": {},
   "source": [
    "Hmmm. No 'Tree' markers, no 'ORGANIZATION' markers, etc. \n",
    "\n",
    "This is because some chunking processes use some of the stopwords (especially determiners like 'an' and 'the') and punctuation, etc. to be useful in determining appropriate chunks. \n",
    "\n",
    "This may create some challenges for your corpus. For example, if you want to: \n",
    "- Count words, then you probably want to remove stopwords, punctuation, etc. \n",
    "- Identify chunks, like named entities, then you probably want to leave some or all of the stopwords, punctuation, etc.\n",
    "- Count chunks (e.g. count named entities), you probably want to combine the processes in the right order. \n",
    "\n",
    "Good to know!"
   ]
  },
  {
   "cell_type": "markdown",
   "metadata": {},
   "source": [
    "## Counts and (relative) frequency"
   ]
  },
  {
   "cell_type": "markdown",
   "metadata": {},
   "source": [
    "Excellent! Now, you might be surprised, but a very important function of NLP for analysing text boils down to counting things, often words. This is why so much attention in the last section was focussed on making sure all the words that we want to be counted as 'the same word' appeared in the same form while all the words that we want to count as 'different words' appear in different forms. \n",
    "\n",
    "Thus, we want to apply the count functions to a corpus that has had some of that standardisation, consolidation, lemmatised (or at least stemming) processes applied already. \n",
    "\n",
    "First, we import some counting functions, then we apply them to corpus_lemmed. \n",
    "Run/Shift+Enter"
   ]
  },
  {
   "cell_type": "code",
   "execution_count": 7,
   "metadata": {},
   "outputs": [
    {
     "name": "stdout",
     "output_type": "stream",
     "text": [
      "Counter({'information': 119, 'site': 76, 'use': 74, 'may': 64, 'personal': 56, 'policy': 38, 'u': 36, 'service': 34, 'privacy': 32, 'cooky': 32, 'email': 28, 'collect': 28, 'web': 24, 'address': 22, 'third': 22, 'party': 22, 'provide': 20, 'account': 18, 'visit': 18, 'also': 16, 'company': 16, 'regard': 14, 'include': 14, 'share': 14, 'website': 14, 'beacon': 14, 'track': 14, 'law': 12, 'term': 12, 'networking': 12, 'browser': 12, 'time': 12, 'analytics': 12, 'receive': 12, 'choice': 12, 'name': 10, 'link': 10, 'request': 10, 'send': 10, 'social': 10, 'page': 10, 'user': 10, 'online': 10, 'content': 10, 'promotional': 10, 'communication': 10, 'change': 10, 'http': 9, 'disclosure': 8, 'register': 8, 'give': 8, 'preference': 8, 'indicate': 8, 'connection': 8, 'make': 8, 'please': 8, 'associate': 8, 'keep': 8, 'delete': 8, 'product': 8, 'number': 7, 'united': 7, 'collection': 6, 'state': 6, 'password': 6, 'andor': 6, 'fax': 6, 'technology': 6, 'experience': 6, 'see': 6, 'feature': 6, 'work': 6, 'follow': 6, 'protect': 6, 'anonymous': 6, 'right': 6, 'otherwise': 6, 'provider': 6, 'affiliate': 6, 'require': 6, 'mechanism': 6, 'reject': 6, 'ad': 6, 'example': 5, 'thing': 5, 'country': 5, 'practice': 4, 'define': 4, 'information\\x94': 4, 'contact': 4, 'processing': 4, 'accordance': 4, 'understand': 4, 'contributor': 4, 'mail': 4, 'age': 4, 'feedback': 4, 'contain': 4, 'letter': 4, 'via': 4, 'internet': 4, 'protocol': 4, 'data': 4, 'store': 4, 'among': 4, 'help': 4, 'well': 4, 'count': 4, 'call': 4, 'learn': 4, 'act': 4, 'google': 4, 'analyze': 4, 'improve': 4, 'source': 4, 'respond': 4, 'personalize': 4, 'ip': 4, 'session': 4, 'unless': 4, 'program': 4, 'activity': 4, 'new': 4, 'medium': 4, 'group': 4, 'except': 4, 'requirement': 4, 'subpoena': 4, 'warrant': 4, 'case': 4, 'honor': 4, 'related': 4, 'good': 4, 'comply': 4, 'relevant': 4, 'serve': 4, '\\x92': 4, 'deletion': 4, 'others': 4, 'remove': 4, 'aware': 4, 'apply': 4, 'like': 4, 'deliver': 4, 'advertisement': 4, 'advertising': 4, 'interest': 4, 'security': 4, 'write': 3, 'way': 3, 'us': 3, 'another': 3, 'kingdom': 3, 'riot': 3, 'inc': 3, '\\x94': 3, 'sample': 2, 'corpus': 2, 'spell': 2, 'sometimes': 2, 'uk': 2, 'great': 2, 'britain': 2, '\\x93privacy': 2, 'policy\\x94': 2, 'intend': 2, 'inform': 2, '\\x93site\\x94': 2, '\\x93personal': 2, 'allows': 2, 'someone': 2, 'identify': 2, 'personally': 2, 'telephone': 2, 'expressly': 2, 'consent': 2, 'reside': 2, 'outside': 2, 'process': 2, 'less': 2, 'stringent': 2, 'capitalize': 2, 'meaning': 2, 'applicable': 2, 'additional': 2, 'optional': 2, 'basis': 2, 'choose': 2, 'participate': 2, 'survey': 2, 'phone': 2, 'gender': 2, 'facebook': 2, 'twitter': 2, '\\x93social': 2, 'site\\x94': 2, 'basic': 2, 'friend': 2, 'combine': 2, 'elect': 2, 'subject': 2, 'passively': 2, 'type': 2, 'browsing': 2, 'view': 2, 'long': 2, 'spent': 2, 'language': 2, 'access': 2, 'automatically': 2, '\\x93cookies\\x94': 2, 'small': 2, 'file': 2, 'hard': 2, 'drive': 2, 'part': 2, 'popular': 2, 'log': 2, 'digital': 2, 'image': 2, '\\x93web': 2, 'beacons\\x94': 2, '\\x93pixel': 2, 'tags\\x94': 2, 'manage': 2, 'marketing': 2, 'tell': 2, 'open': 2, 'often': 2, 'prior': 2, 'come': 2, 'get': 2, 'wwwgooglecomprivacyhtml': 2, 'toolsgooglecompagegaoptout': 2, 'conjunction': 2, 'flow': 2, 'clickstream': 2, 'persistent': 2, 'login': 2, 'upload': 2, 'electronic': 2, 'newsletter': 2, 'relate': 2, 'opt': 2, 'terminate': 2, 'investigate': 2, 'deter': 2, 'fraudulent': 2, 'unauthorized': 2, 'illegal': 2, 'create': 2, 'record': 2, 'reserve': 2, 'disclose': 2, 'discretion': 2, '\\x93anonymous': 2, 'mean': 2, 'trade': 2, 'rent': 2, 'ask': 2, 'authorize': 2, 'behalf': 2, 'thereof': 2, 'however': 2, 'independent': 2, 'pursuant': 2, 'legal': 2, 'although': 2, 'currently': 2, 'parent': 2, 'subsidiary': 2, 'joint': 2, 'venture': 2, 'common': 2, 'control': 2, 'collectively': 2, '\\x93affiliates\\x94': 2, 'future': 2, 'asset': 2, 'acquire': 2, 'merger': 2, 'acquisition': 2, 'bankruptcy': 2, 'dissolution': 2, 'enforcement': 2, 'officer': 2, 'color': 2, 'believe': 2, 'faith': 2, 'necessary': 2, '1': 2, '2': 2, 'defend': 2, 'property': 2, 'safety': 2, 'offer': 2, 'stop': 2, 'opportunity': 2, '\\x93optout\\x94': 2, 'subscribe': 2, 'instruction': 2, 'despite': 2, 'administrative': 2, 'without': 2, 'limitation': 2, 'creation': 2, 'confirmation': 2, 'notice': 2, 'material': 2, 'submit': 2, 'edit': 2, 'modification': 2, 'note': 2, 'certain': 2, 'fulfil': 2, 'active': 2, 'database': 2, 'remain': 2, 'archive': 2, 'across': 2, 'different': 2, 'render': 2, 'unusable': 2, 'set': 2, 'accept': 2, 'default': 2, 'prefer': 2, 'typically': 2, 'setting': 2, 'could': 2, 'affect': 2, 'described': 2, 'many': 2, 'signal': 2, 'similar': 2, 'disable': 2, 'every': 2, 'child': 2, 'intentionally': 2, 'gather': 2, '13': 2, 'forego': 2, 'interaction': 2, 'interact': 2, 'thirdparty': 2, 'isp': 2, 'order': 2, 'usage': 2, 'visitation': 2, 'tracked': 2, 'responsible': 2, 'encourage': 2, 'check': 2, 'advertiser': 2, 'would': 2, 'know': 2, 'wwwnetworkadvertisingorgmanagingoptoutasp': 2, 'wwwaboutusinfochoices': 2, 'reasonable': 2, 'effort': 2, 'fully': 2, 'eliminate': 2, 'risk': 2, 'connect': 2, 'handle': 2, 'amendment': 2, '\\x93updated\\x94': 2, 'date': 2, 'haz': 1, 'error': 1, 'two': 1, '1972': 1, 'ninetysix': 1, 'abbreviation': 1, 'always': 1, 'california': 1, 'ca': 1, 'really': 1, 'complicate': 1, 'northern': 1, 'ireland': 1, 'becuase': 1, 'full': 1, 'important': 1, 'bunch': 1, 'unrelated': 1, 'text': 1, 'fill': 1, 'space': 1, 'informationthis': 1, 'inc\\x92s': 1, '\\x93riot': 1, '\\x93we': 1, '\\x93us': 1, '\\x93our\\x94': 1, 'locate': 1, 'bookriotcom': 1})\n"
     ]
    }
   ],
   "source": [
    "from collections import Counter\n",
    "corpus_counts = Counter(corpus_lemmed)\n",
    "print(corpus_counts)"
   ]
  },
  {
   "cell_type": "markdown",
   "metadata": {},
   "source": [
    "Great! You may have noticed that we applied this count function to a list of words rather than word and POS-tag pairs. This is on purpose, but the code could be written so that it only looks at the first item in each word and POS-tag pairs. \n",
    "\n",
    "If you want to try that, go ahead. You may want to refer back to the code block where we defined get_wordnet_pos because the code to create corpus_lemmed_tagged uses indices (in [square brackets]) to refer to only one element within a pair. \n",
    "\n",
    "But, for now, let's have a closer look at the 100 most common words in our corpus by using the 'most_common' function from Counter. \n",
    "Run/Shift+Enter!"
   ]
  },
  {
   "cell_type": "code",
   "execution_count": 8,
   "metadata": {
    "scrolled": false
   },
   "outputs": [
    {
     "name": "stdout",
     "output_type": "stream",
     "text": [
      "[('information', 119), ('site', 76), ('use', 74), ('may', 64), ('personal', 56), ('policy', 38), ('u', 36), ('service', 34), ('privacy', 32), ('cooky', 32), ('email', 28), ('collect', 28), ('web', 24), ('address', 22), ('third', 22), ('party', 22), ('provide', 20), ('account', 18), ('visit', 18), ('also', 16), ('company', 16), ('regard', 14), ('include', 14), ('share', 14), ('website', 14), ('beacon', 14), ('track', 14), ('law', 12), ('term', 12), ('networking', 12), ('browser', 12), ('time', 12), ('analytics', 12), ('receive', 12), ('choice', 12), ('name', 10), ('link', 10), ('request', 10), ('send', 10), ('social', 10), ('page', 10), ('user', 10), ('online', 10), ('content', 10), ('promotional', 10), ('communication', 10), ('change', 10), ('http', 9), ('disclosure', 8), ('register', 8), ('give', 8), ('preference', 8), ('indicate', 8), ('connection', 8), ('make', 8), ('please', 8), ('associate', 8), ('keep', 8), ('delete', 8), ('product', 8), ('number', 7), ('united', 7), ('collection', 6), ('state', 6), ('password', 6), ('andor', 6), ('fax', 6), ('technology', 6), ('experience', 6), ('see', 6), ('feature', 6), ('work', 6), ('follow', 6), ('protect', 6), ('anonymous', 6), ('right', 6), ('otherwise', 6), ('provider', 6), ('affiliate', 6), ('require', 6), ('mechanism', 6), ('reject', 6), ('ad', 6), ('example', 5), ('thing', 5), ('country', 5), ('practice', 4), ('define', 4), ('information\\x94', 4), ('contact', 4), ('processing', 4), ('accordance', 4), ('understand', 4), ('contributor', 4), ('mail', 4), ('age', 4), ('feedback', 4), ('contain', 4), ('letter', 4), ('via', 4)]\n"
     ]
    }
   ],
   "source": [
    "print(corpus_counts.most_common(100))"
   ]
  },
  {
   "cell_type": "markdown",
   "metadata": {},
   "source": [
    "Just for comparison, let's find the 100 most common words in 'Emma' by Jane Austen. \n",
    "We do need to import the text as a corpus and process it in the same way as we did your corpus so that they can be seen as comparable. \n",
    "\n",
    "Run/Shift+Enter  - but be patient. This is a lot of processes to run. "
   ]
  },
  {
   "cell_type": "code",
   "execution_count": 9,
   "metadata": {},
   "outputs": [
    {
     "name": "stderr",
     "output_type": "stream",
     "text": [
      "[nltk_data] Downloading package gutenberg to\n",
      "[nltk_data]     C:\\Users\\mzyssjkc\\AppData\\Roaming\\nltk_data...\n",
      "[nltk_data]   Package gutenberg is already up-to-date!\n"
     ]
    },
    {
     "name": "stdout",
     "output_type": "stream",
     "text": [
      "Counter({'mr': 1855, 'say': 878, 's': 868, 'emma': 861, 'could': 837, 'would': 820, 'miss': 614, 'must': 571, 'well': 557, 'harriet': 501, 'much': 486, 'think': 467, 'thing': 461, 'one': 457, 'know': 451, 'weston': 447, 'every': 435, 'make': 420, 'come': 403, 'go': 384, 'knightley': 383, 'elton': 382, 'little': 361, 'never': 358, 'give': 353, 'see': 349, 'might': 326, 'great': 324, 'good': 314, 'woodhouse': 311, 'time': 307, 'jane': 301, 'look': 301, 'quite': 282, 'thought': 265, 'friend': 259, 'take': 258, 'nothing': 254, 'dear': 243, 'fairfax': 239, 'always': 238, 'churchill': 238, 'man': 236, 'even': 227, 'like': 224, 'soon': 224, 'may': 223, 'wish': 221, 'shall': 219, 'without': 214, 'seem': 212, 'day': 211, 'want': 210, 'frank': 208, 'father': 207, 'first': 207, 'sure': 204, 'indeed': 202, 'young': 198, 'body': 194, 'ever': 193, 'oh': 193, 'talk': 183, 'two': 179, 'though': 177, 'way': 171, 'hope': 164, 'feel': 161, 'hartfield': 160, 'upon': 159, 'walk': 156, 'love': 153, 'really': 153, 'long': 152, 'woman': 152, 'believe': 152, 'begin': 150, 'u': 148, 'do': 147, 'letter': 147, 'rather': 146, 'bates': 146, 'speak': 145, 'word': 144, 'away': 138, 'many': 138, 'poor': 136, 'home': 133, 'moment': 133, 'mind': 132, 'however': 131, 'last': 129, 'enough': 129, 'manner': 128, 'highbury': 125, 'suppose': 125, 'yes': 125, 'happy': 124, 'pleasure': 124, 'get': 123, 'heard': 120, 'place': 119, 'lady': 119, 'idea': 116, 'party': 116, 'still': 115, 'doubt': 114, 'another': 114, 'felt': 113, 'oblige': 113, 'sort': 113, 'something': 113, 'return': 112, 'morning': 111, 'visit': 111, 'tell': 111, 'call': 110, 'yet': 109, 'bad': 109, 'subject': 108, 'saw': 108, 'mean': 107, 'smile': 107, 'appear': 103, 'hour': 102, 'till': 102, 'feeling': 102, 'half': 101, 'certainly': 101, 'house': 100, 'hear': 100, 'perhaps': 99, 'child': 98, 'martin': 98, 'room': 98, 'reply': 97, 'understand': 97, 'present': 96, 'part': 96, 'right': 96, 'deal': 95, 'let': 95, 'ought': 95, 'find': 94, 'spirit': 94, 'people': 94, 'answer': 94, 'allow': 92, 'found': 92, 'old': 91, 'often': 91, 'ask': 91, 'marry': 90, 'randalls': 90, 'turn': 90, 'smith': 90, 'john': 90, 'almost': 89, 'use': 89, 'knew': 88, 'attention': 88, 'family': 87, 'life': 87, 'least': 85, 'year': 84, 'world': 84, 'possible': 84, 'best': 83, 'perry': 83, 'eye': 82, 'together': 81, 'cry': 81, 'else': 80, 'opinion': 80, 'consider': 79, 'told': 79, 'hand': 79, 'interest': 79, 'carriage': 78, 'person': 78, 'cole': 78, 'kind': 77, 'imagine': 77, 'write': 77, 'assure': 77, 'campbell': 77, 'happiness': 76, 'comfort': 76, 'sit': 75, 'name': 73, 'nobody': 73, 'whole': 73, 'care': 73, 'set': 73, 'expect': 73, 'wife': 72, 'put': 72, 'hardly': 71, 'change': 71, 'able': 71, 'dare': 71, 'try': 71, 'short': 70, 'situation': 70, 'far': 70, 'immediately': 70, 'side': 70, 'mother': 69, 'isabella': 69, 'minute': 69, 'daughter': 68, 'less': 68, 'left': 68, 'point': 68, 'dance': 68, 'perfectly': 67, 'true': 66, 'heart': 66, 'three': 66, 'pretty': 66, 'sir': 66, 'leave': 66, 'towards': 66, 'extremely': 66, 'circumstance': 65, 'afraid': 65, 'back': 65, 'since': 65, 'general': 65, 'ready': 65, 'whether': 64, 'account': 64, 'either': 64, 'next': 63, 'acquaintance': 63, 'therefore': 62, 'course': 62, 'wonder': 62, 'affection': 61, 'sorry': 61, 'equal': 60, 'others': 60, 'receive': 60, 'fancy': 60, 'end': 60, 'girl': 59, 'longer': 59, 'stay': 59, 'goddard': 59, 'superior': 59, 'pass': 58, 'exactly': 58, 'cold': 58, 'chapter': 57, 'follow': 57, 'brother': 57, 'please': 57, 'aunt': 57, 'strong': 57, 'state': 57, 'door': 56, 'sense': 56, 'degree': 56, 'gentleman': 56, 'remember': 56, 'power': 55, 'settle': 55, 'business': 55, 'question': 55, 'open': 55, 'brought': 54, 'bear': 54, 'beyond': 54, 'shew': 54, 'respect': 54, 'particular': 54, 'read': 54, 'air': 54, 'observe': 53, 'small': 53, 'natural': 52, 'rest': 52, 'engage': 52, 'usual': 51, 'among': 51, 'hop': 51, 'directly': 51, 'satisfied': 51, 'voice': 51, 'mention': 50, 'glad': 50, 'regard': 50, 'agreeable': 50, 'week': 50, 'persuade': 50, 'taylor': 49, 'bring': 49, 'laugh': 49, 'object': 49, 'donwell': 49, 'attachment': 49, 'add': 49, 'society': 48, 'ah': 48, 'full': 48, 'compliment': 48, 'ill': 48, 'become': 47, 'except': 47, 'fine': 47, 'difficulty': 47, 'pleased': 47, 'lead': 47, 'near': 47, 'particularly': 46, 'married': 46, 'need': 46, 'likely': 46, 'view': 46, 'convince': 46, 'lose': 45, 'character': 45, 'london': 45, 'meeting': 45, 'already': 45, 'creature': 45, 'pain': 45, 'wait': 45, 'stand': 45, 'sister': 44, 'dinner': 44, 'keep': 44, 'son': 44, 'farther': 44, 'dixon': 44, 'evil': 43, 'promise': 43, 'large': 43, 'conversation': 43, 'night': 43, 'help': 43, 'meant': 43, 'happen': 43, 'month': 43, 'charm': 43, 'thank': 43, 'reason': 43, 'live': 42, 'early': 42, 'real': 42, 'join': 42, 'proper': 42, 'form': 42, 'different': 42, 'her': 42, 'spoke': 42, 'resolve': 42, 'pleasant': 41, 'suffer': 41, 'impossible': 41, 'afterwards': 41, 'hurry': 41, 'matter': 41, 'delightful': 41, 'determine': 41, 'listen': 41, 'truth': 41, 'engagement': 41, 'fond': 40, 'kindness': 40, 'agree': 40, 'pay': 40, 'suspect': 40, 'enter': 40, 'forward': 40, 'high': 40, 'excuse': 40, 'weather': 40, 'fortune': 39, 'advantage': 39, 'entirely': 39, 'head': 39, 'sometimes': 39, 'whose': 39, 'occasion': 39, 'round': 39, 'wrong': 39, 'handsome': 38, 'five': 38, 'companion': 38, 'husband': 38, 'met': 38, 'neither': 38, 'praise': 38, 'fear': 38, 'continued': 38, 'colonel': 38, 'temper': 37, 'sat': 37, 'regret': 37, 'plan': 37, 'guess': 37, 'nature': 37, 'surprize': 37, 'move': 37, 'grow': 37, 'stop': 37, 'marriage': 36, 'necessary': 36, 'face': 36, 'warm': 36, 'enscombe': 36, 'new': 36, 'probably': 36, 'news': 36, 'health': 35, 'increase': 35, 'amiable': 35, 'depend': 35, 'claim': 35, 'common': 35, 'deserve': 35, 'taste': 35, 'line': 35, 'forget': 35, 'comfortable': 34, 'excellent': 34, 'perfect': 34, 'recommend': 34, 'papa': 34, 'invite': 34, 'company': 34, 'appearance': 34, 'honour': 34, 'remain': 34, 'ball': 34, 'danger': 33, 'match': 33, 'amuse': 33, 'meet': 33, 'sent': 33, 'decide': 33, 'case': 33, 'men': 33, 'acquaint': 33, 'within': 33, 'ten': 33, 'express': 33, 'absolutely': 33, 'suspicion': 33, 'ago': 32, 'hearing': 32, 'you': 32, 'pas': 32, 'surprized': 32, 'resolution': 32, 'offer': 32, 'beauty': 32, 'attempt': 32, 'meaning': 32, 'robert': 32, 'play': 32, 'attach': 31, 'easy': 31, 'scheme': 31, 'fault': 31, 'difference': 31, 'late': 31, 'prove': 31, 'second': 31, 'acknowledge': 31, 'notice': 31, 'serious': 31, 'yesterday': 31, 'anxious': 31, 'maple': 31, 'grove': 31, 'horse': 30, 'connexion': 30, 'attend': 30, 'delighted': 30, 'fair': 30, 'send': 30, 'blush': 30, 'spoken': 30, 'fix': 30, 'worth': 30, 'satisfaction': 29, 'gratitude': 29, 'none': 29, 'merely': 29, 'produce': 29, 'close': 29, 'actually': 29, 'tomorrow': 29, 'refuse': 29, 'proceed': 29, 'consequence': 28, 'judgment': 28, 'mile': 28, 'cheerful': 28, 'require': 28, 'pity': 28, 'odd': 28, 'whenever': 28, 'alone': 28, 'curiosity': 28, 'prevent': 28, 'favour': 28, 'sight': 28, 'admire': 28, 'style': 28, 'she': 28, 'occur': 28, 'arrive': 28, 'conduct': 28, 'clever': 27, 'distress': 27, 'fall': 27, 'event': 27, 'work': 27, 'concern': 27, 'reach': 27, 'sigh': 27, 'draw': 27, 'proof': 27, 'fortunate': 27, 'invitation': 27, 'watch': 27, 'judge': 27, 'certain': 27, 'instead': 27, 'act': 27, 'eltons': 27, 'ashamed': 27, 'friendship': 26, 'aware': 26, 'habit': 26, 'tea': 26, 'chance': 26, 'pray': 26, 'consideration': 26, 'influence': 26, 'mine': 26, 'knowledge': 26, 'quick': 26, 'completely': 26, 'hint': 26, 'recollect': 26, 'it': 26, 'instrument': 26, 'crown': 26, 'disposition': 25, 'enjoyment': 25, 'sad': 25, 'distance': 25, 'slight': 25, 'sensible': 25, 'especially': 25, 'today': 25, 'boy': 25, 'vain': 25, 'seat': 25, 'elegant': 25, 'sake': 25, 'quiet': 25, 'order': 25, 'low': 25, 'alarm': 25, 'silent': 25, 'address': 25, 'extraordinary': 25, 'tone': 25, 'charade': 25, 'behaviour': 25, 'highly': 24, 'loss': 24, 'age': 24, 'spite': 24, 'beautiful': 24, 'fact': 24, 'reflection': 24, 'picture': 24, 'service': 24, 'chuse': 24, 'generally': 24, 'neighbour': 24, 'abbey': 24, 'suit': 24, 'note': 24, 'struck': 24, 'ground': 24, 'purpose': 24, 'admiration': 24, 'justice': 24, 'music': 24, 'effect': 24, 'duty': 24, 'table': 24, 'also': 24, 'town': 23, 'rain': 23, 'secure': 23, 'four': 23, 'occupy': 23, 'uncle': 23, 'favourite': 23, 'due': 23, 'complete': 23, 'understood': 23, 'altogether': 23, 'inclination': 23, 'carry': 23, 'run': 23, 'couple': 23, 'plain': 23, 'country': 23, 'admit': 23, 'speech': 23, 'quarter': 23, 'likeness': 23, 'delight': 23, 'henry': 23, 'beg': 23, 'silence': 23, 'escape': 23, 'delay': 23, 'secret': 23, 'niece': 23, 'box': 23, 'dispose': 22, 'welcome': 22, 'inquiry': 22, 'endeavour': 22, 'merit': 22, 'encouragement': 22, 'eat': 22, 'gratify': 22, 'kept': 22, 'him': 22, 'mistaken': 22, 'exclaim': 22, 'presently': 22, 'caught': 22, 'avoid': 22, 'snow': 22, 'william': 22, 'pianoforte': 22, 'hill': 22, 'intimacy': 21, 'consciousness': 21, 'prospect': 21, 'useful': 21, 'belong': 21, 'spent': 21, 'nonsense': 21, 'succeed': 21, 'introduce': 21, 'command': 21, 'scruple': 21, 'propose': 21, 'recover': 21, 'cause': 21, 'scarcely': 21, 'summer': 21, 'lately': 21, 'venture': 21, 'approbation': 21, 'information': 21, 'perceive': 21, 'safe': 21, 'endure': 21, 'reserve': 21, 'intend': 21, 'be': 21, 'thousand': 21, 'assist': 21, 'cut': 21, 'bath': 21, 'hold': 20, 'disagreeable': 20, 'past': 20, 'servant': 20, 'shock': 20, 'dearest': 20, 'whatever': 20, 'comprehend': 20, 'respectable': 20, 'rise': 20, 'sweet': 20, 'enjoy': 20, 'reasonable': 20, 'raise': 20, 'encourage': 20, 'window': 20, 'fortnight': 20, 'trust': 20, 'opportunity': 20, 'repeat': 20, 'value': 20, 'sudden': 20, 'touch': 20, 'disappointment': 20, 'otherwise': 20, 'ease': 20, 'observation': 20, 'sensation': 20, 'tire': 20, 'disappointed': 20, 'declare': 20, 'me': 20, 'period': 19, 'thoroughly': 19, 'james': 19, 'catch': 19, 'important': 19, 'happily': 19, 'forgotten': 19, 'worthy': 19, 'quarrel': 19, 'safely': 19, 'charge': 19, 'unhappy': 19, 'approach': 19, 'thrown': 19, 'busy': 19, 'share': 19, 'road': 19, 'confess': 19, 'glance': 19, 'anxiety': 19, 'nt': 19, 'eager': 19, 'trouble': 19, 'civility': 19, 'dreadful': 19, 'angry': 19, 'passing': 19, 'nephew': 19, 'paid': 19, 'hawkins': 19, 'blessing': 18, 'living': 18, 'rational': 18, 'remove': 18, 'fire': 18, 'joy': 18, 'spend': 18, 'single': 18, 'circle': 18, 'pride': 18, 'desirable': 18, 'quit': 18, 'friendly': 18, 'goodwill': 18, 'garden': 18, 'credit': 18, 'conviction': 18, 'exercise': 18, 'employ': 18, 'force': 18, 'arrangement': 18, 'compare': 18, 'equally': 18, 'blind': 18, 'behind': 18, 'expectation': 18, 'severe': 18, 'cure': 18, 'step': 18, 'consent': 18, 'apple': 18, 'supply': 17, 'talent': 17, 'possibly': 17, 'considerable': 17, 'break': 17, 'expression': 17, 'dress': 17, 'history': 17, 'regular': 17, 'inferior': 17, 'indifferent': 17, 'advise': 17, 'approve': 17, 'desire': 17, 'sentiment': 17, 'dislike': 17, 'mere': 17, 'vicarage': 17, 'objection': 17, 'cross': 17, 'deny': 17, 'countenance': 17, 'confidence': 17, 'warmly': 17, 'press': 17, 'finish': 17, 'besides': 17, 'pause': 17, 'mistake': 17, 'accept': 17, 'simple': 17, 'explanation': 17, 'weymouth': 17, 'presume': 17, 'cease': 16, 'direct': 16, 'gentle': 16, 'separate': 16, 'afford': 16, 'anywhere': 16, 'somebody': 16, 'absence': 16, 'amusement': 16, 'education': 16, 'prefer': 16, 'fail': 16, 'collect': 16, 'continue': 16, 'elegance': 16, 'intention': 16, 'number': 16, 'hundred': 16, 'drive': 16, 'arrange': 16, 'announce': 16, 'delicacy': 16, 'paper': 16, 'fully': 16, 'arm': 16, 'agitation': 16, 'seriously': 16, 'future': 16, 'sound': 16, 'ford': 16, 'explore': 16, 'dine': 15, 'interested': 15, 'tolerably': 15, 'drawn': 15, 'fit': 15, 'opening': 15, 'chosen': 15, 'assistance': 15, 'drawingroom': 15, 'stood': 15, 'grateful': 15, 'vanity': 15, 'concerned': 15, 'light': 15, 'totally': 15, 'book': 15, 'oppose': 15, 'inquire': 15, 'reading': 15, 'blunder': 15, 'tempt': 15, 'conceal': 15, 'entreat': 15, 'imagination': 15, 'sea': 15, 'confusion': 15, 'clear': 15, 'aye': 15, 'i': 15, 'indulge': 15, 'trifle': 15, 'neighbourhood': 15, 'prepared': 15, 'caution': 15, 'master': 15, 'story': 15, 'save': 15, 'rich': 14, 'nearly': 14, 'recollection': 14, 'easily': 14, 'compassion': 14, 'visitor': 14, 'connect': 14, 'former': 14, 'favourable': 14, 'probability': 14, 'excite': 14, 'strange': 14, 'communication': 14, 'hair': 14, 'naturally': 14, 'immediate': 14, 'undoubtedly': 14, 'mortify': 14, 'possibility': 14, 'seldom': 14, 'advice': 14, 'infinitely': 14, 'fresh': 14, 'utmost': 14, 'deep': 14, 'conclude': 14, 'passage': 14, 'grandmama': 14, 'solicitude': 14, 'instantly': 14, 'indifference': 14, 'spring': 14, 'burst': 14, 'ireland': 14, 'musical': 14, 'suckle': 14, 'civil': 13, 'lucky': 13, 'flatter': 13, 'willing': 13, 'tear': 13, 'gallantry': 13, 'that': 13, 'harm': 13, 'leisure': 13, 'accomplish': 13, 'lively': 13, 'consult': 13, 'public': 13, 'frighten': 13, 'recommendation': 13, 'winter': 13, 'feature': 13, 'strength': 13, 'evidently': 13, 'nash': 13, 'knightleys': 13, 'rule': 13, 'pretend': 13, 'decidedly': 13, 'assurance': 13, 'proposal': 13, 'deceive': 13, 'tender': 13, 'fast': 13, 'hesitate': 13, 'absent': 13, 'apology': 13, 'unpleasant': 13, 'piece': 13, 'decline': 13, 'intelligence': 13, 'wretched': 13, 'around': 13, 'communicate': 13, 'arrival': 13, 'shake': 13, 'disengage': 13, 'misery': 13, 'madam': 13, 'travel': 13, 'sacrifice': 13, 'folly': 13, 'astonish': 13, 'bride': 13, 'cox': 13, 'larkins': 13, 'wonderful': 13, 'richmond': 13, 'dream': 13, 'mistress': 12, 'compose': 12, 'illness': 12, 'intercourse': 12, 'melancholy': 12, 'humour': 12, 'exertion': 12, 'intimate': 12, 'square': 12, 'hard': 12, 'breakfast': 12, 'behave': 12, 'rate': 12, 'bless': 12, 'instance': 12, 'silly': 12, 'importance': 12, 'mortification': 12, 'comparison': 12, 'improve': 12, 'truly': 12, 'report': 12, 'earnestly': 12, 'persuasion': 12, 'fetch': 12, 'felicity': 12, 'contrive': 12, 'thorough': 12, 'confine': 12, 'lay': 12, 'entertain': 12, 'gain': 12, 'awkward': 12, 'material': 12, 'complexion': 12, 'size': 12, 'sooner': 12, 'peace': 12, 'agitate': 12, 'error': 12, 'intelligible': 12, 'thus': 12, 'induced': 12, 'journey': 12, 'private': 12, 'message': 12, 'not': 12, 'reproach': 12, 'bed': 12, 'excessively': 12, 'preference': 12, 'spare': 12, 'discovery': 12, 'impatient': 12, 'patty': 12, 'whisper': 12, 'warmth': 12, 'neglect': 12, 'nay': 12, 'partner': 12, 'peculiarly': 11, 'christmas': 11, 'accepted': 11, 'nervous': 11, 'differently': 11, 'happier': 11, 'brunswick': 11, 'dependence': 11, 'independence': 11, 'success': 11, 'lane': 11, 'employment': 11, 'comfortably': 11, 'six': 11, 'fell': 11, 'youth': 11, 'addition': 11, 'measure': 11, 'parish': 11, 'lovely': 11, 'middle': 11, 'school': 11, 'principle': 11, 'dread': 11, 'remarkably': 11, 'laid': 11, 'supper': 11, 'grieve': 11, 'humble': 11, 'affair': 11, 'maid': 11, 'notion': 11, 'wholly': 11, 'figure': 11, 'sufficient': 11, 'steady': 11, 'submit': 11, 'patience': 11, 'borne': 11, 'inconvenience': 11, 'hesitation': 11, 'gallant': 11, 'parcel': 11, 'protest': 11, 'judged': 11, 'detain': 11, 'wit': 11, 'extreme': 11, 'exceedingly': 11, 'uneasy': 11, 'conscious': 11, 'chair': 11, 'housekeeper': 11, 'perfection': 11, 'interrupt': 11, 'throat': 11, 'miserable': 11, 'complaint': 11, 'heat': 11, 'resume': 11, 'wise': 11, 'thanks': 11, 'eagerly': 11, 'maam': 11, 'human': 11, 'distinguish': 11, 'pork': 11, 'kindly': 11, 'mad': 11, 'e': 11, 'concealment': 11, 'die': 10, 'remembrance': 10, 'office': 10, 'rank': 10, 'owe': 10, 'daily': 10, 'reconcile': 10, 'properly': 10, 'luck': 10, 'unreasonable': 10, 'income': 10, 'overcome': 10, 'prevail': 10, 'source': 10, 'apparent': 10, 'unless': 10, 'united': 10, 'term': 10, 'superiority': 10, 'distinction': 10, 'simplicity': 10, 'liberal': 10, 'grace': 10, 'farm': 10, 'hurt': 10, 'very': 10, 'preserve': 10, 'introduction': 10, 'distinct': 10, 'describe': 10, 'money': 10, 'disgust': 10, 'memory': 10, 'liberty': 10, 'direction': 10, 'improvement': 10, 'lover': 10, 'delicate': 10, 'contain': 10, 'provoke': 10, 'honourable': 10, 'offence': 10, 'throw': 10, 'tall': 10, 'safety': 10, 'principal': 10, 'conveyed': 10, 'prompt': 10, 'pardon': 10, 'consolation': 10, 'gradually': 10, 'certainty': 10, 'nice': 10, 'uneasiness': 10, 'attentive': 10, 'suggest': 10, 'eagerness': 10, 'syllable': 10, 'satisfy': 10, 'necessity': 10, 'preparation': 10, 'writes': 10, 'resource': 10, 'death': 10, 'bustle': 10, 'wingfield': 10, 'restore': 10, 'rejoice': 10, 'positively': 10, 'shewn': 10, 'sunk': 10, 'distant': 10, 'england': 10, 'deeply': 10, 'crowd': 10, 'selina': 10, 'hot': 10, 'smallridge': 10, 'affectionate': 9, 'sixteen': 9, 'beloved': 9, 'wedding': 9, 'promote': 9, 'maintain': 9, 'attack': 9, 'bye': 9, 'congratulation': 9, 'troublesome': 9, 'smooth': 9, 'shame': 9, 'offend': 9, 'choice': 9, 'sufficiently': 9, 'cool': 9, 'female': 9, 'horror': 9, 'parlour': 9, 'soft': 9, 'guest': 9, 'gruel': 9, 'boil': 9, 'valuable': 9, 'independent': 9, 'discover': 9, 'chose': 9, 'sink': 9, 'sing': 9, 'ignorant': 9, 'nearer': 9, 'held': 9, 'quickness': 9, 'strike': 9, 'fairly': 9, 'doubtful': 9, 'lament': 9, 'create': 9, 'attraction': 9, 'stopt': 9, 'exquisite': 9, 'tolerable': 9, 'progress': 9, 'plea': 9, 'performance': 9, 'accompany': 9, 'continual': 9, 'stir': 9, 'precious': 9, 'language': 9, 'propriety': 9, 'result': 9, 'overpower': 9, 'speaks': 9, 'foolish': 9, 'his': 9, 'alter': 9, 'sick': 9, 'fellow': 9, 'expose': 9, 'congratulate': 9, 'ran': 9, 'provide': 9, 'street': 9, 'now': 9, 'pretence': 9, 'grandmother': 9, 'relief': 9, 'temptation': 9, 'quietly': 9, 'surry': 9, 'fatigue': 9, 'profession': 9, 'procure': 9, 'render': 9, 'heavy': 9, 'conceive': 9, 'risk': 9, 'previous': 9, 'urge': 9, 'shut': 9, 'witness': 9, 'mark': 9, 'resentment': 9, 'start': 9, 'motive': 9, 'spectacle': 9, 'colour': 9, 'shop': 9, 'conjecture': 9, 'tongue': 9, 'bake': 9, 'courtplaister': 9, 'governess': 8, 'played': 8, 'devote': 8, 'constitution': 8, 'matrimony': 8, 'support': 8, 'cheerfully': 8, 'we': 8, 'unnecessary': 8, 'frequent': 8, 'animate': 8, 'dreadfully': 8, 'acceptable': 8, 'shook': 8, 'constantly': 8, 'farmer': 8, 'proud': 8, 'interference': 8, 'yorkshire': 8, 'amaze': 8, 'expense': 8, 'relieve': 8, 'soften': 8, 'twenty': 8, 'include': 8, 'frequently': 8, 'several': 8, 'pleasantly': 8, 'treat': 8, 'guide': 8, 'grant': 8, 'aloud': 8, 'kingston': 8, 'foot': 8, 'birth': 8, 'elizabeth': 8, 'vulgar': 8, 'flutter': 8, 'entire': 8, 'forty': 8, 'grave': 8, 'contrary': 8, 'here': 8, 'quality': 8, 'decision': 8, 'passion': 8, 'earnest': 8, 'mixture': 8, 'displeased': 8, 'shade': 8, 'errand': 8, 'hitherto': 8, 'ceremony': 8, 'tiresome': 8, 'judging': 8, 'indignation': 8, 'lip': 8, 'examine': 8, 'lord': 8, 'resist': 8, 'alliance': 8, 'staid': 8, 'glow': 8, 'conclusion': 8, 'nod': 8, 'eldest': 8, 'oclock': 8, 'din': 8, 'forbearance': 8, 'coolly': 8, 'english': 8, 'south': 8, 'dangerous': 8, 'abroad': 8, 'dull': 8, 'guard': 8, 'accommodation': 8, 'tremble': 8, 'instant': 8, 'blame': 8, 'composure': 8, 'evident': 8, 'self': 8, 'exert': 8, 'practise': 8, 'god': 8, 'forgive': 8, 'indulgence': 8, 'spread': 8, 'bristol': 8, 'check': 8, 'hall': 8, 'earlier': 8, 'own': 8, 'delightfully': 8, 'of': 8, 'postoffice': 8, 'gipsy': 8, 'strawberry': 8, 'existence': 7, 'them': 7, 'esteem': 7, 'chiefly': 7, 'threaten': 7, 'misfortune': 7, 'sleep': 7, 'unexceptionable': 7, 'taught': 7, 'domestic': 7, 'disparity': 7, 'shrubbery': 7, 'goodhumoured': 7, 'spar': 7, 'flow': 7, 'damp': 7, 'joke': 7, 'wherever': 7, 'pursuit': 7, 'active': 7, 'bore': 7, 'goodness': 7, 'anger': 7, 'wealth': 7, 'seek': 7, 'purchase': 7, 'apprehension': 7, 'boast': 7, 'partial': 7, 'gentlemanlike': 7, 'apply': 7, 'pair': 7, 'unequal': 7, 'content': 7, 'establishment': 7, 'profess': 7, 'sentence': 7, 'spot': 7, 'church': 7, 'anticipate': 7, 'sweetness': 7, 'unwilling': 7, 'push': 7, 'water': 7, 'confirm': 7, 'abbeymill': 7, 'ride': 7, 'precisely': 7, 'june': 7, 'symptom': 7, 'grown': 7, 'personal': 7, 'brain': 7, 'twelve': 7, 'puzzle': 7, 'prepare': 7, 'vexation': 7, 'learn': 7, 'variety': 7, 'upright': 7, 'arise': 7, 'apprehend': 7, 'alarmed': 7, 'destiny': 7, 'surmise': 7, 'difficult': 7, 'study': 7, 'corner': 7, 'declaration': 7, 'lessen': 7, 'discern': 7, 'morrow': 7, 'tree': 7, 'repetition': 7, 'strongly': 7, 'conscience': 7, 'envy': 7, 'dark': 7, 'explain': 7, 'offering': 7, 'depends': 7, 'goodnatured': 7, 'unfortunate': 7, 'involve': 7, 'greatly': 7, 'opposite': 7, 'hastily': 7, 'collection': 7, 'benefit': 7, 'distinctly': 7, 'affected': 7, 'thanked': 7, 'bow': 7, 'parade': 7, 'apt': 7, 'broad': 7, 'remark': 7, 'class': 7, 'induce': 7, 'impression': 7, 'lace': 7, 'stoop': 7, 'cautious': 7, 'advance': 7, 'hazard': 7, 'autumn': 7, 'alike': 7, 'blindness': 7, 'extent': 7, 'convenience': 7, 'ye': 7, 'coldness': 7, 'white': 7, 'happiest': 7, 'perplexity': 7, 'insufferable': 7, 'substance': 7, 'sanguine': 7, 'terror': 7, 'abominable': 7, 'seize': 7, 'presumption': 7, 'politeness': 7, 'trick': 7, 'removal': 7, 'rouse': 7, 'yield': 7, 'saturday': 7, 'tuesday': 7, 'unwell': 7, 'action': 7, 'remind': 7, 'acquit': 7, 'description': 7, 'gown': 7, 'sincerely': 7, 'midst': 7, 'peculiar': 7, 'sensibility': 7, 'quickly': 7, 'draught': 7, 'readily': 7, 'treatment': 7, 'relate': 7, 'february': 7, 'across': 7, 'rivet': 7, 'barouchelandau': 7, 'bragge': 7, 'authority': 6, 'cheer': 6, 'various': 6, 'seven': 6, 'unreserve': 6, 'dearer': 6, 'fill': 6, 'amount': 6, 'woodhouses': 6, 'depressed': 6, 'chat': 6, 'deserves': 6, 'dirty': 6, 'vast': 6, 'divide': 6, 'matchmaking': 6, 'triumph': 6, 'manage': 6, 'born': 6, 'gentility': 6, 'property': 6, 'social': 6, 'proportion': 6, 'refrain': 6, 'establish': 6, 'adjoin': 6, 'accord': 6, 'shaken': 6, 'obtain': 6, 'affect': 6, 'season': 6, 'nerve': 6, 'privilege': 6, 'cheerfulness': 6, 'talker': 6, 'system': 6, 'reckon': 6, 'ample': 6, 'neat': 6, 'request': 6, 'condition': 6, 'unworthy': 6, 'meal': 6, 'fashion': 6, 'thin': 6, 'wine': 6, 'satisfactory': 6, 'foreseen': 6, 'division': 6, 'design': 6, 'conceit': 6, 'parent': 6, 'horseback': 6, 'repent': 6, 'hence': 6, 'contrast': 6, 'plainly': 6, 'awkwardness': 6, 'later': 6, 'displeasure': 6, 'probable': 6, 'drew': 6, 'slow': 6, 'despair': 6, 'inferiority': 6, 'brilliant': 6, 'height': 6, 'unjust': 6, 'fate': 6, 'animation': 6, 'pencil': 6, 'labour': 6, 'skill': 6, 'baby': 6, 'george': 6, 'correct': 6, 'commission': 6, 'entreaty': 6, 'song': 6, 'anxiously': 6, 'slowly': 6, 'suspense': 6, 'censure': 6, 'rude': 6, 'sun': 6, 'stranger': 6, 'pace': 6, 'inclined': 6, 'imprudent': 6, 'sought': 6, 'weak': 6, 'teach': 6, 'application': 6, 'motif': 6, 'latter': 6, 'riddle': 6, 'display': 6, 'bend': 6, 'length': 6, 'acknowledgment': 6, 'front': 6, 'cheek': 6, 'commit': 6, 'amiss': 6, 'cottage': 6, 'gate': 6, 'warmer': 6, 'heaven': 6, 'topic': 6, 'scene': 6, 'rapidly': 6, 'coachman': 6, 'capable': 6, 'charity': 6, 'fly': 6, 'argument': 6, 'calmness': 6, 'law': 6, 'article': 6, 'headache': 6, 'prejudice': 6, 'unfortunately': 6, 'interval': 6, 'convey': 6, 'sore': 6, 'liable': 6, 'dignity': 6, 'moderate': 6, 'astonishment': 6, 'encounter': 6, 'deem': 6, 'afternoon': 6, 'diningroom': 6, 'halfhour': 6, 'continually': 6, 'effort': 6, 'accent': 6, 'swell': 6, 'herself': 6, 'subdue': 6, 'penance': 6, 'resolutely': 6, 'twice': 6, 'meanwhile': 6, 'drawback': 6, 'sinking': 6, 'retire': 6, 'necessarily': 6, 'openly': 6, 'leg': 6, 'imply': 6, 'courage': 6, 'disturbed': 6, 'gay': 6, 'entertainment': 6, 'constant': 6, 'ballroom': 6, 'betrayed': 6, 'reflect': 6, 'heartily': 6, 'have': 6, 'gilbert': 6, 'speculation': 6, 'tenderness': 6, 'suckling': 6, 'avert': 6, 'restraint': 5, 'shape': 5, 'grief': 5, 'black': 5, 'recall': 5, 'nurse': 5, 'november': 5, 'struggle': 5, 'mutual': 5, 'gratefully': 5, 'mild': 5, 'horrible': 5, 'solemn': 5, 'native': 5, 'luxury': 5, 'occupation': 5, 'eighteen': 5, 'determination': 5, 'steadily': 5, 'assume': 5, 'prize': 5, 'irresistible': 5, 'separation': 5, 'privation': 5, 'convenient': 5, 'spending': 5, 'evening': 5, 'sorrowful': 5, 'unwholesome': 5, 'outward': 5, 'surround': 5, 'refine': 5, 'honest': 5, 'quantity': 5, 'plenty': 5, 'wholesome': 5, 'entitle': 5, 'formerly': 5, 'unusual': 5, 'basin': 5, 'egg': 5, 'bit': 5, 'free': 5, 'penetration': 5, 'eight': 5, 'bid': 5, 'card': 5, 'forth': 5, 'associate': 5, 'educate': 5, 'admirer': 5, 'yard': 5, 'voluntarily': 5, 'becomes': 5, 'pattern': 5, 'downright': 5, 'deficiency': 5, 'rid': 5, 'sex': 5, 'inducement': 5, 'emmas': 5, 'refresh': 5, 'spoil': 5, 'your': 5, 'flattery': 5, 'uncomfortable': 5, 'kinder': 5, 'angel': 5, 'discussion': 5, 'remains': 5, 'illhumour': 5, 'sincere': 5, 'principally': 5, 'possession': 5, 'rapture': 5, 'mouth': 5, 'excellence': 5, 'unlike': 5, 'sketch': 5, 'sofa': 5, 'promising': 5, 'resemblance': 5, 'shawl': 5, 'fearful': 5, 'disgrace': 5, 'speedily': 5, 'powerful': 5, 'safer': 5, 'confuse': 5, 'impatience': 5, 'decisive': 5, 'ungrateful': 5, 'original': 5, 'defer': 5, 'invalid': 5, 'madness': 5, 'relation': 5, 'desert': 5, 'allowance': 5, 'selfish': 5, 'mischief': 5, 'mystery': 5, 'refusal': 5, 'project': 5, 'abruptly': 5, 'prudence': 5, 'forgiven': 5, 'justified': 5, 'earth': 5, 'reign': 5, 'ponder': 5, 'kingdom': 5, 'fool': 5, 'phrase': 5, 'nicely': 5, 'exception': 5, 'betray': 5, 'ridiculous': 5, 'thankful': 5, 'unwelcome': 5, 'disappoint': 5, 'relative': 5, 'candour': 5, 'barely': 5, 'counsel': 5, 'virtue': 5, 'sympathy': 5, 'wretchedness': 5, 'suffering': 5, 'harriets': 5, 'obligation': 5, 'pale': 5, 'exceed': 5, 'incessant': 5, 'somehow': 5, 'noise': 5, 'drinking': 5, 'september': 5, 'fever': 5, 'threeandtwenty': 5, 'sign': 5, 'c': 5, 'he': 5, 'whim': 5, 'example': 5, 'renew': 5, 'mix': 5, 'occasionally': 5, 'bateses': 5, 'ear': 5, 'moreover': 5, 'roast': 5, 'demand': 5, 'negligent': 5, 'motion': 5, 'cordial': 5, 'modern': 5, 'revive': 5, 'january': 5, 'calculate': 5, 'jealousy': 5, 'complain': 5, 'restrain': 5, 'emotion': 5, 'embarrassment': 5, 'abundance': 5, 'operation': 5, 'seclusion': 5, 'agreeably': 5, 'wound': 5, 'loud': 5, 'signify': 5, 'treasure': 5, 'sin': 5, 'handwrite': 5, 'dixons': 5, 'joint': 5, 'deficient': 5, 'faint': 5, 'described': 5, 'blood': 5, 'resent': 5, 'tranquillity': 5, 'acquiescence': 5, 'foresee': 5, 'kindhearted': 5, 'mixed': 5, 'permit': 5, 'pronounce': 5, 'noble': 5, 'dwell': 5, 'unsuspicious': 5, 'retirement': 5, 'thoughtful': 5, 'momentary': 5, 'basket': 5, 'ribbon': 5, 'distressed': 5, 'hodges': 5, 'all': 5, 'shortly': 5, 'gravely': 5, 'cardroom': 5, 'uncertainty': 5, 'prosperous': 5, 'painful': 5, 'selfcommand': 5, 'hasty': 5, 'entrance': 5, 'to': 5, 'finery': 5, 'calm': 5, 'faith': 5, 'wet': 5, 'gaiety': 5, 'otway': 5, 'suddenly': 5, 'slightest': 5, 'ostler': 5, 'windsor': 5, 'impose': 4, 'sorrow': 4, 'weddingday': 4, 'third': 4, 'suitable': 4, 'generous': 4, 'intelligent': 4, 'arose': 4, 'activity': 4, 'october': 4, 'lawn': 4, 'universally': 4, 'hat': 4, 'origin': 4, 'selfishness': 4, 'stable': 4, 'elder': 4, 'shoe': 4, 'charmingly': 4, 'fondly': 4, 'dart': 4, 'idle': 4, 'unaffected': 4, 'ii': 4, 'dissuade': 4, 'pursue': 4, 'additional': 4, 'trade': 4, 'bought': 4, 'unlikely': 4, 'caprice': 4, 'belonging': 4, 'strengthen': 4, 'alleviation': 4, 'weddingcake': 4, 'unfit': 4, 'disagree': 4, 'moderately': 4, 'slice': 4, 'iii': 4, 'residence': 4, 'fortunately': 4, 'exchange': 4, 'blank': 4, 'hardship': 4, 'uncommon': 4, 'popularity': 4, 'hate': 4, 'sell': 4, 'train': 4, 'fireside': 4, 'acquire': 4, 'bloom': 4, 'blue': 4, 'varied': 4, 'teacher': 4, 'exultation': 4, 'cow': 4, 'dozen': 4, 'goodnature': 4, 'game': 4, 'dwelt': 4, 'fourandtwenty': 4, 'beforehand': 4, 'careful': 4, 'station': 4, 'marries': 4, 'insensible': 4, 'repeatedly': 4, 'profit': 4, 'disturb': 4, 'copy': 4, 'model': 4, 'date': 4, 'weight': 4, 'dispense': 4, 'list': 4, 'sens': 4, 'ignorance': 4, 'firm': 4, 'hears': 4, 'brings': 4, 'somewhat': 4, 'perception': 4, 'graceful': 4, 'naivete': 4, 'drawing': 4, 'steadiness': 4, 'destine': 4, 'blushing': 4, 'considerably': 4, 'shoulder': 4, 'frame': 4, 'december': 4, 'longing': 4, 'd': 4, 'writer': 4, 'persevere': 4, 'graciously': 4, 'kill': 4, 'conceited': 4, 'tendency': 4, 'reject': 4, 'likewise': 4, 'bestow': 4, 'dropt': 4, 'considers': 4, 'infer': 4, 'experience': 4, 'degradation': 4, 'level': 4, 'indubitable': 4, 'whoever': 4, 'shift': 4, 'represent': 4, 'consequently': 4, 'tolerate': 4, 'sincerity': 4, 'pound': 4, 'vexed': 4, 'sanction': 4, 'materially': 4, 'pretension': 4, 'furnish': 4, 'comprehension': 4, 'sober': 4, 'grand': 4, 'conundrum': 4, 'intently': 4, 'denote': 4, 'page': 4, 'security': 4, 'king': 4, 'reverse': 4, 'humph': 4, 'crisis': 4, 'shark': 4, 'soul': 4, 'incline': 4, 'charitable': 4, 'hedge': 4, 'narrow': 4, 'oneandtwenty': 4, 'compassionate': 4, 'path': 4, 'trial': 4, 'boot': 4, 'detail': 4, 'serve': 4, 'alertness': 4, 'allusion': 4, 'anticipation': 4, 'disperse': 4, 'attendance': 4, 'benevolence': 4, 'clearness': 4, 'ungracious': 4, 'injury': 4, 'exact': 4, 'aside': 4, 'f': 4, 'disagreement': 4, 'requisite': 4, 'equality': 4, 'cooler': 4, 'bathing': 4, 'sickly': 4, 'meadow': 4, 'exclude': 4, 'interfere': 4, 'accordingly': 4, 'shelter': 4, 'assent': 4, 'usually': 4, 'my': 4, 'related': 4, 'engross': 4, 'suggestion': 4, 'zeal': 4, 'apprehensive': 4, 'impropriety': 4, 'disorder': 4, 'scrupulous': 4, 'reproof': 4, 'cover': 4, 'wind': 4, 'soninlaw': 4, 'l': 4, 'representation': 4, 'along': 4, 'teteatete': 4, 'amazement': 4, 'few': 4, 'inequality': 4, 'irritation': 4, 'solicitous': 4, 'perturbation': 4, 'humiliation': 4, 'double': 4, 'indebted': 4, 'hang': 4, 'impossibility': 4, 'destroy': 4, 'confession': 4, 'artless': 4, 'welfare': 4, 'inevitable': 4, 'unfair': 4, 'chuses': 4, 'rightly': 4, 'throughout': 4, 'cordially': 4, 'handsomely': 4, 'unexpected': 4, 'deaf': 4, 'presence': 4, 'unlucky': 4, 'firstrate': 4, 'qualify': 4, 'earn': 4, 'fortitude': 4, 'wiser': 4, 'impute': 4, 'injured': 4, 'illhealth': 4, 'discretion': 4, 'perseverance': 4, 'appeal': 4, 'thither': 4, 'series': 4, 'augusta': 4, 'lesson': 4, 'disdain': 4, 'stupid': 4, 'ala': 4, 'glimpse': 4, 'somewhere': 4, 'just': 4, 'allowable': 4, 'absolute': 4, 'formal': 4, 'mill': 4, 'portion': 4, 'dry': 4, 'downstairs': 4, 'liveliness': 4, 'reception': 4, 'detect': 4, 'concurrence': 4, 'amends': 4, 'oftener': 4, 'positive': 4, 'inn': 4, 'preparatory': 4, 'utter': 4, 'glove': 4, 'stretch': 4, 'improper': 4, 'perpetual': 4, 'chaise': 4, 'occurrence': 4, 'assemble': 4, 'before': 4, 'adopt': 4, 'irish': 4, 'disinterested': 4, 'supplant': 4, 'divert': 4, 'thick': 4, 'space': 4, 'dancer': 4, 'fruit': 4, 'apparently': 4, 'key': 4, 'store': 4, 'cousin': 4, 'thoughtless': 4, 'stokes': 4, 'measles': 4, 'stair': 4, 'overhear': 4, 'unwillingness': 4, 'so': 4, 'imaginary': 4, 'subsequent': 4, 'extensive': 4, 'unknown': 4, 'caro': 4, 'sposo': 4, 'remiss': 4, 'wright': 4, 'eligible': 4, 'punishment': 4, 'midsummer': 4, 'allude': 4, 'drop': 4, 'a': 4, 'injustice': 4, 'tranquil': 4, 'cruel': 4, 'bank': 4, 'insolent': 4, 'sprucebeer': 4, 'donkey': 4, 'post': 4, 'swisserland': 4, 'union': 4, 'generosity': 4, 'some': 4, 'hush': 4, 'misunderstanding': 4, 'misconduct': 4, 'w': 4, 'astley': 4, 'volume': 3, 'unite': 3, 'mutually': 3, 'alloy': 3, 'footing': 3, 'possess': 3, 'wellinformed': 3, 'intellectual': 3, 'solitude': 3, 'actual': 3, 'everywhere': 3, 'friendliness': 3, 'asks': 3, 'backgammon': 3, 'fanciful': 3, 'apart': 3, 'will': 3, 'provision': 3, 'foretell': 3, 'borrow': 3, 'umbrella': 3, 'planning': 3, 'cleverer': 3, 'straightforward': 3, 'indispose': 3, 'county': 3, 'captain': 3, 'infinite': 3, 'unsuitable': 3, 'reconciliation': 3, 'reluctance': 3, 'estate': 3, 'pleasantest': 3, 'energy': 3, 'solitary': 3, 'centre': 3, 'confirmation': 3, 'cake': 3, 'elegancies': 3, 'grievance': 3, 'widow': 3, 'vicar': 3, 'harmless': 3, 'trivial': 3, 'accomplishment': 3, 'prodigy': 3, 'healthy': 3, 'food': 3, 'occasional': 3, 'holiday': 3, 'hung': 3, 'win': 3, 'seventeen': 3, 'gracious': 3, 'parlourboarder': 3, 'impressed': 3, 'waste': 3, 'reside': 3, 'coarse': 3, 'alacrity': 3, 'attentively': 3, 'hospitality': 3, 'serle': 3, 'understands': 3, 'glass': 3, 'iv': 3, 'suffice': 3, 'summon': 3, 'being': 3, 'upper': 3, 'drink': 3, 'fifty': 3, 'thirty': 3, 'stock': 3, 'degrade': 3, 'gentleness': 3, 'forgot': 3, 'specimen': 3, 'abrupt': 3, 'openness': 3, 'softness': 3, 'softer': 3, 'palpably': 3, 'expediency': 3, 'wellmeaning': 3, 'foundation': 3, 'conquer': 3, 'v': 3, 'regularly': 3, 'feelingly': 3, 'dependent': 3, 'flatterer': 3, 'hazle': 3, 'loveliness': 3, 'lie': 3, 'truer': 3, 'declares': 3, 'transition': 3, 'vi': 3, 'confident': 3, 'contradict': 3, 'inimitable': 3, 'sang': 3, 'capital': 3, 'kindest': 3, 'bella': 3, 'apologise': 3, 'attitude': 3, 'fidget': 3, 'gaze': 3, 'courtesy': 3, 'rapid': 3, 'eyelash': 3, 'prettily': 3, 'admirable': 3, 'alert': 3, 'incommode': 3, 'vii': 3, 'clearly': 3, 'contemplate': 3, 'pang': 3, 'refinement': 3, 'modest': 3, 'mount': 3, 'viii': 3, 'safest': 3, 'seemingly': 3, 'voluntary': 3, 'wretch': 3, 'contradiction': 3, 'clearer': 3, 'loudly': 3, 'avail': 3, 'beneath': 3, 'estimate': 3, 'contemptible': 3, 'posse': 3, 'abuse': 3, 'obscurity': 3, 'prudent': 3, 'desperate': 3, 'cast': 3, 'failure': 3, 'prominent': 3, 'rode': 3, 'ix': 3, 'elegantly': 3, 'sittingroom': 3, 'pleasanter': 3, 'ornament': 3, 'kitty': 3, 'frozen': 3, 'intellect': 3, 'contribute': 3, 'breathe': 3, 'heal': 3, 'freshness': 3, 'behold': 3, 'monarch': 3, 'freedom': 3, 'beam': 3, 'dulness': 3, 'courtship': 3, 'mermaid': 3, 'court': 3, 'verse': 3, 'prose': 3, 'sends': 3, 'handsomest': 3, 'scold': 3, 'twelvemonth': 3, 'intent': 3, 'secrecy': 3, 'recurrence': 3, 'aid': 3, 'lawyer': 3, 'inconvenient': 3, 'sadly': 3, 'muse': 3, 'grandpapa': 3, 'string': 3, 'rough': 3, 'ostensible': 3, 'effusion': 3, 'x': 3, 'yellow': 3, 'formidable': 3, 'poverty': 3, 'sport': 3, 'variation': 3, 'forbid': 3, 'knit': 3, 'purse': 3, 'footstep': 3, 'footpath': 3, 'console': 3, 'broke': 3, 'proposition': 3, 'practicable': 3, 'glory': 3, 'inch': 3, 'device': 3, 'xi': 3, 'needle': 3, 'competent': 3, 'wrapt': 3, 'inherit': 3, 'illtempered': 3, 'unreasonably': 3, 'worship': 3, 'calmly': 3, 'remonstrance': 3, 'false': 3, 'advocate': 3, 'exist': 3, 'xii': 3, 'bury': 3, 'conversable': 3, 'communicative': 3, 'curious': 3, 'field': 3, 'local': 3, 'unpersuadable': 3, 'bilious': 3, 'practice': 3, 'attribute': 3, 'august': 3, 'airy': 3, 'similar': 3, 'recent': 3, 'cromer': 3, 'soothe': 3, 'renewal': 3, 'xiii': 3, 'denial': 3, 'advanced': 3, 'despatch': 3, 'mutton': 3, 'exult': 3, 'overlook': 3, 'ascertain': 3, 'punctually': 3, 'absurdity': 3, 'comply': 3, 'breath': 3, 'sweepgate': 3, 'xiv': 3, 'joyous': 3, 'amongst': 3, 'issue': 3, 'gladly': 3, 'jealous': 3, 'owes': 3, 'xv': 3, 'infection': 3, 'earnestness': 3, 'behaving': 3, 'careless': 3, 'storm': 3, 'exclamation': 3, 'sweep': 3, 'cloud': 3, 'tidings': 3, 'appease': 3, 'carefully': 3, 'stept': 3, 'deliver': 3, 'slightly': 3, 'alive': 3, 'sole': 3, 'indispensable': 3, 'xvi': 3, 'blow': 3, 'unnecessarily': 3, 'insult': 3, 'arrogance': 3, 'land': 3, 'rave': 3, 'adventure': 3, 'pert': 3, 'xvii': 3, 'ceremonious': 3, 'retain': 3, 'discreet': 3, 'repress': 3, 'method': 3, 'strive': 3, 'xviii': 3, 'foresaw': 3, 'unnatural': 3, 'luxurious': 3, 'haunt': 3, 'wateringplace': 3, 'flourish': 3, 'falsehood': 3, 'hit': 3, 'doubly': 3, 'behindhand': 3, 'coxcomb': 3, 'enable': 3, 'puppy': 3, 'counteract': 3, 'apartment': 3, 'wander': 3, 'beautifully': 3, 'remarkable': 3, 'friday': 3, 'dash': 3, 'considerate': 3, 'fame': 3, 'limited': 3, 'nine': 3, 'hereafter': 3, 'ability': 3, 'judicious': 3, 'unseen': 3, 'bread': 3, 'novelty': 3, 'skin': 3, 'fuller': 3, 'complacency': 3, 'effectually': 3, 'reappear': 3, 'smoothness': 3, 'loin': 3, 'hither': 3, 'bonnet': 3, 'sly': 3, 'talkative': 3, 'rush': 3, 'correspond': 3, 'there': 3, 'genuine': 3, 'rapidity': 3, 'accidental': 3, 'rencontre': 3, 'scatter': 3, 'grandeur': 3, 'irritated': 3, 'dissipate': 3, 'ingratitude': 3, 'drove': 3, 'the': 3, 'commonplace': 3, 'refreshment': 3, 'lean': 3, 'injunction': 3, 'motherinlaw': 3, 'bearing': 3, 'club': 3, 'successful': 3, 'deplorable': 3, 'hesitatingly': 3, 'myself': 3, 'recur': 3, 'wickedness': 3, 'blockhead': 3, 'restlessness': 3, 'marked': 3, 'unpretending': 3, 'numerous': 3, 'resign': 3, 'hungry': 3, 'dialogue': 3, 'bewilder': 3, 'with': 3, 'mode': 3, 'honestly': 3, 'reasoning': 3, 'guilt': 3, 'humanity': 3, 'imprudence': 3, 'shameful': 3, 'petticoat': 3, 'louder': 3, 'assert': 3, 'interruption': 3, 'subside': 3, 'mercy': 3, 'performer': 3, 'top': 3, 'submission': 3, 'vigorously': 3, 'anne': 3, 'knock': 3, 'reward': 3, 'job': 3, 'fasten': 3, 'wallis': 3, 'custom': 3, 'famous': 3, 'staircase': 3, 'shews': 3, 'wild': 3, 'surely': 3, 'forlorn': 3, 'miserably': 3, 'chief': 3, 'joyful': 3, 'total': 3, 'embarrass': 3, 'correspondent': 3, 'goodbye': 3, 'constancy': 3, 'odious': 3, 'invent': 3, 'disappearance': 3, 'convincing': 3, 'beat': 3, 'affectedly': 3, 'familiar': 3, 'favourably': 3, 'partridge': 3, 'upstart': 3, 'departure': 3, 'retract': 3, 'enliven': 3, 'sneer': 3, 'more': 3, 'wear': 3, 'meditate': 3, 'littleness': 3, 'candle': 3, 'bottom': 3, 'themselves': 3, 'cough': 3, 'april': 3, 'strict': 3, 'show': 3, 'finger': 3, 'encumbrance': 3, 'unnoticed': 3, 'twentyfour': 3, 'hughes': 3, 'patient': 3, 'bound': 3, 'asparagus': 3, 'unpardonable': 3, 'enemy': 3, 'bickerton': 3, 'delayed': 3, 'cotton': 3, 'burn': 3, 'speed': 3, 'alphabet': 3, 'distrust': 3, 'demure': 3, 'excessive': 3, 'vouchsafe': 3, 'humourist': 3, 'wood': 3, 'river': 3, 'prosperity': 3, 'again': 3, 'weary': 3, 'blameless': 3, 'penetrate': 3, 'estimation': 3, 'playfulness': 3, 'broken': 3, 'refer': 3, 'unfeeling': 3, 'salary': 3, 'arrowroot': 3, 'unaccountable': 3, 'once': 3, 'secresy': 3, 'elevation': 3, 'disclosure': 3, 'withdrawn': 3, 'bitter': 3, 'delusion': 3, 'essential': 3, 'shamefully': 3, 'saucy': 3, 'dentist': 3, 'checked': 3, 'indulgent': 2, 'shadow': 2, 'unperceived': 2, 'continuance': 2, 'childhood': 2, 'dearly': 2, 'playful': 2, 'comparatively': 2, 'populous': 2, 'village': 2, 'hannah': 2, 'lock': 2, 'satisfactorily': 2, 'moonlight': 2, 'surprising': 2, 't': 2, 'playfully': 2, 'openhearted': 2, 'rejoin': 2, 'chicken': 2, 'generation': 2, 'militia': 2, 'threw': 2, 'decorum': 2, 'bargain': 2, 'decease': 2, 'realise': 2, 'sale': 2, 'tacitly': 2, 'heir': 2, 'govern': 2, 'deservedly': 2, 'achieve': 2, 'drank': 2, 'likelihood': 2, 'stomach': 2, 'benevolent': 2, 'rumour': 2, 'dinnerparties': 2, 'longstanding': 2, 'vacant': 2, 'atonement': 2, 'gossip': 2, 'combine': 2, 'acquirement': 2, 'oldfashioned': 2, 'price': 2, 'scramble': 2, 'motherly': 2, 'sixpence': 2, 'fearfully': 2, 'respectful': 2, 'visible': 2, 'deference': 2, 'detach': 2, 'undertaking': 2, 'flew': 2, 'urgency': 2, 'warfare': 2, 'selfapprobation': 2, 'constrain': 2, 'clearing': 2, 'panic': 2, 'appreciate': 2, 'basis': 2, 'youthful': 2, 'fiveandtwenty': 2, 'welch': 2, 'summerhouse': 2, 'merry': 2, 'walnut': 2, 'flock': 2, 'goose': 2, 'sunday': 2, 'extract': 2, 'romance': 2, 'forest': 2, 'scrape': 2, 'firmly': 2, 'permanently': 2, 'advisable': 2, 'clownish': 2, 'genteel': 2, 'breed': 2, 'grows': 2, 'glare': 2, 'passable': 2, 'thrive': 2, 'illiterate': 2, 'goodhumour': 2, 'predict': 2, 'inform': 2, 'fourteen': 2, 'subjection': 2, 'then': 2, 'omit': 2, 'diffident': 2, 'matrimonial': 2, 'plague': 2, 'genius': 2, 'belongs': 2, 'adapt': 2, 'rationally': 2, 'stout': 2, 'hereabouts': 2, 'fairest': 2, 'admissible': 2, 'flower': 2, 'peculiarity': 2, 'portrait': 2, 'displayed': 2, 'crayon': 2, 'watercolour': 2, 'artist': 2, 'musician': 2, 'sheet': 2, 'mama': 2, 'conveniently': 2, 'wholelength': 2, 'unfavourable': 2, 'at': 2, 'mantelpiece': 2, 'elsewhere': 2, 'jump': 2, 'complaisance': 2, 'defend': 2, 'eyebrow': 2, 'pack': 2, 'ensure': 2, 'deposit': 2, 'lent': 2, 'liberality': 2, 'concise': 2, 'demur': 2, 'inflict': 2, 'misunderstand': 2, 'bewitching': 2, 'definition': 2, 'waver': 2, 'forcibly': 2, 'banish': 2, 'natured': 2, 'linendraper': 2, 'conquest': 2, 'bondstreet': 2, 'solace': 2, 'suspicious': 2, 'appropriate': 2, 'previously': 2, 'protract': 2, 'privileged': 2, 'counsellor': 2, 'simpleton': 2, 'calmer': 2, 'infatuation': 2, 'partiality': 2, 'sphere': 2, 'illegitimacy': 2, 'up': 2, 'ambition': 2, 'farthest': 2, 'philosophic': 2, 'chusing': 2, 'readiness': 2, 'satisfies': 2, 'receives': 2, 'parentage': 2, 'reveal': 2, 'unconcerned': 2, 'disclaim': 2, 'sentimentally': 2, 'plead': 2, 'justify': 2, 'observer': 2, 'inconsiderate': 2, 'park': 2, 'shabby': 2, 'player': 2, 'bearer': 2, 'significantly': 2, 'agreeableness': 2, 'proceeding': 2, 'visibly': 2, 'range': 2, 'enlarge': 2, 'mental': 2, 'scale': 2, 'invention': 2, 'wellknown': 2, 'affliction': 2, 'transcribed': 2, 'stupidest': 2, 'inspire': 2, 'pomp': 2, 'flown': 2, 'slave': 2, 'thy': 2, 'approval': 2, 'poet': 2, 'capacity': 2, 'tenderest': 2, 'improperly': 2, 'tribute': 2, 'fairy': 2, 'complimentary': 2, 'deplore': 2, 'nursery': 2, 'easter': 2, '28th': 2, 'submissive': 2, 'branch': 2, 'knife': 2, 'sharp': 2, 'frightful': 2, 'hero': 2, 'rubber': 2, 'doubtingly': 2, 'irregular': 2, 'main': 2, 'proprietor': 2, 'exterior': 2, 'contract': 2, 'shill': 2, 'supersede': 2, 'sickness': 2, 'stability': 2, 'parley': 2, 'alteration': 2, 'overtaken': 2, 'involuntarily': 2, 'butter': 2, 'dessert': 2, 'ajar': 2, 'successfully': 2, 'purposely': 2, 'ingenious': 2, 'quicken': 2, 'reality': 2, 'seabathing': 2, 'forestall': 2, 'variously': 2, 'disturbance': 2, 'restless': 2, 'doating': 2, 'tie': 2, 'overcareful': 2, 'regardless': 2, 'cordiality': 2, 'agrees': 2, 'plaintive': 2, 'windy': 2, 'whist': 2, 'border': 2, 'whence': 2, 'concession': 2, 'amity': 2, 'dealing': 2, 'bitterly': 2, 'rarely': 2, 'magistrate': 2, 'fence': 2, 'destination': 2, 'turnip': 2, 'terribly': 2, 'discourse': 2, 'weakness': 2, 'envious': 2, 'embrocation': 2, 'accidentally': 2, 'discuss': 2, 'harmony': 2, 'comment': 2, 'unhealthy': 2, 'stake': 2, 'illjudged': 2, 'brotherinlaw': 2, 'unconsciously': 2, 'doom': 2, 'hasten': 2, 'pulse': 2, 'infectious': 2, 'tranquillise': 2, 'excess': 2, 'feed': 2, 'hoarse': 2, 'mutter': 2, 'civilly': 2, 'regulate': 2, 'flake': 2, 'overcharge': 2, 'defiance': 2, 'administer': 2, 'heroism': 2, 'wrap': 2, 'precaution': 2, 'contrivance': 2, 'ha': 2, 'accommodate': 2, 'gratification': 2, 'insensibility': 2, 'obtrude': 2, 'transfer': 2, 'replete': 2, 'polite': 2, 'release': 2, 'stone': 2, 'undergo': 2, 'confinement': 2, 'individual': 2, 'chatty': 2, 'awake': 2, 'perverse': 2, 'learnt': 2, 'inconstancy': 2, 'drift': 2, 'consternation': 2, 'impassable': 2, 'impede': 2, 'lodge': 2, 'accumulation': 2, 'nowhere': 2, 'brief': 2, 'bell': 2, 'darker': 2, 'escort': 2, 'threequarters': 2, 'gravity': 2, 'violent': 2, 'adore': 2, 'ardent': 2, 'diffidence': 2, 'elevate': 2, 'injurious': 2, 'urgent': 2, 'unsteadiness': 2, 'dead': 2, 'mislead': 2, 'adoration': 2, 'insinuate': 2, 'confesses': 2, 'affront': 2, 'misconception': 2, 'indescribable': 2, 'curl': 2, 'overthrow': 2, 'development': 2, 'enrich': 2, 'inconsiderable': 2, 'secondary': 2, 'warrant': 2, 'ordinary': 2, 'misinterpret': 2, 'coxe': 2, 'relapse': 2, 'temporary': 2, 'gloom': 2, 'poignant': 2, 'brighter': 2, 'acute': 2, 'asunder': 2, 'doated': 2, 'innocently': 2, 'compliance': 2, 'pointedly': 2, 'leavetaking': 2, 'industriously': 2, 'testify': 2, 'inadequate': 2, 'betraying': 2, 'persist': 2, 'moderation': 2, 'simply': 2, 'opposition': 2, 'expedient': 2, 'unmanageable': 2, 'obedience': 2, 'observance': 2, 'expert': 2, 'omission': 2, 'goodlooking': 2, 'wellbred': 2, 'chatter': 2, 'breathing': 2, 'conduce': 2, 'imperfection': 2, 'scanty': 2, 'floor': 2, 'commendation': 2, 'cardparties': 2, 'jumped': 2, 'huswife': 2, 'hetty': 2, 'amazingly': 2, 'wednesday': 2, 'insidious': 2, 'monday': 2, 'poorly': 2, 'batess': 2, 'consumption': 2, 'warmhearted': 2, 'fondness': 2, 'discipline': 2, 'culture': 2, 'eternal': 2, 'medium': 2, 'pitiable': 2, 'poison': 2, 'provocation': 2, 'ate': 2, 'cap': 2, 'affectation': 2, 'disgustingly': 2, 'suspiciously': 2, 'bent': 2, 'artifice': 2, 'swept': 2, 'arch': 2, 'fry': 2, 'hindquarter': 2, 'bountiful': 2, 'wash': 2, 'kitchen': 2, 'oppress': 2, 'precise': 2, 'pew': 2, 'worn': 2, 'aspire': 2, 'goodhumouredly': 2, 'strictly': 2, 'welllooking': 2, 'shower': 2, 'evidence': 2, 'unchecked': 2, 'serviceable': 2, 'condescension': 2, 'dy': 2, 'christian': 2, '10000': 2, 'richly': 2, 'sweetly': 2, 'uncertain': 2, 'perpetually': 2, 'furniture': 2, 'ceaseless': 2, 'unhappiness': 2, 'driven': 2, 'star': 2, 'trunk': 2, 'butcher': 2, 'coach': 2, 'gravel': 2, 'summons': 2, 'unattended': 2, 'memorandum': 2, 'wainscot': 2, 'thankfully': 2, 'justly': 2, 'process': 2, 'murmur': 2, 'oxford': 2, 'exhaust': 2, 'sparkle': 2, 'unconscious': 2, 'wore': 2, 'augur': 2, 'faithful': 2, 'eleven': 2, 'faster': 2, 'lookout': 2, 'handle': 2, 'confer': 2, 'exemption': 2, 'treachery': 2, 'gift': 2, 'construction': 2, 'quest': 2, 'insincere': 2, 'built': 2, 'sashed': 2, 'capability': 2, 'cheap': 2, 'defence': 2, 'hue': 2, 'counter': 2, 'oneself': 2, 'stupidity': 2, 'fairfaxs': 2, 'critical': 2, 'inevitably': 2, 'butler': 2, 'willingly': 2, 'freak': 2, 'extravagance': 2, 'bare': 2, 'persuadable': 2, 'desirous': 2, 'incumbent': 2, 'deliberately': 2, 'moralise': 2, 'impudent': 2, 'amply': 2, 'surrender': 2, 'pleasantness': 2, 'broadwood': 2, 'elderly': 2, 'extend': 2, 'dish': 2, 'injure': 2, 'everyday': 2, 'irritate': 2, 'drown': 2, 'perform': 2, 'accuse': 2, 'sung': 2, 'deduction': 2, 'indicate': 2, 'disinclination': 2, 'surprizes': 2, 'indignantly': 2, 'concert': 2, 'waltz': 2, 'suddenness': 2, 'dignify': 2, 'splendour': 2, 'lamp': 2, 'execution': 2, 'muslin': 2, 'stray': 2, 'eats': 2, 'sack': 2, 'orchard': 2, 'narration': 2, 'bar': 2, 'random': 2, 'chamber': 2, 'casement': 2, 'listener': 2, 'dimension': 2, 'score': 2, 'resort': 2, 'magnificent': 2, 'art': 2, 'complains': 2, 'undertakes': 2, 'council': 2, 'candlelight': 2, 'briskly': 2, 'feasible': 2, 'noisy': 2, 'aim': 2, 'indignant': 2, 'reprobate': 2, 'destroyed': 2, 'surpass': 2, 'incapable': 2, 'weariness': 2, 'languor': 2, 'negative': 2, 'attractive': 2, 'compress': 2, 'fold': 2, 'clothed': 2, 'ingenuity': 2, 'devotion': 2, 'retreat': 2, 'witty': 2, 'composedly': 2, 'profusion': 2, 'enchant': 2, 'overrate': 2, 'our': 2, 'preferable': 2, 'host': 2, 'boarder': 2, 'passionately': 2, 'accustom': 2, 'ladylike': 2, 'gentlewoman': 2, 'should': 2, 'goodbreeding': 2, 'interview': 2, 'commend': 2, 'conjugal': 2, 'broader': 2, 'befriend': 2, 'forfeit': 2, 'partake': 2, 'protection': 2, 'exclusively': 2, 'patroness': 2, 'condemn': 2, 'dictate': 2, 'awe': 2, 'comparative': 2, 'irresolute': 2, 'reverie': 2, 'wittier': 2, 'vulgarity': 2, 'converse': 2, 'eveningparties': 2, 'pitiful': 2, 'eighth': 2, 'relates': 2, 'ninth': 2, 'dinnerparty': 2, 'pearl': 2, 'quiver': 2, 'claimed': 2, 'yourself': 2, 'million': 2, 'clerk': 2, 'writingdesk': 2, 'dryly': 2, 'halfwhisper': 2, 'july': 2, 'amuses': 2, 'flesh': 2, 'slavetrade': 2, 'harp': 2, 'overtrimmed': 2, 'trim': 2, 'silver': 2, 'prolong': 2, 'observant': 2, 'overheard': 2, 'incredible': 2, 'immense': 2, 'dispel': 2, 'helpless': 2, 'insolence': 2, 'birmingham': 2, 'physic': 2, 'entangle': 2, 'belief': 2, 'group': 2, 'wilful': 2, 'indisputable': 2, 'obstacle': 2, 'lighten': 2, 'privy': 2, 'graciousness': 2, 'gesture': 2, 'movement': 2, 'mat': 2, 'dr': 2, 'richard': 2, 'coffee': 2, 'disapprove': 2, 'frown': 2, 'row': 2, 'flirtation': 2, 'significant': 2, 'tippet': 2, 'biscuit': 2, 'sweetbread': 2, 'smell': 2, 'himself': 2, 'asleep': 2, 'ruin': 2, 'harbour': 2, 'freshen': 2, 'iron': 2, 'impertinent': 2, 'rescue': 2, 'partially': 2, 'indisposition': 2, 'tenaciously': 2, 'seriousness': 2, 'secretly': 2, 'henceforward': 2, 'kiss': 2, 'dreamer': 2, 'premature': 2, 'suppress': 2, 'proclaim': 2, 'deeper': 2, 'closing': 2, 'impart': 2, 'expressive': 2, 'arisen': 2, 'lame': 2, 'strawberrybeds': 2, 'authorise': 2, 'gather': 2, 'meat': 2, 'out': 2, 'bright': 2, 'building': 2, 'avenue': 2, 'untainted': 2, 'gathering': 2, 'hautboy': 2, 'scarce': 2, 'gardener': 2, 'delicious': 2, 'insist': 2, 'lime': 2, 'wall': 2, 'etc': 2, 'mare': 2, 'methodical': 2, 'seizure': 2, 'intolerable': 2, 'hotter': 2, 'relent': 2, 'discompose': 2, 'tour': 2, 'poem': 2, 'acceptance': 2, 'unheard': 2, 'vivacity': 2, 'pitch': 2, 'merriment': 2, 'depart': 2, 'blend': 2, 'infant': 2, 'fag': 2, 'abhor': 2, 'sweetest': 2, 'unmerited': 2, 'confide': 2, 'contrition': 2, 'derive': 2, 'ushered': 2, 'bragges': 2, 'messenger': 2, 'graver': 2, 'survive': 2, 'mourn': 2, 'freed': 2, 'maintenance': 2, 'appetite': 2, 'inconsistency': 2, 'agony': 2, 'extenuation': 2, 'excusable': 2, 'deceit': 2, 'deepest': 2, 'recently': 2, 'unable': 2, 'misunderstood': 2, 'protect': 2, 'enquire': 2, 'latterly': 2, 'closest': 2, 'unsuspected': 2, 'multiply': 2, 'inexpressibly': 2, 'heartfelt': 2, 'captious': 2, 'foolishly': 2, 'shrub': 2, 'cost': 2, 'underrated': 2, 'alternative': 2, 'contemplation': 2, 'lecture': 2, 'discouragement': 2, 'astray': 2, 'disguise': 2, 'differ': 2, 'correspondence': 2, 'on': 2, 'acquittal': 2, 'brotherly': 2, 'objectionable': 2, 'repentance': 2, 'dissolve': 2, 'illusage': 2, 'congratulatory': 2, 'eccentric': 2, 'la': 2, 'adelaide': 2, 'thirteen': 2, 'unprepared': 2, 'goodtempered': 2, 'stain': 2, 'austen': 1, '1816': 1, 'twentyone': 1, 'vex': 1, 'indistinct': 1, 'caress': 1, 'nominal': 1, 'mildness': 1, 'disadvantage': 1, 'mournful': 1, 'bridepeople': 1, 'selfdenying': 1, 'debt': 1, 'tenderer': 1, 'valetudinarian': 1, 'lieu': 1, 'awoke': 1, 'housemaid': 1, 'prettyspoken': 1, 'curtsey': 1, 'needlework': 1, 'bang': 1, 'backgammontable': 1, 'eightandthirty': 1, 'speck': 1, 'gainer': 1, 'punctual': 1, 'widower': 1, 'deathbed': 1, 'broadway': 1, 'drizzle': 1, 'mitchell': 1, 'supposes': 1, 'delicately': 1, 'donothing': 1, 'doall': 1, 'grievously': 1, 'fish': 1, 'sevenandtwenty': 1, 'homely': 1, 'embody': 1, 'military': 1, 'familyestate': 1, 'poorer': 1, 'linger': 1, 'kindred': 1, 'widowerfather': 1, 'competence': 1, 'portionless': 1, 'tyrannic': 1, 'welljudging': 1, 'choose': 1, 'avow': 1, 'adoption': 1, 'capricious': 1, 'dissentient': 1, 'ennui': 1, 'companionableness': 1, 'feeble': 1, 'hindrance': 1, 'tease': 1, 'apothecary': 1, 'bias': 1, 'newly': 1, 'unfrequently': 1, 'cardtable': 1, 'comeatable': 1, 'quadrille': 1, 'untoward': 1, 'predicament': 1, 'cleverness': 1, 'universal': 1, 'quicksighted': 1, 'seminary': 1, 'morality': 1, 'enormous': 1, 'screw': 1, 'boardingschool': 1, 'repute': 1, 'chilblain': 1, 'teavisit': 1, 'fancywork': 1, 'remedy': 1, 'prosings': 1, 'mansion': 1, 'scholar': 1, 'plump': 1, 'inconveniently': 1, 'shy': 1, 'artlessly': 1, 'rent': 1, 'creditably': 1, 'unpolished': 1, 'inbetweens': 1, 'suppertable': 1, 'impulse': 1, 'mince': 1, 'scallop': 1, 'oyster': 1, 'cloth': 1, 'nicer': 1, 'tart': 1, 'appletarts': 1, 'custard': 1, 'halfglass': 1, 'tumbler': 1, 'personage': 1, 'affability': 1, 'docile': 1, 'usefulness': 1, 'talkativeness': 1, 'alderneys': 1, 'narrative': 1, 'forever': 1, 'inspirit': 1, 'shepherd': 1, 'wool': 1, 'prince': 1, 'richardson': 1, 'sup': 1, 'agricultural': 1, 'wakefield': 1, 'yeomanry': 1, 'creditable': 1, '8th': 1, 'birthday': 1, '23rd': 1, 'afloat': 1, 'diligence': 1, 'indoors': 1, 'fluctuation': 1, 'respectfully': 1, 'unfeigned': 1, 'survey': 1, 'uncouthness': 1, 'unmodulated': 1, 'loudness': 1, 'coarseness': 1, 'detestable': 1, 'solemnly': 1, 'gross': 1, 'inattentive': 1, 'engrosses': 1, 'market': 1, 'bluntness': 1, 'copying': 1, 'sufferable': 1, 'ingratiate': 1, 'efficacy': 1, 'fastidious': 1, 'fight': 1, 'battle': 1, 'drawingup': 1, 'neatly': 1, 'alphabetically': 1, 'industry': 1, 'stimulate': 1, 'affirm': 1, 'cleverest': 1, 'cope': 1, 'inherits': 1, 'wantonness': 1, 'undesigned': 1, 'hourly': 1, 'doctrine': 1, 'tend': 1, 'polish': 1, 'grownup': 1, 'personally': 1, 'errs': 1, 'spleen': 1, 'unkind': 1, 'accountable': 1, 'approves': 1, 'province': 1, 'outcry': 1, 'gently': 1, 'artlessness': 1, 'superadded': 1, 'skilful': 1, 'landscape': 1, 'figurepieces': 1, 'portfolio': 1, 'beginning': 1, 'miniature': 1, 'halflengths': 1, 'wholelengths': 1, 'reputation': 1, 'ecstasy': 1, 'stealth': 1, 'coarser': 1, 'fourth': 1, 'cockade': 1, 'nestle': 1, 'unclosing': 1, 'pet': 1, 'vowed': 1, 'forswear': 1, 'irksomeness': 1, 'intermission': 1, 'encourager': 1, 'memorial': 1, 'association': 1, 'permission': 1, 'criticism': 1, 'foreshorten': 1, 'doer': 1, 'fog': 1, 'execute': 1, 'mostly': 1, 'languish': 1, 'halfashamed': 1, 'grammatical': 1, 'composition': 1, 'diffuse': 1, 'pen': 1, 'vigorous': 1, 'unequivocal': 1, 'unbidden': 1, 'purport': 1, 'thoughtfully': 1, 'mechanically': 1, 'twist': 1, 'aghast': 1, 'formation': 1, 'brace': 1, 'seal': 1, 'tittletattle': 1, 'tenderhearted': 1, 'softly': 1, 'introduces': 1, 'diffuses': 1, 'prepossession': 1, 'slept': 1, 'bedroom': 1, 'substitute': 1, 'walker': 1, 'tedious': 1, 'greatcoat': 1, 'schoolgirl': 1, 'giggle': 1, 'confidant': 1, 'adviser': 1, 'desperately': 1, 'red': 1, 'incomprehensible': 1, 'imago': 1, 'asperity': 1, 'helpmate': 1, 'aright': 1, 'cryout': 1, 'statement': 1, 'richest': 1, 'gentlemanfarmer': 1, 'legal': 1, 'grudge': 1, 'distaste': 1, 'disincline': 1, 'haphazard': 1, 'assertion': 1, 'slightingly': 1, 'waive': 1, 'ninetynine': 1, 'misapply': 1, 'bewitches': 1, 'pick': 1, 'puff': 1, 'writingmaster': 1, 'canvass': 1, 'abide': 1, 'assistant': 1, 'errant': 1, 'habitual': 1, 'unreserved': 1, 'apiece': 1, 'doings': 1, 'indistinctness': 1, 'adversary': 1, 'adequate': 1, 'restorative': 1, 'resentfully': 1, 'war': 1, 'originally': 1, 'clayton': 1, 'whistclub': 1, 'remonstrate': 1, 'enviable': 1, 'endear': 1, 'literary': 1, 'transcribe': 1, 'quarto': 1, 'hotpressed': 1, 'cipher': 1, 'trophy': 1, 'literature': 1, 'headteacher': 1, 'requisition': 1, 'enigma': 1, 'ungallant': 1, 'politest': 1, 'recite': 1, 'doth': 1, 'destin': 1, 'antidote': 1, 'inspiration': 1, 'tremor': 1, 'loth': 1, 'epithet': 1, 'justest': 1, 'neptune': 1, 'trident': 1, 'ship': 1, 'cream': 1, 'completest': 1, 'eligibility': 1, 'embrace': 1, 'articulate': 1, 'prologue': 1, 'motto': 1, 'matteroffact': 1, 'strangest': 1, 'prearrangement': 1, 'respective': 1, 'channel': 1, 'edition': 1, 'shakespeare': 1, 'michaelmas': 1, 'text': 1, 'preach': 1, 'abbot': 1, 'peeped': 1, 'arminarm': 1, 'rejection': 1, 'couplet': 1, 'appropriation': 1, 'publicity': 1, 'affix': 1, 'affixed': 1, 'stanza': 1, 'kindle': 1, 'flame': 1, 'hoodwink': 1, 'fatal': 1, 'garrick': 1, 'christen': 1, 'catherine': 1, 'grandpapas': 1, 'hardy': 1, 'misbehave': 1, 'toss': 1, 'ceiling': 1, 'whichever': 1, 'conditionally': 1, 'reurged': 1, 'redeclined': 1, 'smilingly': 1, 'replace': 1, 'proudest': 1, 'sublime': 1, 'angle': 1, 'abode': 1, 'dwelling': 1, 'smartened': 1, 'slacken': 1, 'riddlebook': 1, 'curtain': 1, 'admires': 1, 'intimately': 1, 'pool': 1, 'pollard': 1, 'image': 1, 'prosing': 1, 'undistinguishing': 1, 'unfastidious': 1, 'unmarried': 1, 'celibacy': 1, 'sour': 1, 'perforce': 1, 'illiberal': 1, 'carpetwork': 1, 'blinder': 1, 'stomacher': 1, 'garter': 1, 'romantic': 1, 'vanish': 1, 'totter': 1, 'slippery': 1, 'sufferer': 1, 'empty': 1, 'imitation': 1, 'halfboot': 1, 'pitcher': 1, 'broth': 1, 'ahead': 1, 'experienced': 1, 'stilton': 1, 'cheese': 1, 'north': 1, 'wiltshire': 1, 'cellery': 1, 'beetroot': 1, 'dexterously': 1, 'ditch': 1, 'inability': 1, 'illequipped': 1, 'ribband': 1, 'aspect': 1, 'superintend': 1, 'henceforth': 1, 'prime': 1, 'fortuitous': 1, 'vacation': 1, 'nervously': 1, 'apprehensively': 1, 'nurserymaids': 1, 'maternal': 1, 'tenderly': 1, 'defect': 1, 'sisterinlaw': 1, 'fidgetiness': 1, 'retort': 1, 'illbestowed': 1, 'fatherinlaw': 1, 'properest': 1, 'unsullied': 1, 'grievous': 1, 'besttempered': 1, 'kite': 1, 'scarlet': 1, 'cobham': 1, 'sept': 1, 'goodhearted': 1, 'cheerfultempered': 1, 'affords': 1, 'allsufficiency': 1, 'makingup': 1, 'restoration': 1, 'unceremoniousness': 1, 'sauciness': 1, 'discordancies': 1, 'lapse': 1, 'understanding': 1, 'both': 1, 'anecdote': 1, 'homefarm': 1, 'drain': 1, 'acre': 1, 'wheat': 1, 'corn': 1, 'strenuously': 1, 'unsafe': 1, 'prohibit': 1, 'forgets': 1, 'prevalent': 1, 'influenza': 1, 'confound': 1, 'vicinity': 1, 'palpitation': 1, 'doctor': 1, 'coddle': 1, 'graham': 1, 'bailiff': 1, 'scotland': 1, 'undoubting': 1, 'wholesomeness': 1, 'philippic': 1, 'cook': 1, 'hire': 1, 'ejaculation': 1, 'rumination': 1, 'relish': 1, 'mud': 1, 'pure': 1, 'lodging': 1, 'coast': 1, 'drug': 1, 'sarcastic': 1, 'dryness': 1, 'interposition': 1, 'langham': 1, 'map': 1, 'harsh': 1, 'swiftly': 1, 'especial': 1, '24th': 1, 'feverish': 1, 'unavoidable': 1, 'comfortless': 1, 'rice': 1, 'pudding': 1, 'inflame': 1, 'sorethroats': 1, 'sorethroat': 1, 'putrid': 1, 'tonight': 1, 'conception': 1, 'impartially': 1, 'vision': 1, 'extricate': 1, 'balance': 1, 'goodtemper': 1, 'slyness': 1, 'shrink': 1, 'sky': 1, 'milder': 1, 'disagreeables': 1, 'discontent': 1, 'thinner': 1, 'clothing': 1, 'dismal': 1, 'shiver': 1, 'colder': 1, 'emulate': 1, 'quarrelsome': 1, 'spruce': 1, 'lengthen': 1, 'estimable': 1, 'dismay': 1, 'sheepskin': 1, 'unpermitted': 1, 'seasonable': 1, 'sennight': 1, 'hospitable': 1, 'select': 1, 'slavery': 1, 'uninterrupted': 1, 'oddity': 1, 'enjoyable': 1, 'elbow': 1, 'solicitously': 1, 'internal': 1, 'absurd': 1, 'wouldbe': 1, 'halfsyllables': 1, 'illtimed': 1, 'saddle': 1, 'putoff': 1, 'vagary': 1, 'devil': 1, 'oddtempered': 1, 'instinctive': 1, 'braithwaites': 1, 'teazed': 1, 'decides': 1, 'when': 1, 'lateness': 1, 'convivial': 1, 'augmentation': 1, 'sickchamber': 1, 'implore': 1, 'ulcerated': 1, 'unfeelingly': 1, 'blown': 1, 'bleak': 1, 'midnight': 1, 'block': 1, 'adventurous': 1, 'shod': 1, 'whiten': 1, 'ring': 1, 'rung': 1, 'lawfully': 1, 'unequalled': 1, 'unexampled': 1, 'vainly': 1, 'drunkenness': 1, 'boastful': 1, 'drunk': 1, 'inebriety': 1, 'uppermost': 1, 'joyously': 1, 'interpret': 1, 'respectably': 1, 'supplication': 1, 'footpace': 1, 'zigzag': 1, 'coldly': 1, 'proudly': 1, 'misjudgment': 1, 'unmarked': 1, 'dubious': 1, 'jumble': 1, 'thickheaded': 1, 'indiscreetly': 1, 'devise': 1, 'allied': 1, 'aggrandise': 1, 'heiress': 1, 'gradation': 1, 'ancient': 1, 'notch': 1, 'incongruity': 1, 'honesty': 1, 'complaisant': 1, 'selfinterest': 1, 'dispirit': 1, 'cogitation': 1, 'discontinue': 1, 'eclat': 1, 'unmirthful': 1, 'analogy': 1, 'unclosed': 1, 'retentive': 1, 'atmosphere': 1, 'unsettled': 1, 'frost': 1, 'thaw': 1, 'unfriendly': 1, 'freeze': 1, 'prisoner': 1, 'amiableness': 1, 'lamentation': 1, 'feminine': 1, 'solemnity': 1, 'lonely': 1, 'promptitude': 1, 'grossly': 1, 'misjudge': 1, 'prophecy': 1, 'ingenuousness': 1, 'lowly': 1, 'modesty': 1, 'abundantly': 1, 'resemble': 1, 'simpleminded': 1, 'unvarying': 1, 'sympathise': 1, 'extinction': 1, 'routine': 1, 'nonexistence': 1, 'unrequited': 1, 'repellent': 1, 'occurs': 1, 'proportionate': 1, 'depression': 1, 'galaday': 1, 'limb': 1, 'idlest': 1, 'prof': 1, 'interior': 1, 'manoeuvre': 1, 'fin': 1, 'vigour': 1, 'meanly': 1, 'consistently': 1, 'bending': 1, 'knack': 1, 'transport': 1, 'nought': 1, 'singular': 1, 'french': 1, 'aimable': 1, 'wellgrown': 1, 'plausible': 1, 'politician': 1, 'secondrate': 1, 'thirdrate': 1, 'moderatesized': 1, 'sweetcake': 1, 'beaufet': 1, 'usher': 1, 'hunt': 1, 'hid': 1, 'checkerwork': 1, 'pore': 1, 'deafness': 1, 'deafer': 1, 'dublin': 1, 'balycraig': 1, 'backward': 1, 'whirl': 1, 'sail': 1, 'prefers': 1, 'wisely': 1, '7th': 1, 'holyhead': 1, 'flurry': 1, 'regain': 1, 'orphan': 1, 'lieut': 1, 'regiment': 1, 'infantry': 1, 'fondle': 1, 'engraft': 1, 'officer': 1, 'campfever': 1, 'appointment': 1, 'subsistence': 1, 'rightminded': 1, 'lighter': 1, 'nineteen': 1, 'instruction': 1, 'unfelt': 1, 'unabated': 1, 'defies': 1, 'eligibly': 1, 'novitiate': 1, 'relinquish': 1, 'compatible': 1, 'weaken': 1, 'vary': 1, 'discharge': 1, 'treble': 1, 'recovery': 1, 'accusation': 1, 'refute': 1, 'selfexamination': 1, 'fuss': 1, 'magnify': 1, 'depreciate': 1, 'fat': 1, 'likeliest': 1, 'grey': 1, 'cavil': 1, 'twofold': 1, 'seduce': 1, 'mischievous': 1, 'successless': 1, 'suck': 1, 'sharer': 1, 'purest': 1, 'career': 1, 'laborious': 1, 'recantation': 1, 'exhibition': 1, 'workbag': 1, 'greatness': 1, 'cloak': 1, 'insight': 1, 'suitableness': 1, 'delineate': 1, 'undone': 1, 'muffin': 1, 'arises': 1, 'wellbehaved': 1, 'porker': 1, 'steak': 1, 'grease': 1, 'salt': 1, 'oversalt': 1, 'oversalted': 1, 'carrot': 1, 'parsnip': 1, 'spencer': 1, 'saltingpan': 1, 'lot': 1, 'goodly': 1, 'heritage': 1, 'joyfully': 1, 'absorb': 1, 'standard': 1, 'wonderings': 1, 'pour': 1, 'woollendraper': 1, 'haberdasher': 1, 'dealt': 1, 'buying': 1, 'ca': 1, 'float': 1, 'subordination': 1, 'deaden': 1, 'circulate': 1, 'debase': 1, 'selfsatisfied': 1, 'defy': 1, 'thereabouts': 1, 'glorious': 1, 'green': 1, 'brown': 1, 'fearless': 1, 'cautiously': 1, 'pique': 1, 'inseparably': 1, 'moral': 1, 'profitable': 1, 'individually': 1, 'vaunt': 1, 'attainable': 1, 'what': 1, 'who': 1, 'merchant': 1, 'mercantile': 1, 'drudge': 1, 'attorney': 1, 'windup': 1, 'vacancy': 1, 'reappearance': 1, 'invariable': 1, 'wavering': 1, 'predominate': 1, 'gloss': 1, 'rev': 1, 'philip': 1, 'whitehart': 1, 'lift': 1, 'cart': 1, 'espalier': 1, 'appletrees': 1, 'solitarily': 1, 'shortness': 1, 'commonest': 1, 'illdisposed': 1, 'accost': 1, 'dinnertime': 1, 'quieter': 1, 'reanimation': 1, 'wornout': 1, 'route': 1, 'innocent': 1, 'amendment': 1, 'sluggish': 1, 'geography': 1, 'pupil': 1, 'soliloquy': 1, 'clock': 1, 'quicker': 1, 'creep': 1, 'admirably': 1, 'exaggeration': 1, 'horsewoman': 1, 'proportionably': 1, 'extravagant': 1, 'unmixed': 1, 'hay': 1, 'barnes': 1, 'fashionable': 1, 'ordinarily': 1, 'hearty': 1, 'puddle': 1, 'companionably': 1, 'happylooking': 1, 'hyperbolical': 1, 'posthorses': 1, 'halfgentlemen': 1, 'environs': 1, 'argue': 1, 'inelegance': 1, 'dispute': 1, 'attends': 1, 'informs': 1, 'citizen': 1, 'buy': 1, 'patriotism': 1, 'popular': 1, 'guinea': 1, 'sleek': 1, 'welltied': 1, 'beaver': 1, 'york': 1, 'tan': 1, 'amor': 1, 'patriae': 1, 'discreetly': 1, 'leaf': 1, 'vouchsafed': 1, 'outwardly': 1, 'prone': 1, 'idolize': 1, 'repulsive': 1, 'oftentimes': 1, 'cautiousness': 1, 'inroad': 1, 'pantry': 1, 'foppery': 1, 'rationality': 1, 'unselfish': 1, 'heedlessness': 1, 'blot': 1, 'harshly': 1, 'leniently': 1, 'newspaper': 1, 'hum': 1, 'although': 1, 'opportune': 1, 'unexpensively': 1, 'dinnercompany': 1, 'accounting': 1, 'consist': 1, 'solicit': 1, 'foldingscreen': 1, 'briefly': 1, 'dinnervisiting': 1, 'dew': 1, 'allay': 1, 'malt': 1, 'liquor': 1, 'piquet': 1, 'unspent': 1, 'undaunted': 1, 'achievement': 1, 'ostentation': 1, 'evasion': 1, 'inference': 1, 'failing': 1, 'propensity': 1, 'selfdenial': 1, 'plentiful': 1, 'owner': 1, 'bravado': 1, 'unconcern': 1, 'taller': 1, 'nonsensical': 1, 'dexterity': 1, 'unobjectionable': 1, 'male': 1, 'politics': 1, 'remote': 1, 'largesized': 1, 'ensue': 1, 'slap': 1, 'pitifullest': 1, 'spinet': 1, 'entrap': 1, 'untouched': 1, 'testifies': 1, 'acuteness': 1, 'march': 1, 'accident': 1, 'overboard': 1, 'vessel': 1, 'consequent': 1, 'durable': 1, 'observable': 1, 'orderly': 1, 'unconvinced': 1, 'giver': 1, 'paternal': 1, 'amid': 1, 'entree': 1, 'blooming': 1, 'unsentimental': 1, 'shed': 1, 'pedal': 1, 'heroine': 1, 'en': 1, 'passant': 1, 'divine': 1, 'abundant': 1, 'despise': 1, 'visiting': 1, 'reasonably': 1, 'outree': 1, 'improvidently': 1, 'humane': 1, 'unostentatious': 1, 'revolt': 1, 'sheep': 1, 'library': 1, 'mimic': 1, 'mysteriously': 1, 'combat': 1, 'limitation': 1, 'accompaniment': 1, 'correctly': 1, 'duly': 1, 'roundly': 1, 'vocal': 1, 'instrumental': 1, 'touchstone': 1, 'putto': 1, 'enhance': 1, 'oath': 1, 'originate': 1, 'countrydances': 1, 'muster': 1, 'rarity': 1, 'languid': 1, 'repaid': 1, 'transgress': 1, 'unfeignedly': 1, 'unequivocally': 1, 'idleness': 1, 'sunshine': 1, 'italian': 1, 'impertinently': 1, 'swayed': 1, 'traffic': 1, 'busiest': 1, 'officedoor': 1, 'carriagehorses': 1, 'letterboy': 1, 'obstinate': 1, 'mule': 1, 'tray': 1, 'tidy': 1, 'homewards': 1, 'cur': 1, 'bone': 1, 'dawdle': 1, 'baker': 1, 'bowwindow': 1, 'gingerbread': 1, 'shopping': 1, 'palatable': 1, 'halfsecond': 1, 'saunders': 1, 'hinder': 1, 'chimney': 1, 'wallises': 1, 'uncivil': 1, 'appledumplings': 1, 'appledumpling': 1, 'wrist': 1, 'medley': 1, 'exceeds': 1, 'closet': 1, 'finestlooking': 1, 'homebaked': 1, 'baking': 1, 'bushel': 1, 'appletart': 1, 'remainder': 1, 'unluckily': 1, 'upstairs': 1, 'desultory': 1, 'narrower': 1, 'deprive': 1, 'slumber': 1, 'deedily': 1, 'livelihood': 1, 'silversmith': 1, 'uninterruptedly': 1, 'unevenness': 1, 'wedge': 1, 'feebly': 1, 'discrimination': 1, 'indefinite': 1, 'contingency': 1, 'workman': 1, 'labourer': 1, 'tune': 1, 'cramer': 1, 'melody': 1, 'incomplete': 1, 'compunction': 1, 'cherish': 1, 'reprehensible': 1, 'robin': 1, 'adair': 1, 'descry': 1, 'commandingly': 1, 'scepticism': 1, 'deliberate': 1, 'countrydance': 1, 'successively': 1, 'accrue': 1, 'wicked': 1, 'readiest': 1, 'undertook': 1, 'inconsiderately': 1, 'selfwilled': 1, 'forgave': 1, 'certify': 1, 'any': 1, 'inhabit': 1, 'windowcurtain': 1, 'sash': 1, 'carefulness': 1, 'clean': 1, 'clubnights': 1, 'supperroom': 1, 'vote': 1, 'sandwich': 1, 'scout': 1, 'infamous': 1, 'fraud': 1, 'properer': 1, 'briskmoving': 1, 'sweettempered': 1, 'minor': 1, 'approver': 1, 'fro': 1, 'hearted': 1, 'repugnance': 1, 'finale': 1, 'redeem': 1, 'dejection': 1, 'horrid': 1, 'doubtfully': 1, 'consciously': 1, 'argumentative': 1, 'forerunner': 1, 'procrastinate': 1, 'listlessness': 1, 'insipid': 1, 'fellowmourners': 1, 'triumphant': 1, 'woeful': 1, 'unbecoming': 1, 'denotes': 1, 'inexcusable': 1, 'supposition': 1, 'build': 1, 'changeable': 1, 'perusal': 1, 'undervalue': 1, 'wellwritten': 1, 'precision': 1, 'keenly': 1, 'unadorned': 1, 'wreath': 1, 'adieu': 1, 'stimulative': 1, 'unchanged': 1, 'no': 1, 'advantageous': 1, 'behalf': 1, 'attain': 1, 'bellringing': 1, 'soothings': 1, 'submissively': 1, 'violence': 1, 'clearestheaded': 1, 'longestsighted': 1, 'bestjudging': 1, 'invaluable': 1, 'vexatious': 1, 'shorten': 1, 'nothingmeaning': 1, 'unpretty': 1, 'clothes': 1, 'bashfulness': 1, 'shine': 1, 'wellbuilt': 1, 'morningroom': 1, 'astonishingly': 1, 'transplant': 1, 'strikingly': 1, 'laurel': 1, 'bench': 1, 'doubledyed': 1, 'kingsweston': 1, 'attract': 1, 'proverb': 1, 'stuck': 1, 'pal': 1, 'seclude': 1, 'impolite': 1, 'auspex': 1, 'outrage': 1, 'precedes': 1, 'doatingly': 1, 'devoid': 1, 'mediocre': 1, 'smallersized': 1, 'spacious': 1, 'outstepped': 1, 'weekly': 1, 'ally': 1, 'jeffereys': 1, 'clara': 1, 'milmans': 1, 'bird': 1, 'cooper': 1, 'enumerate': 1, 'fright': 1, 'affirmative': 1, 'underbred': 1, 'bosom': 1, 'glibly': 1, 'prettybehaved': 1, 'avowedly': 1, 'lending': 1, 'vanitybaits': 1, 'selfimportant': 1, 'illbred': 1, 'unimpeded': 1, 'contribution': 1, 'illwill': 1, 'enmity': 1, 'disrespect': 1, 'vent': 1, 'contemptuous': 1, 'solicitation': 1, 'knighterrantry': 1, 'fragrance': 1, 'verify': 1, 'timid': 1, 'timidity': 1, 'prepossess': 1, 'housekeep': 1, 'conciliate': 1, 'woodhouseing': 1, 'limit': 1, 'licentiousness': 1, 'paradings': 1, 'decorate': 1, 'guidance': 1, 'guileless': 1, 'affable': 1, 'condescend': 1, 'penury': 1, 'professedly': 1, 'pressingly': 1, 'decree': 1, 'quits': 1, 'reproachful': 1, 'pronoun': 1, 'thou': 1, 'plainest': 1, 'implant': 1, 'button': 1, 'leather': 1, 'gaiter': 1, 'pressure': 1, 'appellation': 1, 'accepts': 1, 'weighs': 1, 'deed': 1, 'permanent': 1, 'selfcontroul': 1, 'triumphantly': 1, 'routcakes': 1, 'ice': 1, 'cardtables': 1, 'unbroken': 1, 'waiter': 1, 'stipulation': 1, 'consciencestricken': 1, 'professional': 1, 'fortyeight': 1, 'immaterial': 1, 'reluctant': 1, 'unexpectedly': 1, 'count': 1, 'situate': 1, 'curse': 1, 'outlive': 1, 'concentrate': 1, 'urbanity': 1, 'plant': 1, 'stocking': 1, 'for': 1, 'patiently': 1, 'persuasively': 1, 'obviate': 1, 'insuperable': 1, 'needlessly': 1, 'regularity': 1, 'negligence': 1, 'decipher': 1, 'improves': 1, 'prevails': 1, 'roundabout': 1, 'vindicate': 1, 'base': 1, 'aspersion': 1, 'diningparlour': 1, 'expedition': 1, 'mail': 1, 'abstain': 1, 'candidate': 1, 'infinity': 1, 'waxcandles': 1, 'schoolroom': 1, 'inexperience': 1, 'unemployed': 1, 'fling': 1, 'abolition': 1, 'governesstrade': 1, 'widely': 1, 'victim': 1, 'advertising': 1, 'stipulate': 1, 'honourably': 1, 'gaily': 1, 'beau': 1, 'quaint': 1, 'minority': 1, 'poplin': 1, 'reassemble': 1, 'mute': 1, 'bedtime': 1, 'sleety': 1, 'shrug': 1, 'confers': 1, 'audible': 1, 'fluently': 1, 'weigh': 1, 'precedent': 1, 'southward': 1, 'ninety': 1, 'sixtyfive': 1, 'conservatory': 1, 'antagonist': 1, 'nicety': 1, 'interpose': 1, 'beheld': 1, 'clifton': 1, 'stationary': 1, 'plantation': 1, 'despond': 1, 'untowardly': 1, 'mend': 1, 'hymen': 1, 'saffron': 1, 'robe': 1, 'gloomy': 1, 'cheerfuller': 1, 'genial': 1, 'cheerless': 1, 'implicitly': 1, 'trait': 1, 'instigator': 1, 'indolent': 1, 'outchurchill': 1, 'mighty': 1, 'annoyance': 1, 'tupman': 1, 'encumber': 1, 'west': 1, 'direful': 1, 'tupmans': 1, 'happens': 1, 'resident': 1, 'worry': 1, 'comprise': 1, 'preclude': 1, 'halfyear': 1, 'goingson': 1, 'heretofore': 1, 'dissipation': 1, 'fare': 1, 'randall': 1, 'weaker': 1, 'medicine': 1, 'medical': 1, 'eminent': 1, 'readyfurnished': 1, 'manchesterstreet': 1, 'sanguinely': 1, 'closely': 1, 'inspection': 1, 'confidante': 1, 'openheartedness': 1, 'halfcircle': 1, 'councillor': 1, 'candidly': 1, 'puppyism': 1, 'chain': 1, 'expeditious': 1, 'excellently': 1, 'aladdin': 1, 'weddingpresent': 1, 'olive': 1, 'fairyland': 1, 'transformation': 1, 'complacently': 1, 'hairdresser': 1, 'caroline': 1, 'arthur': 1, 'suspension': 1, 'rub': 1, 'festivity': 1, 'standersby': 1, 'whistplayers': 1, 'bulky': 1, 'criticise': 1, 'recordable': 1, 'productive': 1, 'saunter': 1, 'sittersby': 1, 'halfway': 1, 'glee': 1, 'harden': 1, 'audibly': 1, 'spoon': 1, 'begs': 1, 'nail': 1, 'queen': 1, 'fricassee': 1, 'soup': 1, 'irresistibly': 1, 'reprobation': 1, 'rudeness': 1, 'singleminded': 1, 'lazy': 1, 'impertinence': 1, 'frontdoor': 1, 'elm': 1, 'patch': 1, 'greensward': 1, 'scream': 1, 'steep': 1, 'cramp': 1, 'powerless': 1, 'terrify': 1, 'tramper': 1, 'courageous': 1, 'assail': 1, 'clamorous': 1, 'gang': 1, 'conditioning': 1, 'scissors': 1, 'cling': 1, 'coldest': 1, 'steadiest': 1, 'linguist': 1, 'grammarian': 1, 'mathematician': 1, 'imaginist': 1, 'foresight': 1, 'groundwork': 1, 'mania': 1, 'fervour': 1, 'clung': 1, 'impel': 1, 'passive': 1, 'dwindle': 1, 'recital': 1, 'most': 1, 'unfolded': 1, 'tunbridgeware': 1, 'softest': 1, 'penknife': 1, 'jumping': 1, 'relic': 1, 'pocket': 1, 'senseless': 1, 'pull': 1, 'pocketbook': 1, 'brewing': 1, 'undesignedly': 1, 'debate': 1, 'veneration': 1, 'inexpressible': 1, 'connivance': 1, 'defeat': 1, 'unison': 1, 'indiscretion': 1, 'void': 1, 'cowper': 1, 'twilight': 1, 'dreamt': 1, 'heap': 1, 'pop': 1, 'precede': 1, 'circular': 1, 'smallsized': 1, 'pembroke': 1, 'dulllooking': 1, 'quietness': 1, 'exultingly': 1, 'lain': 1, 'involvement': 1, 'disingenuousness': 1, 'vehicle': 1, 'sedate': 1, 'covert': 1, 'preconceive': 1, 'unexamined': 1, 'dusk': 1, 'sting': 1, 'fruitless': 1, 'twentieth': 1, 'essay': 1, 'stagger': 1, 'wheres': 1, 'hows': 1, 'coolness': 1, 'fed': 1, 'speedy': 1, 'importation': 1, 'interchange': 1, 'restrict': 1, 'eventually': 1, 'picnic': 1, 'surprise': 1, 'accede': 1, 'arrear': 1, 'severity': 1, 'secures': 1, 'pigeonpies': 1, 'lamb': 1, 'carriagehorse': 1, 'useable': 1, 'stagnation': 1, 'ripen': 1, 'plainer': 1, 'cabbagebeds': 1, 'carteblanche': 1, 'delegate': 1, 'preferment': 1, 'pink': 1, 'inspect': 1, 'anything': 1, 'spurn': 1, 'purchasing': 1, 'dust': 1, 'dirt': 1, 'dusty': 1, 'blunt': 1, 'specious': 1, 'lurk': 1, 'upbraid': 1, 'credulity': 1, 'unasked': 1, 'midday': 1, 'alfresco': 1, 'sympathiser': 1, 'characteristic': 1, 'stream': 1, 'timber': 1, 'root': 1, 'ramble': 1, 'unexceptionably': 1, 'apparatus': 1, 'eatable': 1, 'chili': 1, 'flavour': 1, 'cultivation': 1, 'cherry': 1, 'currant': 1, 'pertinacity': 1, 'insensibly': 1, 'pillar': 1, 'erection': 1, 'disputable': 1, 'termination': 1, 'slope': 1, 'steeper': 1, 'abruptness': 1, 'curve': 1, 'verdure': 1, 'oppressive': 1, 'scorn': 1, 'appendage': 1, 'pasture': 1, 'blossom': 1, 'column': 1, 'smoke': 1, 'ascend': 1, 'agriculture': 1, 'repast': 1, 'fishpond': 1, 'clover': 1, 'engraving': 1, 'drawer': 1, 'medal': 1, 'cameo': 1, 'coral': 1, 'shell': 1, 'cabinet': 1, 'groundplot': 1, 'pond': 1, 'endurance': 1, 'st': 1, 'venice': 1, 'they': 1, 'define': 1, 'incidental': 1, 'humanely': 1, 'climate': 1, 'prescribed': 1, 'thwart': 1, 'madeira': 1, 'par': 1, 'crosser': 1, 'crossness': 1, 'final': 1, 'punctuality': 1, 'officiate': 1, 'harmonise': 1, 'collation': 1, 'admission': 1, 'flirt': 1, 'overcame': 1, 'management': 1, 'unanswerable': 1, 'lower': 1, 'impudence': 1, 'mickleham': 1, 'dorking': 1, 'presides': 1, 'preside': 1, 'carelessly': 1, 'brunt': 1, 'emphatically': 1, 'chaperon': 1, 'muttering': 1, 'waif': 1, 'engages': 1, 'sha': 1, 'mock': 1, 'explains': 1, 'acrostic': 1, 'illluck': 1, 'rue': 1, 'confederate': 1, 'oppression': 1, 'undertake': 1, 'overtake': 1, 'car': 1, 'questionable': 1, 'illassorted': 1, 'irksome': 1, 'prevalence': 1, 'badly': 1, 'motionless': 1, 'sullenness': 1, 'brutal': 1, 'misspent': 1, 'scornful': 1, 'penitence': 1, 'ridicule': 1, 'volubility': 1, 'twinkle': 1, 'ungenerous': 1, 'indefatigable': 1, 'fails': 1, 'sum': 1, 'abdy': 1, 'twentyseven': 1, 'bedridden': 1, 'rheumatic': 1, 'gout': 1, 'tom': 1, 'houseroom': 1, 'pensive': 1, 'meditation': 1, 'heighten': 1, 'instantaneous': 1, 'undecided': 1, 'dilatory': 1, 'unfinished': 1, 'disagreeableness': 1, 'background': 1, 'sixandthirty': 1, 'forebode': 1, 'goldsmith': 1, 'illfame': 1, 'disliked': 1, 'twentyfive': 1, 'fancifulness': 1, 'hem': 1, 'commiseration': 1, 'guidable': 1, 'endanger': 1, 'funeral': 1, 'lavish': 1, 'verbal': 1, 'derange': 1, 'pulmonary': 1, 'undertaken': 1, 'tremulous': 1, 'diet': 1, 'nourish': 1, 'distasteful': 1, 'examination': 1, 'peremptorily': 1, 'reprove': 1, 'parlourdoor': 1, 'sacred': 1, 'undesirable': 1, 'otways': 1, 'horrorstruck': 1, 'utterance': 1, 'protestation': 1, 'darling': 1, 'placidity': 1, 'expressly': 1, 'integrity': 1, 'adherence': 1, 'transaction': 1, 'indelicacy': 1, 'vault': 1, 'undue': 1, 'hypocrisy': 1, 'espionage': 1, 'league': 1, 'duped': 1, 'intreat': 1, 'deviation': 1, 'condolence': 1, 'briskness': 1, 'palliate': 1, 'torment': 1, 'constitute': 1, 'dupe': 1, 'prophetically': 1, 'disservice': 1, 'author': 1, 'guilty': 1, 'insufficient': 1, 'insignificance': 1, 'over': 1, 'rival': 1, 'repulse': 1, 'rack': 1, 'storeroom': 1, 'token': 1, 'perplexed': 1, 'privately': 1, 'stoutly': 1, 'modestly': 1, 'silently': 1, 'arrow': 1, 'indelicate': 1, 'irrational': 1, 'demerit': 1, 'trembling': 1, 'unsteady': 1, 'perplex': 1, 'inward': 1, 'feebleness': 1, 'tautology': 1, 'corroborate': 1, 'agreement': 1, 'undiscerned': 1, 'limewalk': 1, 'intentionally': 1, 'spontaneous': 1, 'amidst': 1, 'deception': 1, 'posture': 1, 'weakly': 1, 'involuntary': 1, 'institute': 1, 'sorrowfully': 1, 'threadbare': 1, 'stale': 1, 'debasement': 1, 'captivate': 1, 'inconsistent': 1, 'incongruous': 1, 'sequel': 1, 'selfconsequence': 1, 'worldly': 1, 'wilfully': 1, 'impartiality': 1, 'clearsighted': 1, 'incompatible': 1, 'wretchedly': 1, 'frightfully': 1, 'decisively': 1, 'confidential': 1, 'wake': 1, 'daughterinlaw': 1, 'elect': 1, 'rapturous': 1, 'pent': 1, 'energetic': 1, 'uttered': 1, 'attestation': 1, 'expiation': 1, 'inquietude': 1, 'irritable': 1, 'unanswered': 1, 'closer': 1, 'unpardonably': 1, 'levity': 1, 'carelessness': 1, 'stabbed': 1, 'stormy': 1, 'despoil': 1, 'erroneous': 1, 'foreboding': 1, 'brighten': 1, 'loneliness': 1, 'serenity': 1, 'intimation': 1, 'unquestionably': 1, 'scoundrel': 1, 'steadier': 1, 'clemency': 1, 'ingeniously': 1, 'calculation': 1, 'vouches': 1, 'disinterestedness': 1, 'purity': 1, 'mortal': 1, 'startle': 1, 'unsaid': 1, 'indecision': 1, 'ungraciously': 1, 'awaken': 1, 'velocity': 1, 'groundless': 1, 'attendant': 1, 'sublimity': 1, 'flight': 1, 'crush': 1, 'enlighten': 1, 'brilliancy': 1, 'stayed': 1, 'gladness': 1, 'keen': 1, 'ridden': 1, 'faultless': 1, 'villain': 1, 'respite': 1, 'western': 1, 'plot': 1, 'breast': 1, 'lung': 1, 'impend': 1, 'selfcontentment': 1, 'sleepless': 1, 'tax': 1, 'wept': 1, 'divest': 1, 'steal': 1, 'literally': 1, 'figuratively': 1, 'reinstate': 1, 'deprecate': 1, 'wad': 1, 'packet': 1, 'enclose': 1, 'preface': 1, 'nervousness': 1, 'ungenial': 1, 'northeast': 1, 'windsorjuly': 1, 'discus': 1, 'caviller': 1, 'brick': 1, 'creation': 1, 'inheritance': 1, 'reprehension': 1, 'excites': 1, 'expiration': 1, 'queerness': 1, 'designedly': 1, 'insane': 1, 'encroach': 1, 'unseasonableness': 1, '26th': 1, 'ult': 1, 'shrunk': 1, 'retrospect': 1, 'blameable': 1, 'dissatisfaction': 1, 'consistent': 1, 'particularity': 1, 'useless': 1, 'officious': 1, 'hatred': 1, 'bandy': 1, 'and': 1, 'each': 1, 'multiplicity': 1, 'misconstrue': 1, 'subordinate': 1, 'conveyance': 1, 'accordant': 1, 'descriptive': 1, 'only': 1, 'wan': 1, 'undoubted': 1, 'subscribe': 1, 'foretold': 1, 'impartial': 1, 'disapprobation': 1, 'fathom': 1, 'intrigue': 1, 'finesse': 1, 'pervert': 1, 'boyish': 1, 'contend': 1, 'suffers': 1, 'thanker': 1, 'inconsideration': 1, 'thoughtlessness': 1, 'inadmissibility': 1, 'transplantation': 1, 'evince': 1, 'unprovided': 1, 'heirexpectant': 1, 'outweigh': 1, 'cheerlessness': 1, 'loser': 1, 'bordering': 1, 'desirableness': 1, 'stroke': 1, 'tooth': 1, 'appoint': 1, 'similarity': 1, 'unsuccessfully': 1, 'purple': 1, 'gold': 1, 'reticule': 1, 'admits': 1, 'mum': 1, 'minister': 1, 'palpable': 1, 'sideglance': 1, 'physician': 1, 'commonly': 1, 'other': 1, 'overseer': 1, 'churchwarden': 1, 'applicant': 1, 'screen': 1, 'consultation': 1, 'smallness': 1, 'patronage': 1, 'solidity': 1, 'greet': 1, 'dutiful': 1, 'sample': 1, 'broiling': 1, 'indignity': 1, 'harry': 1, 'sideboard': 1, 'receipt': 1, 'aggression': 1, 'collectedly': 1, 'artificial': 1, 'welldoing': 1, 'baronne': 1, 'dalmane': 1, 'comtesse': 1, 'dostalis': 1, 'madame': 1, 'de': 1, 'genlis': 1, 'theodore': 1, 'infancy': 1, 'bitterness': 1, 'spoilt': 1, 'dint': 1, 'anna': 1, 'soandso': 1, 'terseness': 1, 'k': 1, 'n': 1, 'm': 1, 'womanly': 1, 'unmentioned': 1, 'enters': 1, 'complimenter': 1, 'affectionately': 1, 'secondly': 1, 'feign': 1, 'singularly': 1, 'renounce': 1, 'impediment': 1, 'knee': 1, 'outgrown': 1, 'familiarise': 1, 'sagacity': 1, 'habitation': 1, 'daringly': 1, 'flush': 1, 'recourse': 1, 'workbasket': 1, 'overflow': 1, 'broadly': 1, 'respectability': 1, 'softhearted': 1, 'cattle': 1, 'drill': 1, 'ox': 1, 'emphasis': 1, 'brightest': 1, 'utility': 1, 'disappear': 1, 'humility': 1, 'circumspection': 1, 'thankfulness': 1, 'doleful': 1, 'equivocation': 1, 'hateful': 1, 'gayest': 1, 'connive': 1, 'doat': 1, 'forbade': 1, 'transgression': 1, 'bond': 1, 'northward': 1, 'accession': 1, 'archly': 1, 'dog': 1, 'mirth': 1, 'in': 1, 'readier': 1, 'jewel': 1, 'partly': 1, 'entertainingly': 1, 'completion': 1, 'xix': 1, 'unbiased': 1, 'presumptuous': 1, 'selfdeceived': 1, 'unqualified': 1, 'unintelligible': 1, 'tradesman': 1, 'decent': 1, 'vouch': 1, 'unbleached': 1, 'nobility': 1, 'liberally': 1, 'gradual': 1, 'impair': 1, 'clergyman': 1, 'altar': 1, 'intermediate': 1, 'seaside': 1, 'hopeless': 1, 'resignation': 1, 'acquiesce': 1, 'illumination': 1, 'poultryhouse': 1, 'robbed': 1, 'turkey': 1, 'poultryyards': 1, 'pilfer': 1, 'housebreak': 1, 'detailed': 1, 'satin': 1, 'veil': 1, 'stare': 1, 'prediction': 1, 'band': 1, 'finis': 1})\n"
     ]
    }
   ],
   "source": [
    "nltk.download('gutenberg')\n",
    "import nltk.corpus\n",
    "emma = nltk.corpus.gutenberg.raw('austen-emma.txt')\n",
    "\n",
    "emma_words = word_tokenize(emma)\n",
    "\n",
    "emma_lower = [word.lower() for word in emma_words]\n",
    "\n",
    "emma_correct_spell = []\n",
    "for word in emma_lower:\n",
    "    emma_correct_spell.append(check(word))    \n",
    "\n",
    "    emma_no_stopwords = []\n",
    "for word in emma_lower:\n",
    "    if word not in stop_words:\n",
    "        emma_no_stopwords.append(word)\n",
    "        \n",
    "emma_no_punct = [w.translate(table_punctuation) for w in emma_no_stopwords]  \n",
    "emma_no_space = list(filter(None, emma_no_punct))              \n",
    "emma_pos_tagged = nltk.pos_tag(emma_no_space)   \n",
    "\n",
    "emma_lemmed = []\n",
    "for pair in emma_pos_tagged:\n",
    "    emma_lemmed.append(lemmatizer.lemmatize(pair[0], get_wordnet_pos(pair[0])))   \n",
    "    \n",
    "emma_counts = Counter(emma_lemmed)\n",
    "print(emma_counts)"
   ]
  },
  {
   "cell_type": "markdown",
   "metadata": {},
   "source": [
    "Excellent! Clearly, the words in Emma are very different than those of our sample corpus, and those words that appear in both occur in very different relative frequencies (not least because one is a page of babble and the other is a full novel).\n",
    "\n",
    "To get a better idea, how about we compare the 20 most common words from both corpora. \n",
    "Run/Shift+Enter"
   ]
  },
  {
   "cell_type": "code",
   "execution_count": 10,
   "metadata": {},
   "outputs": [
    {
     "name": "stdout",
     "output_type": "stream",
     "text": [
      "[('information', 119), ('site', 76), ('use', 74), ('may', 64), ('personal', 56), ('policy', 38), ('u', 36), ('service', 34), ('privacy', 32), ('cooky', 32), ('email', 28), ('collect', 28), ('web', 24), ('address', 22), ('third', 22), ('party', 22), ('provide', 20), ('account', 18), ('visit', 18), ('also', 16)]\n",
      "[('mr', 1855), ('say', 878), ('s', 868), ('emma', 861), ('could', 837), ('would', 820), ('miss', 614), ('must', 571), ('well', 557), ('harriet', 501), ('much', 486), ('think', 467), ('thing', 461), ('one', 457), ('know', 451), ('weston', 447), ('every', 435), ('make', 420), ('come', 403), ('go', 384)]\n"
     ]
    }
   ],
   "source": [
    "print(corpus_counts.most_common(20))\n",
    "print(emma_counts.most_common(20))"
   ]
  },
  {
   "cell_type": "markdown",
   "metadata": {},
   "source": [
    "Ok. Clearly very different. But let's try one more thing for now... Let's count how many times each of these texts use the word 'personal'. We could use any word as the target word, but I happen to know that there is a non-zero result for these two texts for this word. \n",
    "\n",
    "Run/Shift+Enter!!!"
   ]
  },
  {
   "cell_type": "code",
   "execution_count": 11,
   "metadata": {},
   "outputs": [
    {
     "name": "stdout",
     "output_type": "stream",
     "text": [
      "56\n",
      "7\n"
     ]
    }
   ],
   "source": [
    "print(corpus_counts['personal'])\n",
    "print(emma_counts['personal'])"
   ]
  },
  {
   "cell_type": "markdown",
   "metadata": {},
   "source": [
    "So, despite being much shorter, the sample text corpus uses the word 'personal' over 8 times more often. \n",
    "\n",
    "That sounds very personal. \n",
    "\n",
    "Feel free to choose other words and re-run the code. "
   ]
  },
  {
   "cell_type": "markdown",
   "metadata": {},
   "source": [
    "## Similarity"
   ]
  },
  {
   "cell_type": "markdown",
   "metadata": {},
   "source": [
    "Now, comparing the most common words in two documents is one way to compare how similar they are, but there are more sophisticated ways. \n",
    "\n",
    "spaCy is a relatively new option for text-mining in python, but it is very powerful. First off, we need to download and import a few things. \n",
    "\n",
    "Run/Shift+Enter (you are already so good at this!)"
   ]
  },
  {
   "cell_type": "code",
   "execution_count": 12,
   "metadata": {},
   "outputs": [
    {
     "name": "stderr",
     "output_type": "stream",
     "text": [
      "WARNING: Ignoring invalid distribution -ip (c:\\python39\\lib\\site-packages)\n",
      "WARNING: Ignoring invalid distribution -ip (c:\\python39\\lib\\site-packages)\n",
      "WARNING: Ignoring invalid distribution -ip (c:\\python39\\lib\\site-packages)\n",
      "WARNING: Ignoring invalid distribution -ip (c:\\python39\\lib\\site-packages)\n",
      "WARNING: Ignoring invalid distribution -ip (c:\\python39\\lib\\site-packages)\n",
      "WARNING: Ignoring invalid distribution -ip (c:\\python39\\lib\\site-packages)\n"
     ]
    },
    {
     "name": "stdout",
     "output_type": "stream",
     "text": [
      "[+] Download and installation successful\n",
      "You can now load the package via spacy.load('en_core_web_lg')\n"
     ]
    },
    {
     "name": "stderr",
     "output_type": "stream",
     "text": [
      "WARNING: Ignoring invalid distribution -ip (c:\\python39\\lib\\site-packages)\n",
      "WARNING: Ignoring invalid distribution -ip (c:\\python39\\lib\\site-packages)\n",
      "WARNING: Ignoring invalid distribution -ip (c:\\python39\\lib\\site-packages)\n",
      "WARNING: Ignoring invalid distribution -ip (c:\\python39\\lib\\site-packages)\n",
      "WARNING: Ignoring invalid distribution -ip (c:\\python39\\lib\\site-packages)\n",
      "WARNING: Ignoring invalid distribution -ip (c:\\python39\\lib\\site-packages)\n"
     ]
    }
   ],
   "source": [
    "!pip install spacy -q\n",
    "import spacy\n",
    "!python -m spacy download en_core_web_lg -q\n",
    "from nltk.corpus import webtext"
   ]
  },
  {
   "cell_type": "markdown",
   "metadata": {},
   "source": [
    "Super. Now, let's load the model via spacy-load, and then test it on a trivial corpus that has only three words. \n",
    "\n",
    "Run/Shift+Enter already!"
   ]
  },
  {
   "cell_type": "code",
   "execution_count": 13,
   "metadata": {},
   "outputs": [
    {
     "name": "stdout",
     "output_type": "stream",
     "text": [
      "troll troll 1.0\n",
      "troll elf 0.33479368686676025\n",
      "troll rabbit 0.3391837775707245\n",
      "elf troll 0.33479368686676025\n",
      "elf elf 1.0\n",
      "elf rabbit 0.38160184025764465\n",
      "rabbit troll 0.3391837775707245\n",
      "rabbit elf 0.38160184025764465\n",
      "rabbit rabbit 1.0\n"
     ]
    }
   ],
   "source": [
    "nlp = spacy.load('en_core_web_lg')\n",
    "\n",
    "word_similarity = nlp(\"troll elf rabbit\")\n",
    "\n",
    "\n",
    "for word1 in word_similarity:\n",
    "    for word2 in word_similarity:\n",
    "        print(word1.text, word2.text, word1.similarity(word2))"
   ]
  },
  {
   "cell_type": "markdown",
   "metadata": {},
   "source": [
    "This code does a few things. First, it loads a model of common words in English (this is the 'en_core_web_lg') that has 300 dimension vectors for each word. If that sounds like nonsense, don't worry too much. \n",
    "\n",
    "What it means is that the model has a list of lots of common words in English, each of which comes with a 'scorecard' of how they rank on 300 different features which is a sort of abstract way of capturing the meaning of the word. This is not derived from logical scoring by people, but through an AI sort of analysis of how the words are used in LOTS of text, which finds patterns like:\n",
    "- Is the target word used more often like a noun or a verb? \n",
    "- Is it usually plural (if a noun) or in gerrund ('ing'-form, if a verb)? \n",
    "- Is it frequently preceded by adjectives like 'little' or 'unprecedented' or adverbs like 'always' or 'never'? \n",
    "\n",
    "What comes out of this code is a pair-wise comparison of all the vectors, or scorecards, for the words in our little three-word corpus. This comes out as a number between 0 and 1, with 0 being totally different (or not found in the model) and 1 being a perfect match. \n",
    "\n",
    "Looking at the results, we see that comparing a word to itself (e.g. the first line which has 'dog dog 1.0') scores a 1, or 100 percent match. Not surprising. \n",
    "\n",
    "We also see that 'dog' and 'cat' are a pretty good match at 0.8. Both words are likely to be used in similar ways. For example, both would fit equally well into a sentence like \"I really want to get a pet (dog/cat), but I just don't spend enough time at home to take care of it properly.\"\n",
    "\n",
    "We also see that 'banana' is closer to 'cat' than to 'dog', but not by much. Presumably, bananas are more likely to sit around like cats than to run around like dogs? No idea. \n",
    "\n",
    "Feel free to edit the little three-word corpus and re-run the similarity test. Try 'puppy' to see if it is closer to 'dog' than 'dog' is to 'cat'? Try adding 'apple'? Or 'unprecedented'? Or anything else?"
   ]
  },
  {
   "cell_type": "markdown",
   "metadata": {},
   "source": [
    "Of course, comparing individual words is all well and good, but what you probably want to compare is one text to another. To do that, first we need to prepare a few texts to do some comparing. You have already seen our sample corpus and 'Emma' by Jane Austen, but let's also add 'Persuasion' by Jane Austen and a selection of text from another nltk.corpus of texts from the web. The specific text is called 'firefox'. \n",
    "\n",
    "All of these texts need to be put through the nlp function we created from spaCy so that it creates a document vector. \n",
    "\n",
    "Document vectors are much like word vectors in that they score the document on a large number of dimensions. However, instead of coming packaged with spaCy, they are created from the text that you pass to spaCy. Which is what we are doing now.\n",
    "\n",
    "Run/Shift+Enter below!"
   ]
  },
  {
   "cell_type": "code",
   "execution_count": 14,
   "metadata": {},
   "outputs": [],
   "source": [
    "SimEmma = nlp(nltk.corpus.gutenberg.raw('austen-emma.txt'))\n",
    "SimPers = nlp(nltk.corpus.gutenberg.raw('austen-persuasion.txt'))\n",
    "SimFire = nlp(nltk.corpus.webtext.raw('firefox.txt'))\n",
    "SimCorp = nlp(corpus)"
   ]
  },
  {
   "cell_type": "markdown",
   "metadata": {},
   "source": [
    "You can, of course, have a peek at the contents of 'Persuasion' or 'firefox' if you like. You probably know how to do that with a print command, but maybe you want to run some of the other operations on the text too. \n",
    "\n",
    "Or you can plow on ahead and Run/Shift+Enter to run the document vector similarity comparisons below. "
   ]
  },
  {
   "cell_type": "code",
   "execution_count": 15,
   "metadata": {},
   "outputs": [
    {
     "name": "stdout",
     "output_type": "stream",
     "text": [
      "0.9938394578207861\n",
      "0.8102042829210445\n",
      "0.8604862545346392\n"
     ]
    }
   ],
   "source": [
    "print(SimEmma.similarity(SimPers))\n",
    "print(SimEmma.similarity(SimFire))\n",
    "print(SimEmma.similarity(SimCorp))"
   ]
  },
  {
   "cell_type": "markdown",
   "metadata": {},
   "source": [
    "Each of these compares 'Emma' to one of the other texts (the ones in parentheses at the end). \n",
    "\n",
    "Are you surprised by the results? Feel free to try comparing the other texts to each other, rather than just to 'Emma'. \n",
    "\n"
   ]
  },
  {
   "cell_type": "markdown",
   "metadata": {},
   "source": [
    "## Discovery\n"
   ]
  },
  {
   "cell_type": "markdown",
   "metadata": {},
   "source": [
    "Now, for the final bit of NLP that we cover here, let's talk about discovery. This is about identifying patterns that reveal relationships and applying it more widely to discover additional relationships. Let's start by importing a few things that we need. \n",
    "\n",
    "Run/Shift+Enter. "
   ]
  },
  {
   "cell_type": "code",
   "execution_count": 16,
   "metadata": {},
   "outputs": [],
   "source": [
    "import re \n",
    "import string \n",
    "import nltk \n",
    "import spacy \n",
    "import pandas as pd \n",
    "import numpy as np \n",
    "import math \n",
    "from tqdm import tqdm \n",
    "\n",
    "from spacy.matcher import Matcher \n",
    "from spacy.tokens import Span \n",
    "from spacy import displacy \n",
    "\n",
    "pd.set_option('display.max_colwidth', 200)"
   ]
  },
  {
   "cell_type": "markdown",
   "metadata": {},
   "source": [
    "Now, let's take a look at 'Emma'. We start by tokenising the raw text into sentences, then we create a list of all sentences that contain the sub-string \"like a\", then we create run our list through our nlp function from spaCy. \n",
    "\n",
    "Run/Shift+Enter. "
   ]
  },
  {
   "cell_type": "code",
   "execution_count": 17,
   "metadata": {},
   "outputs": [],
   "source": [
    "# sample text \n",
    "emma_sentences = nltk.sent_tokenize(nltk.corpus.gutenberg.raw('austen-emma.txt'))\n",
    "emma_such_as =\"\"\n",
    "for sentence in emma_sentences:\n",
    "    if \"like a \" in sentence:\n",
    "        emma_such_as += sentence\n",
    "                \n",
    "# create a spaCy object \n",
    "doc = nlp(emma_such_as)"
   ]
  },
  {
   "cell_type": "markdown",
   "metadata": {},
   "source": [
    "Now, let's take a closer look at context around those instances of \"like a\". \n",
    "\n",
    "To do that, we use some spaCy functions that print the word, print its role in the sentence, and print its POS-tag. \n",
    "\n",
    "This lets us see if we can find any patterns in the word roles or POS-tags that might help us understand the patterns relating to \"like a\". \n",
    "\n",
    "Run/Shift+Enter."
   ]
  },
  {
   "cell_type": "code",
   "execution_count": 18,
   "metadata": {},
   "outputs": [
    {
     "name": "stdout",
     "output_type": "stream",
     "text": [
      "His --> poss --> PRON\n",
      "appearance --> nsubj --> NOUN\n",
      "was --> ccomp --> AUX\n",
      "very --> advmod --> ADV\n",
      "neat --> acomp --> ADJ\n",
      ", --> punct --> PUNCT\n",
      "and --> cc --> CCONJ\n",
      "he --> nsubj --> PRON\n",
      "looked --> conj --> VERB\n",
      "like --> prep --> ADP\n",
      "a --> det --> DET\n",
      "sensible --> amod --> ADJ\n",
      "young --> amod --> ADJ\n",
      "man --> pobj --> NOUN\n",
      ", --> punct --> PUNCT\n",
      "\n",
      " --> dep --> SPACE\n",
      "but --> cc --> CCONJ\n",
      "his --> poss --> PRON\n",
      "person --> nsubj --> NOUN\n",
      "had --> conj --> VERB\n",
      "no --> det --> DET\n",
      "other --> amod --> ADJ\n",
      "advantage --> dobj --> NOUN\n",
      "; --> punct --> PUNCT\n",
      "and --> cc --> CCONJ\n",
      "when --> advmod --> SCONJ\n",
      "he --> nsubj --> PRON\n",
      "came --> advcl --> VERB\n",
      "to --> aux --> PART\n",
      "be --> auxpass --> AUX\n",
      "\n",
      " --> dep --> SPACE\n",
      "contrasted --> xcomp --> VERB\n",
      "with --> prep --> ADP\n",
      "gentlemen --> pobj --> NOUN\n",
      ", --> punct --> PUNCT\n",
      "she --> nsubj --> PRON\n",
      "thought --> conj --> VERB\n",
      "he --> nsubj --> PRON\n",
      "must --> aux --> AUX\n",
      "lose --> ccomp --> VERB\n",
      "all --> predet --> DET\n",
      "the --> det --> DET\n",
      "ground --> dobj --> NOUN\n",
      "\n",
      " --> dep --> SPACE\n",
      "he --> nsubj --> PRON\n",
      "had --> aux --> AUX\n",
      "gained --> relcl --> VERB\n",
      "in --> prep --> ADP\n",
      "Harriet --> pobj --> PROPN\n",
      "'s --> case --> PART\n",
      "inclination.-- --> dep --> SPACE\n",
      "\n",
      " --> dep --> SPACE\n",
      "Yet --> advmod --> CCONJ\n",
      "he --> nsubj --> PRON\n",
      "would --> aux --> AUX\n",
      "be --> conj --> AUX\n",
      "so --> advmod --> ADV\n",
      "anxious --> acomp --> ADJ\n",
      "for --> prep --> ADP\n",
      "her --> nsubj --> PRON\n",
      "being --> pcomp --> AUX\n",
      "perfectly --> advmod --> ADV\n",
      "warm --> acomp --> ADJ\n",
      ", --> punct --> PUNCT\n",
      "would --> aux --> AUX\n",
      "be --> ROOT --> AUX\n",
      "\n",
      " --> dep --> SPACE\n",
      "so --> advmod --> ADV\n",
      "interested --> acomp --> ADJ\n",
      "about --> prep --> ADP\n",
      "her --> poss --> PRON\n",
      "father --> pobj --> NOUN\n",
      ", --> punct --> PUNCT\n",
      "and --> cc --> CCONJ\n",
      "so --> advmod --> ADV\n",
      "delighted --> conj --> ADJ\n",
      "with --> prep --> ADP\n",
      "Mrs. --> compound --> PROPN\n",
      "Weston --> pobj --> PROPN\n",
      "; --> punct --> PUNCT\n",
      "\n",
      " --> dep --> SPACE\n",
      "and --> cc --> CCONJ\n",
      "at --> prep --> ADP\n",
      "last --> pobj --> ADJ\n",
      "would --> aux --> AUX\n",
      "begin --> conj --> VERB\n",
      "admiring --> xcomp --> VERB\n",
      "her --> poss --> PRON\n",
      "drawings --> dobj --> NOUN\n",
      "with --> prep --> ADP\n",
      "so --> advmod --> ADV\n",
      "much --> amod --> ADJ\n",
      "zeal --> pobj --> NOUN\n",
      "\n",
      " --> dep --> SPACE\n",
      "and --> cc --> CCONJ\n",
      "so --> advmod --> ADV\n",
      "little --> amod --> ADJ\n",
      "knowledge --> conj --> NOUN\n",
      "as --> mark --> SCONJ\n",
      "seemed --> advcl --> VERB\n",
      "terribly --> advmod --> ADV\n",
      "like --> prep --> ADP\n",
      "a --> det --> DET\n",
      "would --> aux --> AUX\n",
      "- --> punct --> PUNCT\n",
      "be --> nmod --> AUX\n",
      "lover --> pobj --> NOUN\n",
      ", --> punct --> PUNCT\n",
      "\n",
      " --> dep --> SPACE\n",
      "and --> cc --> CCONJ\n",
      "made --> conj --> VERB\n",
      "it --> nsubj --> PRON\n",
      "some --> det --> DET\n",
      "effort --> ccomp --> NOUN\n",
      "with --> prep --> ADP\n",
      "her --> pobj --> PRON\n",
      "to --> aux --> PART\n",
      "preserve --> acl --> VERB\n",
      "her --> poss --> PRON\n",
      "good --> amod --> ADJ\n",
      "manners --> dobj --> NOUN\n",
      ". --> punct --> PUNCT\n",
      "When --> advmod --> SCONJ\n",
      "she --> nsubj --> PRON\n",
      "looked --> advcl --> VERB\n",
      "at --> prep --> ADP\n",
      "the --> det --> DET\n",
      "hedges --> pobj --> NOUN\n",
      ", --> punct --> PUNCT\n",
      "she --> nsubj --> PRON\n",
      "thought --> ROOT --> VERB\n",
      "the --> det --> DET\n",
      "elder --> nsubj --> NOUN\n",
      "at --> prep --> ADP\n",
      "\n",
      " --> dep --> SPACE\n",
      "least --> pobj --> ADJ\n",
      "must --> aux --> AUX\n",
      "soon --> advmod --> ADV\n",
      "be --> aux --> AUX\n",
      "coming --> ccomp --> VERB\n",
      "out --> prt --> ADV\n",
      "; --> punct --> PUNCT\n",
      "and --> cc --> CCONJ\n",
      "when --> advmod --> SCONJ\n",
      "she --> nsubj --> PRON\n",
      "turned --> advcl --> VERB\n",
      "round --> advmod --> ADV\n",
      "to --> prep --> ADP\n",
      "Harriet --> pobj --> PROPN\n",
      ", --> punct --> PUNCT\n",
      "\n",
      " --> dep --> SPACE\n",
      "she --> nsubj --> PRON\n",
      "saw --> conj --> VERB\n",
      "something --> dobj --> PRON\n",
      "like --> prep --> ADP\n",
      "a --> det --> DET\n",
      "look --> pobj --> NOUN\n",
      "of --> prep --> ADP\n",
      "spring --> pobj --> NOUN\n",
      ", --> punct --> PUNCT\n",
      "a --> det --> DET\n",
      "tender --> amod --> ADJ\n",
      "smile --> dobj --> NOUN\n",
      "even --> advmod --> ADV\n",
      "there --> advmod --> ADV\n",
      ". --> punct --> PUNCT\n",
      "He --> nsubj --> PRON\n",
      "begged --> ROOT --> VERB\n",
      "to --> aux --> PART\n",
      "be --> auxpass --> AUX\n",
      "shewn --> xcomp --> VERB\n",
      "the --> det --> DET\n",
      "house --> dobj --> NOUN\n",
      "which --> dobj --> PRON\n",
      "his --> poss --> PRON\n",
      "father --> nsubj --> NOUN\n",
      "had --> aux --> AUX\n",
      "lived --> relcl --> VERB\n",
      "in --> prep --> ADP\n",
      "so --> advmod --> ADV\n",
      "long --> advmod --> ADV\n",
      ", --> punct --> PUNCT\n",
      "\n",
      " --> dep --> SPACE\n",
      "and --> cc --> CCONJ\n",
      "which --> nsubj --> PRON\n",
      "had --> aux --> AUX\n",
      "been --> conj --> AUX\n",
      "the --> det --> DET\n",
      "home --> attr --> NOUN\n",
      "of --> prep --> ADP\n",
      "his --> poss --> PRON\n",
      "father --> poss --> NOUN\n",
      "'s --> case --> PART\n",
      "father --> pobj --> NOUN\n",
      "; --> punct --> PUNCT\n",
      "and --> cc --> CCONJ\n",
      "on --> prep --> ADP\n",
      "recollecting --> pcomp --> VERB\n",
      "\n",
      " --> dep --> SPACE\n",
      "that --> mark --> SCONJ\n",
      "an --> det --> DET\n",
      "old --> amod --> ADJ\n",
      "woman --> nsubj --> NOUN\n",
      "who --> nsubj --> PRON\n",
      "had --> aux --> AUX\n",
      "nursed --> relcl --> VERB\n",
      "him --> dobj --> PRON\n",
      "was --> aux --> AUX\n",
      "still --> advmod --> ADV\n",
      "living --> ccomp --> VERB\n",
      ", --> punct --> PUNCT\n",
      "walked --> advcl --> VERB\n",
      "in --> prep --> ADP\n",
      "quest --> pobj --> NOUN\n",
      "\n",
      " --> dep --> SPACE\n",
      "of --> prep --> ADP\n",
      "her --> poss --> PRON\n",
      "cottage --> pobj --> NOUN\n",
      "from --> prep --> ADP\n",
      "one --> nummod --> NUM\n",
      "end --> pobj --> NOUN\n",
      "of --> prep --> ADP\n",
      "the --> det --> DET\n",
      "street --> pobj --> NOUN\n",
      "to --> prep --> ADP\n",
      "the --> det --> DET\n",
      "other --> pobj --> ADJ\n",
      "; --> punct --> PUNCT\n",
      "and --> cc --> CCONJ\n",
      "though --> mark --> SCONJ\n",
      "\n",
      " --> dep --> SPACE\n",
      "in --> prep --> ADP\n",
      "some --> det --> DET\n",
      "points --> pobj --> NOUN\n",
      "of --> prep --> ADP\n",
      "pursuit --> pobj --> NOUN\n",
      "or --> cc --> CCONJ\n",
      "observation --> conj --> NOUN\n",
      "there --> expl --> PRON\n",
      "was --> conj --> VERB\n",
      "no --> det --> DET\n",
      "positive --> amod --> ADJ\n",
      "merit --> attr --> NOUN\n",
      ", --> punct --> PUNCT\n",
      "\n",
      " --> dep --> SPACE\n",
      "they --> nsubj --> PRON\n",
      "shewed --> parataxis --> VERB\n",
      ", --> punct --> PUNCT\n",
      "altogether --> advmod --> ADV\n",
      ", --> punct --> PUNCT\n",
      "a --> det --> DET\n",
      "good --> amod --> ADJ\n",
      "- --> punct --> PUNCT\n",
      "will --> nsubj --> NOUN\n",
      "towards --> prep --> ADP\n",
      "Highbury --> pobj --> PROPN\n",
      "in --> prep --> ADP\n",
      "general --> amod --> ADJ\n",
      ", --> punct --> PUNCT\n",
      "\n",
      " --> dep --> SPACE\n",
      "which --> nsubj --> PRON\n",
      "must --> aux --> AUX\n",
      "be --> conj --> AUX\n",
      "very --> advmod --> ADV\n",
      "like --> prep --> ADP\n",
      "a --> det --> DET\n",
      "merit --> pobj --> NOUN\n",
      "to --> prep --> ADP\n",
      "those --> pobj --> PRON\n",
      "he --> nsubj --> PRON\n",
      "was --> relcl --> AUX\n",
      "with --> prep --> ADP\n",
      ". --> punct --> PUNCT\n",
      "He --> nsubj --> PRON\n",
      "argued --> ROOT --> VERB\n",
      "like --> mark --> SCONJ\n",
      "a --> det --> DET\n",
      "young --> amod --> ADJ\n",
      "man --> nsubj --> NOUN\n",
      "very --> advmod --> ADV\n",
      "much --> advmod --> ADV\n",
      "bent --> advcl --> ADJ\n",
      "on --> prep --> ADP\n",
      "dancing --> pobj --> NOUN\n",
      "; --> punct --> PUNCT\n",
      "and --> cc --> CCONJ\n",
      "Emma --> nsubj --> PROPN\n",
      "\n",
      " --> dep --> SPACE\n",
      "was --> conj --> AUX\n",
      "rather --> advmod --> ADV\n",
      "surprized --> acomp --> VERB\n",
      "to --> aux --> PART\n",
      "see --> xcomp --> VERB\n",
      "the --> det --> DET\n",
      "constitution --> nsubj --> NOUN\n",
      "of --> prep --> ADP\n",
      "the --> det --> DET\n",
      "Weston --> pobj --> PROPN\n",
      "prevail --> ccomp --> VERB\n",
      "\n",
      " --> dep --> SPACE\n",
      "so --> advmod --> ADV\n",
      "decidedly --> advmod --> ADV\n",
      "against --> prep --> ADP\n",
      "the --> det --> DET\n",
      "habits --> pobj --> NOUN\n",
      "of --> prep --> ADP\n",
      "the --> det --> DET\n",
      "Churchills --> pobj --> PROPN\n",
      ". --> punct --> PUNCT\n",
      "\"This --> nsubj --> PRON\n",
      "is --> aux --> AUX\n",
      "coming --> ccomp --> VERB\n",
      "as --> mark --> SCONJ\n",
      "you --> nsubj --> PRON\n",
      "should --> aux --> AUX\n",
      "do --> advcl --> VERB\n",
      ", --> punct --> PUNCT\n",
      "\" --> punct --> PUNCT\n",
      "said --> parataxis --> VERB\n",
      "she --> nsubj --> PRON\n",
      "; --> punct --> PUNCT\n",
      "\" --> punct --> PUNCT\n",
      "like --> prep --> ADP\n",
      "a --> det --> DET\n",
      "gentleman.-- --> pobj --> SPACE\n",
      "\n",
      " --> dep --> SPACE\n",
      "I --> nsubj --> PRON\n",
      "am --> ROOT --> AUX\n",
      "quite --> advmod --> ADV\n",
      "glad --> acomp --> ADJ\n",
      "to --> aux --> PART\n",
      "see --> xcomp --> VERB\n",
      "you --> dobj --> PRON\n",
      ". --> punct --> PUNCT\n",
      "\"She --> punct --> PUNCT\n",
      "must --> aux --> AUX\n",
      "know --> ccomp --> VERB\n",
      "as --> advmod --> ADV\n",
      "well --> advmod --> ADV\n",
      "as --> cc --> ADP\n",
      "her --> poss --> PRON\n",
      "father --> nsubj --> NOUN\n",
      ", --> punct --> PUNCT\n",
      "how --> advmod --> SCONJ\n",
      "acceptable --> amod --> ADJ\n",
      "an --> det --> DET\n",
      "instrument --> nsubj --> NOUN\n",
      "\n",
      " --> dep --> SPACE\n",
      "would --> aux --> AUX\n",
      "be --> conj --> AUX\n",
      "; --> punct --> PUNCT\n",
      "and --> cc --> CCONJ\n",
      "perhaps --> advmod --> ADV\n",
      "the --> det --> DET\n",
      "mode --> nsubj --> NOUN\n",
      "of --> prep --> ADP\n",
      "it --> pobj --> PRON\n",
      ", --> punct --> PUNCT\n",
      "the --> det --> DET\n",
      "mystery --> nsubj --> NOUN\n",
      ", --> punct --> PUNCT\n",
      "the --> det --> DET\n",
      "surprize --> appos --> NOUN\n",
      ", --> punct --> PUNCT\n",
      "\n",
      " --> dep --> SPACE\n",
      "is --> conj --> AUX\n",
      "more --> advmod --> ADJ\n",
      "like --> prep --> ADP\n",
      "a --> det --> DET\n",
      "young --> amod --> ADJ\n",
      "woman --> poss --> NOUN\n",
      "'s --> case --> PART\n",
      "scheme --> pobj --> NOUN\n",
      "than --> prep --> ADP\n",
      "an --> det --> DET\n",
      "elderly --> amod --> ADJ\n",
      "man's.said --> pobj --> NOUN\n",
      "he --> dobj --> PRON\n",
      ", --> punct --> PUNCT\n",
      "` --> punct --> PUNCT\n",
      "I --> nsubj --> PRON\n",
      "do --> aux --> AUX\n",
      "think --> ccomp --> VERB\n",
      "I --> nsubj --> PRON\n",
      "can --> aux --> AUX\n",
      "fasten --> ccomp --> VERB\n",
      "the --> det --> DET\n",
      "rivet --> dobj --> NOUN\n",
      "; --> punct --> PUNCT\n",
      "I --> nsubj --> PRON\n",
      "like --> ROOT --> VERB\n",
      "a --> det --> DET\n",
      "job --> dobj --> NOUN\n",
      "\n",
      " --> dep --> SPACE\n",
      "of --> prep --> ADP\n",
      "this --> det --> DET\n",
      "kind --> pobj --> NOUN\n",
      "excessively --> advmod --> ADV\n",
      ". --> punct --> PUNCT\n",
      "'I --> ROOT --> PROPN\n",
      "like --> ROOT --> ADP\n",
      "a --> det --> DET\n",
      "job --> pobj --> NOUN\n",
      "of --> prep --> ADP\n",
      "that --> det --> DET\n",
      "sort --> pobj --> NOUN\n",
      "excessively --> advmod --> ADV\n",
      ". --> punct --> PUNCT\n",
      "'Long --> pobj --> PUNCT\n",
      "before --> mark --> SCONJ\n",
      "he --> nsubj --> PRON\n",
      "reappeared --> ROOT --> VERB\n",
      ", --> punct --> PUNCT\n",
      "attending --> advcl --> VERB\n",
      "the --> det --> DET\n",
      "short --> amod --> ADJ\n",
      ", --> punct --> PUNCT\n",
      "neat --> amod --> ADJ\n",
      ", --> punct --> PUNCT\n",
      "brisk --> advmod --> ADV\n",
      "- --> punct --> PUNCT\n",
      "moving --> amod --> VERB\n",
      "aunt --> dobj --> NOUN\n",
      ", --> punct --> PUNCT\n",
      "\n",
      " --> dep --> SPACE\n",
      "and --> cc --> CCONJ\n",
      "her --> poss --> PRON\n",
      "elegant --> amod --> ADJ\n",
      "niece,--Mrs --> conj --> NOUN\n",
      ". --> punct --> PUNCT\n",
      "Weston --> nsubj --> PROPN\n",
      ", --> punct --> PUNCT\n",
      "like --> prep --> ADP\n",
      "a --> det --> DET\n",
      "sweet --> amod --> ADJ\n",
      "- --> punct --> PUNCT\n",
      "tempered --> amod --> VERB\n",
      "\n",
      " --> dep --> SPACE\n",
      "woman --> pobj --> NOUN\n",
      "and --> cc --> CCONJ\n",
      "a --> det --> DET\n",
      "good --> amod --> ADJ\n",
      "wife --> conj --> NOUN\n",
      ", --> punct --> PUNCT\n",
      "had --> aux --> AUX\n",
      "examined --> ROOT --> VERB\n",
      "the --> det --> DET\n",
      "passage --> dobj --> NOUN\n",
      "again --> advmod --> ADV\n",
      ", --> punct --> PUNCT\n",
      "\n",
      " --> dep --> SPACE\n",
      "and --> cc --> CCONJ\n",
      "found --> conj --> VERB\n",
      "the --> det --> DET\n",
      "evils --> dobj --> NOUN\n",
      "of --> prep --> ADP\n",
      "it --> pobj --> PRON\n",
      "much --> advmod --> ADV\n",
      "less --> advmod --> ADJ\n",
      "than --> mark --> SCONJ\n",
      "she --> nsubj --> PRON\n",
      "had --> aux --> AUX\n",
      "supposed --> advcl --> VERB\n",
      "before-- --> dobj --> NOUN\n",
      "\n",
      " --> dep --> SPACE\n",
      "indeed --> advmod --> ADV\n",
      "very --> advmod --> ADV\n",
      "trifling --> ccomp --> ADJ\n",
      "; --> punct --> PUNCT\n",
      "and --> cc --> CCONJ\n",
      "here --> advmod --> ADV\n",
      "ended --> conj --> VERB\n",
      "the --> det --> DET\n",
      "difficulties --> dobj --> NOUN\n",
      "of --> prep --> ADP\n",
      "decision --> pobj --> NOUN\n",
      ". --> punct --> PUNCT\n",
      "It --> nsubj --> PRON\n",
      "is --> ROOT --> AUX\n",
      "like --> prep --> ADP\n",
      "a --> det --> DET\n",
      "woman --> poss --> NOUN\n",
      "'s --> case --> PART\n",
      "writing --> pobj --> NOUN\n",
      ". --> punct --> PUNCT\n",
      "\"A --> compound --> PUNCT\n",
      "bride --> npadvmod --> NOUN\n",
      ", --> punct --> PUNCT\n",
      "you --> nsubj --> PRON\n",
      "know --> parataxis --> VERB\n",
      ", --> punct --> PUNCT\n",
      "must --> aux --> AUX\n",
      "appear --> ccomp --> VERB\n",
      "like --> prep --> ADP\n",
      "a --> det --> DET\n",
      "bride --> pobj --> NOUN\n",
      ", --> punct --> PUNCT\n",
      "but --> cc --> CCONJ\n",
      "my --> poss --> PRON\n",
      "natural --> amod --> ADJ\n",
      "taste --> nsubj --> NOUN\n",
      "\n",
      " --> dep --> SPACE\n",
      "is --> conj --> AUX\n",
      "all --> attr --> PRON\n",
      "for --> prep --> ADP\n",
      "simplicity --> pobj --> NOUN\n",
      "; --> punct --> PUNCT\n",
      "a --> det --> DET\n",
      "simple --> amod --> ADJ\n",
      "style --> nsubj --> NOUN\n",
      "of --> prep --> ADP\n",
      "dress --> pobj --> NOUN\n",
      "is --> ROOT --> AUX\n",
      "so --> advmod --> ADV\n",
      "infinitely --> advmod --> ADV\n",
      "\n",
      " --> dep --> SPACE\n",
      "preferable --> acomp --> ADJ\n",
      "to --> prep --> ADP\n",
      "finery --> pobj --> NOUN\n",
      ". --> punct --> PUNCT\n",
      "She --> nsubj --> PRON\n",
      "had --> ROOT --> VERB\n",
      "no --> det --> DET\n",
      "doubt --> dobj --> NOUN\n",
      "as --> prep --> ADP\n",
      "to --> prep --> ADP\n",
      "his --> nsubj --> PRON\n",
      "being --> pcomp --> AUX\n",
      "less --> acomp --> ADV\n",
      "in --> prep --> ADP\n",
      "love --> pobj --> NOUN\n",
      "-- --> punct --> PUNCT\n",
      "but --> cc --> CCONJ\n",
      "neither --> preconj --> CCONJ\n",
      "his --> poss --> PRON\n",
      "\n",
      " --> dep --> SPACE\n",
      "agitated --> amod --> ADJ\n",
      "spirits --> nsubj --> NOUN\n",
      ", --> punct --> PUNCT\n",
      "nor --> cc --> CCONJ\n",
      "his --> poss --> PRON\n",
      "hurrying --> advcl --> VERB\n",
      "away --> prt --> ADV\n",
      ", --> punct --> PUNCT\n",
      "seemed --> conj --> VERB\n",
      "like --> prep --> ADP\n",
      "a --> det --> DET\n",
      "perfect --> amod --> ADJ\n",
      "cure --> pobj --> NOUN\n",
      "; --> punct --> PUNCT\n",
      "\n",
      " --> dep --> SPACE\n",
      "and --> cc --> CCONJ\n",
      "she --> nsubj --> PRON\n",
      "was --> conj --> AUX\n",
      "rather --> advmod --> ADV\n",
      "inclined --> acomp --> ADJ\n",
      "to --> aux --> PART\n",
      "think --> xcomp --> VERB\n",
      "it --> nsubj --> PRON\n",
      "implied --> ccomp --> VERB\n",
      "a --> det --> DET\n",
      "dread --> dobj --> NOUN\n",
      "of --> prep --> ADP\n",
      "her --> poss --> PRON\n",
      "\n",
      " --> dep --> SPACE\n",
      "returning --> amod --> VERB\n",
      "power --> pobj --> NOUN\n",
      ", --> punct --> PUNCT\n",
      "and --> cc --> CCONJ\n",
      "a --> det --> DET\n",
      "discreet --> amod --> ADJ\n",
      "resolution --> conj --> NOUN\n",
      "of --> prep --> ADP\n",
      "not --> neg --> PART\n",
      "trusting --> pcomp --> VERB\n",
      "himself --> dobj --> PRON\n",
      "\n",
      " --> dep --> SPACE\n",
      "with --> prep --> ADP\n",
      "her --> poss --> PRON\n",
      "long --> pobj --> ADV\n",
      ". --> punct --> PUNCT\n",
      "\"John --> nsubj --> PROPN\n",
      "enters --> ccomp --> VERB\n",
      "like --> prep --> ADP\n",
      "a --> det --> DET\n",
      "brother --> pobj --> NOUN\n",
      "into --> prep --> ADP\n",
      "my --> poss --> PRON\n",
      "happiness --> pobj --> NOUN\n",
      ", --> punct --> PUNCT\n",
      "\" --> punct --> PUNCT\n",
      "continued --> ROOT --> VERB\n",
      "Mr. --> compound --> PROPN\n",
      "Knightley --> nsubj --> PROPN\n",
      ", --> punct --> PUNCT\n",
      "\n",
      " --> dep --> SPACE\n",
      "\" --> punct --> PUNCT\n",
      "but --> cc --> CCONJ\n",
      "he --> nsubj --> PRON\n",
      "is --> conj --> AUX\n",
      "no --> det --> DET\n",
      "complimenter --> attr --> NOUN\n",
      "; --> punct --> PUNCT\n",
      "and --> cc --> CCONJ\n",
      "though --> mark --> SCONJ\n",
      "I --> nsubj --> PRON\n",
      "well --> advmod --> ADV\n",
      "know --> advcl --> VERB\n",
      "him --> nsubj --> PRON\n",
      "to --> aux --> PART\n",
      "have --> ccomp --> VERB\n",
      ", --> punct --> PUNCT\n",
      "\n",
      " --> dep --> SPACE\n",
      "likewise --> advmod --> ADV\n",
      ", --> punct --> PUNCT\n",
      "a --> det --> DET\n",
      "most --> advmod --> ADV\n",
      "brotherly --> amod --> ADJ\n",
      "affection --> dobj --> NOUN\n",
      "for --> prep --> ADP\n",
      "you --> pobj --> PRON\n",
      ", --> punct --> PUNCT\n",
      "he --> nsubj --> PRON\n",
      "is --> conj --> AUX\n",
      "so --> advmod --> ADV\n",
      "far --> advmod --> ADV\n",
      "from --> prep --> ADP\n",
      "\n",
      " --> dep --> SPACE\n",
      "making --> pcomp --> VERB\n",
      "flourishes --> dobj --> NOUN\n",
      ", --> punct --> PUNCT\n",
      "that --> mark --> SCONJ\n",
      "any --> det --> DET\n",
      "other --> amod --> ADJ\n",
      "young --> amod --> ADJ\n",
      "woman --> nsubj --> NOUN\n",
      "might --> aux --> AUX\n",
      "think --> ccomp --> VERB\n",
      "him --> nsubj --> PRON\n",
      "rather --> advmod --> ADV\n",
      "\n",
      " --> dep --> SPACE\n",
      "cool --> ccomp --> ADJ\n",
      "in --> prep --> ADP\n",
      "her --> poss --> PRON\n",
      "praise --> pobj --> NOUN\n",
      ". --> punct --> PUNCT\n",
      "\"He --> nsubj --> PUNCT\n",
      "writes --> ccomp --> VERB\n",
      "like --> prep --> ADP\n",
      "a --> det --> DET\n",
      "sensible --> amod --> ADJ\n",
      "man --> pobj --> NOUN\n",
      ", --> punct --> PUNCT\n",
      "\" --> punct --> PUNCT\n",
      "replied --> ROOT --> VERB\n",
      "Emma --> nsubj --> PROPN\n",
      ", --> punct --> PUNCT\n",
      "when --> advmod --> SCONJ\n",
      "she --> nsubj --> PRON\n",
      "had --> aux --> AUX\n",
      "read --> advcl --> VERB\n",
      "\n",
      " --> dep --> SPACE\n",
      "the --> det --> DET\n",
      "letter --> dobj --> NOUN\n",
      ". --> punct --> PUNCT\n",
      "Was --> ccomp --> AUX\n",
      "not --> neg --> PART\n",
      "she --> nsubj --> PRON\n",
      "like --> prep --> ADP\n",
      "a --> det --> DET\n",
      "daughter --> pobj --> NOUN\n",
      ", --> punct --> PUNCT\n",
      "\n",
      " --> dep --> SPACE\n",
      "his --> poss --> PRON\n",
      "eldest --> amod --> ADJ\n",
      "daughter?--he --> nsubj --> NOUN\n",
      "must --> aux --> AUX\n",
      "tell --> relcl --> VERB\n",
      "her --> dobj --> PRON\n",
      "; --> punct --> PUNCT\n",
      "and --> cc --> CCONJ\n",
      "Miss --> compound --> PROPN\n",
      "Bates --> nsubj --> PROPN\n",
      "being --> conj --> AUX\n",
      "present --> acomp --> ADJ\n",
      ", --> punct --> PUNCT\n",
      "\n",
      " --> dep --> SPACE\n",
      "it --> nsubj --> PRON\n",
      "passed --> ROOT --> VERB\n",
      ", --> punct --> PUNCT\n",
      "of --> prep --> ADP\n",
      "course --> pobj --> NOUN\n",
      ", --> punct --> PUNCT\n",
      "to --> prep --> ADP\n",
      "Mrs. --> compound --> PROPN\n",
      "Cole --> pobj --> PROPN\n",
      ", --> punct --> PUNCT\n",
      "Mrs. --> compound --> PROPN\n"
     ]
    },
    {
     "name": "stdout",
     "output_type": "stream",
     "text": [
      "Perry --> conj --> PROPN\n",
      ", --> punct --> PUNCT\n",
      "and --> cc --> CCONJ\n",
      "Mrs. --> compound --> PROPN\n",
      "Elton --> conj --> PROPN\n",
      ", --> punct --> PUNCT\n",
      "\n",
      " --> dep --> SPACE\n",
      "immediately --> advmod --> ADV\n",
      "afterwards --> advmod --> ADV\n",
      ". --> punct --> PUNCT\n"
     ]
    }
   ],
   "source": [
    "# print token, dependency, POS tag \n",
    "for tok in doc: \n",
    "  print(tok.text, \"-->\",tok.dep_,\"-->\", tok.pos_)"
   ]
  },
  {
   "cell_type": "markdown",
   "metadata": {},
   "source": [
    "It seems like a good start would be to define a pattern with \"like a\" followed by a noun. So first, we define that pattern. \n",
    "\n",
    "Run/Shift+Enter. "
   ]
  },
  {
   "cell_type": "code",
   "execution_count": 19,
   "metadata": {},
   "outputs": [],
   "source": [
    "#define the pattern \n",
    "pattern = [{'LOWER': 'like'}, \n",
    "           {'LOWER': 'a'}, \n",
    "           {'POS': 'NOUN'}]"
   ]
  },
  {
   "cell_type": "markdown",
   "metadata": {},
   "source": [
    "Next, we run a function called Matcher over the text that returns all of the substrings that match the pattern. \n",
    "\n",
    "Run/Shift+Enter. "
   ]
  },
  {
   "cell_type": "code",
   "execution_count": 22,
   "metadata": {},
   "outputs": [
    {
     "ename": "TypeError",
     "evalue": "add() takes exactly 2 positional arguments (3 given)",
     "output_type": "error",
     "traceback": [
      "\u001b[1;31m---------------------------------------------------------------------------\u001b[0m",
      "\u001b[1;31mTypeError\u001b[0m                                 Traceback (most recent call last)",
      "\u001b[1;32m<ipython-input-22-d532d6763a0c>\u001b[0m in \u001b[0;36m<module>\u001b[1;34m\u001b[0m\n\u001b[0;32m      1\u001b[0m \u001b[1;31m# Matcher class object\u001b[0m\u001b[1;33m\u001b[0m\u001b[1;33m\u001b[0m\u001b[1;33m\u001b[0m\u001b[0m\n\u001b[0;32m      2\u001b[0m \u001b[0mmatcher\u001b[0m \u001b[1;33m=\u001b[0m \u001b[0mMatcher\u001b[0m\u001b[1;33m(\u001b[0m\u001b[0mnlp\u001b[0m\u001b[1;33m.\u001b[0m\u001b[0mvocab\u001b[0m\u001b[1;33m)\u001b[0m\u001b[1;33m\u001b[0m\u001b[1;33m\u001b[0m\u001b[0m\n\u001b[1;32m----> 3\u001b[1;33m \u001b[0mmatcher\u001b[0m\u001b[1;33m.\u001b[0m\u001b[0madd\u001b[0m\u001b[1;33m(\u001b[0m\u001b[1;34m\"matching_1\"\u001b[0m\u001b[1;33m,\u001b[0m \u001b[1;32mNone\u001b[0m\u001b[1;33m,\u001b[0m \u001b[0mpattern\u001b[0m\u001b[1;33m)\u001b[0m\u001b[1;33m\u001b[0m\u001b[1;33m\u001b[0m\u001b[0m\n\u001b[0m\u001b[0;32m      4\u001b[0m \u001b[1;33m\u001b[0m\u001b[0m\n\u001b[0;32m      5\u001b[0m \u001b[0mmatches\u001b[0m \u001b[1;33m=\u001b[0m \u001b[0mmatcher\u001b[0m\u001b[1;33m(\u001b[0m\u001b[0mdoc\u001b[0m\u001b[1;33m)\u001b[0m\u001b[1;33m\u001b[0m\u001b[1;33m\u001b[0m\u001b[0m\n",
      "\u001b[1;32mc:\\python39\\lib\\site-packages\\spacy\\matcher\\matcher.pyx\u001b[0m in \u001b[0;36mspacy.matcher.matcher.Matcher.add\u001b[1;34m()\u001b[0m\n",
      "\u001b[1;31mTypeError\u001b[0m: add() takes exactly 2 positional arguments (3 given)"
     ]
    }
   ],
   "source": [
    "# Matcher class object \n",
    "matcher = Matcher(nlp.vocab) \n",
    "matcher.add(\"matching_1\", None, pattern) \n",
    "\n",
    "matches = matcher(doc) \n",
    "for match_id, start, end in matches:\n",
    "    string_id = nlp.vocab.strings[match_id]  # Get string representation\n",
    "    span = doc[start:end]  # The matched span\n",
    "    print(span.text)"
   ]
  },
  {
   "cell_type": "markdown",
   "metadata": {},
   "source": [
    "As you would expect, we get a list of substrings that match the pattern we have defined. Let's create a little more ambitious pattern. \n",
    "\n",
    "This time, we want to capture verbs followed by \"like a\" followed by up to three optional modifiers (adverbs and adjectives) and finally followed by a noun. \n",
    "\n",
    "Run/Shift+Enter. "
   ]
  },
  {
   "cell_type": "code",
   "execution_count": null,
   "metadata": {},
   "outputs": [],
   "source": [
    "# Matcher class object\n",
    "matcher = Matcher(nlp.vocab)\n",
    "\n",
    "#redefine the pattern\n",
    "pattern2 = [{'POS':'VERB'},\n",
    "           {'LOWER': 'like'},\n",
    "           {'LOWER': 'a'},\n",
    "           {'DEP':'amod', 'OP':\"?\"},\n",
    "           {'DEP':'amod', 'OP':\"?\"},\n",
    "           {'DEP':'amod', 'OP':\"?\"},\n",
    "           {'POS': 'NOUN'}]\n",
    "\n",
    "matcher.add(\"matching_1\", None, pattern2)\n",
    "matches = matcher(doc)\n",
    "\n",
    "for match_id, start, end in matches:\n",
    "    string_id = nlp.vocab.strings[match_id]  # Get string representation\n",
    "    span = doc[start:end]  # The matched span\n",
    "    print(span.text)"
   ]
  },
  {
   "cell_type": "markdown",
   "metadata": {},
   "source": [
    "Well, this is more interesting. We see that some one can 'look like a sensible young man', can 'argue like a young man' and can 'write like a sensible man'. This suggests that the author, or possible society at the time of publication, associates these verbs and these adjectives with men. Potentially, the analysis is even more complicated in that young men might argue while old men do not, or that sensible men write much more often than other men. \n",
    "\n",
    "If we continued to analyse the text in this way, we might also find a similar combinations for verbs and adjectives associated with women. Will there be any evidence that (young) women are sensible? Or that women write or argue in ways that are comparable to how men write and argue? \n"
   ]
  },
  {
   "cell_type": "markdown",
   "metadata": {},
   "source": [
    "## Conclusions"
   ]
  },
  {
   "cell_type": "markdown",
   "metadata": {},
   "source": [
    "We have only started to dip our toes into what NLP can do, but hopefully this will whet your appetite to know more. \n",
    "\n",
    "As before, these exercises and this sample code should highlight to you that you need to think about:\n",
    "- your research questions and what you want to show, explore or understand, \n",
    "- your data, texts, corpus, or other research materials to analyse etc. \n",
    "- how your processes are related to your reserch questions, and \n",
    "- how your processes and data can be made available and reproducible. "
   ]
  },
  {
   "cell_type": "markdown",
   "metadata": {},
   "source": [
    "## Further reading and resources"
   ]
  },
  {
   "cell_type": "markdown",
   "metadata": {},
   "source": [
    "Books, tutorials, package recommendations, etc. for Python\n",
    "- Natural Language Processing with Python by Steven Bird, Ewan Klein and Edward Loper, http://www.nltk.org/book/\n",
    "- Foundations of Statistical Natural Language Processing by Christopher Manning and Hinrich Schütze, https://nlp.stanford.edu/fsnlp/promo/\n",
    "- Speech and Language Processing: An Introduction to Natural Language Processing, Computational Linguistics and Speech Recognition by Dan Jurafsky and James H. Martin, https://web.stanford.edu/~jurafsky/slp3/ed3book.pdf\n",
    "- Deep Learning in Natural Language Processing by Li Deng, Yang Liu, https://lidengsite.wordpress.com/book-chapters/\n",
    "- nltk.corpus http://www.nltk.org/howto/corpus.html\n",
    "- spaCy https://nlpforhackers.io/complete-guide-to-spacy/\n",
    "\n",
    "Books and package recommendations for R\n",
    "- Quanteda, an R package for text analysis https://quanteda.io/​\n",
    "- Text Mining with R, a free online book https://www.tidytextmining.com/​"
   ]
  },
  {
   "cell_type": "markdown",
   "metadata": {},
   "source": [
    "<div style=\"text-align: right\"><a href=\"./tm-processing-2020-06-16.ipynb\" target=_blank><i>Previous section: Processing text</i></a></div>"
   ]
  }
 ],
 "metadata": {
  "kernelspec": {
   "display_name": "Python 3",
   "language": "python",
   "name": "python3"
  },
  "language_info": {
   "codemirror_mode": {
    "name": "ipython",
    "version": 3
   },
   "file_extension": ".py",
   "mimetype": "text/x-python",
   "name": "python",
   "nbconvert_exporter": "python",
   "pygments_lexer": "ipython3",
   "version": "3.9.5"
  },
  "toc": {
   "base_numbering": 1,
   "nav_menu": {},
   "number_sections": true,
   "sideBar": true,
   "skip_h1_title": true,
   "title_cell": "Table of Contents",
   "title_sidebar": "Contents",
   "toc_cell": true,
   "toc_position": {},
   "toc_section_display": true,
   "toc_window_display": false
  }
 },
 "nbformat": 4,
 "nbformat_minor": 2
}
